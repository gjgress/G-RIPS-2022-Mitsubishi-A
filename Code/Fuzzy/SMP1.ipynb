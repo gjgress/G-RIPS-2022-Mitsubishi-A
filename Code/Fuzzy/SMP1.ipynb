{
 "cells": [
  {
   "cell_type": "markdown",
   "id": "c3072662",
   "metadata": {},
   "source": [
    "# Import Library "
   ]
  },
  {
   "cell_type": "code",
   "execution_count": 143,
   "id": "8c840a19",
   "metadata": {},
   "outputs": [],
   "source": [
    "# load dependencies'\n",
    "import concurrent.futures\n",
    "import pandas as pd\n",
    "import geopandas as gpd\n",
    "from shapely.geometry import shape\n",
    "import osmnx as ox\n",
    "import networkx as nx\n",
    "import numpy as np\n",
    "import requests\n",
    "import json\n",
    "import matplotlib.pyplot as plt\n",
    "from urllib.parse import urljoin\n",
    "from shapely.geometry import Point, LineString, Polygon\n",
    "import pyproj \n",
    "import mm_utils\n",
    "from FIS2 import FIS2\n",
    "from datetime import datetime"
   ]
  },
  {
   "cell_type": "code",
   "execution_count": 144,
   "id": "82ef34f1",
   "metadata": {},
   "outputs": [],
   "source": [
    "def get_bearing(point1, point2):\n",
    "    # this code calculate the bearing of any given pair of longitude, latitude  \n",
    "    geodesic = pyproj.Geod(ellps='WGS84')\n",
    "    fwd_azimuth,back_azimuth,distance = geodesic.inv(point1[0], point1[1], point2[0], point2[1])\n",
    "    return fwd_azimuth\n",
    "\n",
    "def edge_bearing(edge):\n",
    "    # this function calculate the bearing from the starting and ending node of each road segment\n",
    "    bearing = get_bearing(edge[0], edge[len(edge) - 1])\n",
    "    return(bearing)\n",
    "    \n",
    "def conv_angle(angle):\n",
    "    # this function convert angle from -pi,pi to 0,2*pi\n",
    "    if angle < 0 :\n",
    "        angle = angle + 360\n",
    "    return(angle)\n",
    "\n",
    "def conc(a):\n",
    "    #function to convert list or integer in osmid into a unique string id \n",
    "    if type(a) is int:\n",
    "        return str(a)\n",
    "    ans = \",\".join(map(str, a))\n",
    "    return ans\n",
    "\n",
    "def err_polygon(curr_loc, err_size):\n",
    "    # function that output shapely polygon for point error bound\n",
    "    x = curr_loc['geometry'].iloc[0].x\n",
    "    y = curr_loc['geometry'].iloc[0].y\n",
    "    \n",
    "    err_coord = [[x - err_size, y + err_size], \n",
    "                 [x + err_size, y + err_size],\n",
    "                 [x + err_size, y - err_size],\n",
    "                 [x - err_size, y - err_size]]\n",
    "\n",
    "    poly_coord = Polygon(err_coord)\n",
    "    # #print(ply_coord)\n",
    "    df = {'Attribute' : ['name1'], 'geometry':poly_coord}\n",
    "\n",
    "    #projected to UTM 31 \n",
    "    err_poly = gpd.GeoDataFrame(df, geometry = 'geometry', crs = \"EPSG:32631\")\n",
    "    \n",
    "    return err_poly"
   ]
  },
  {
   "cell_type": "code",
   "execution_count": 166,
   "id": "93b21023",
   "metadata": {},
   "outputs": [
    {
     "name": "stderr",
     "output_type": "stream",
     "text": [
      "C:\\Users\\j_3r3\\.conda\\envs\\ox\\Lib\\site-packages\\pyproj\\crs\\crs.py:141: FutureWarning: '+init=<authority>:<code>' syntax is deprecated. '<authority>:<code>' is the preferred initialization method. When making the change, be mindful of axis order changes: https://pyproj4.github.io/pyproj/stable/gotchas.html#axis-order-changes-in-proj-6\n",
      "  in_crs_string = _prepare_from_proj_string(in_crs_string)\n"
     ]
    }
   ],
   "source": [
    "gdf_utm = pd.read_pickle('gdf_utm.pkl')\n",
    "edges_utm = pd.read_pickle('edges_utm.pkl')\n",
    "nodes_utm = pd.read_pickle('nodes_utm.pkl')\n",
    "curr_edge = pd.read_pickle('current_edge.pkl')\n",
    "\n",
    "# for debugging purposes start at iteration point 15 \n",
    "point_index = 13\n",
    "# this is for debugging purposes, true \n",
    "last_matched = gpd.GeoDataFrame(geometry=gpd.points_from_xy([819609.861], [5766244.800]), crs=\"EPSG:32631\")\n",
    "\n",
    "# current location \n",
    "curr_loc = gdf_utm.iloc[point_index].to_frame().T\n",
    "\n",
    "# find longitude and latitude for last matched data\n",
    "last_matched['lon_lat'] = last_matched.to_crs({'init': 'epsg:4326'})\n"
   ]
  },
  {
   "cell_type": "code",
   "execution_count": 175,
   "id": "bec91339",
   "metadata": {},
   "outputs": [
    {
     "name": "stderr",
     "output_type": "stream",
     "text": [
      "C:\\Users\\j_3r3\\.conda\\envs\\ox\\Lib\\site-packages\\scipy\\optimize\\_minpack_py.py:1010: OptimizeWarning: Covariance of the parameters could not be estimated\n",
      "  warnings.warn('Covariance of the parameters could not be estimated',\n"
     ]
    },
    {
     "data": {
      "text/plain": [
       "49.99819310019818"
      ]
     },
     "execution_count": 175,
     "metadata": {},
     "output_type": "execute_result"
    }
   ],
   "source": [
    "# extract node id\n",
    "edge_node1 = nodes_utm.loc[curr_edge.index[0][0]]\n",
    "edge_node2 = nodes_utm.loc[curr_edge.index[0][1]]\n",
    "\n",
    "# select the end node \n",
    "if (curr_loc['GPS Bearing'].iloc[0] > 0 and curr_loc['GPS Bearing'].iloc[0] < 180):\n",
    "    # if object movint to the right of map select the one with larger longitude\n",
    "    if edge_node1.x > edge_node2.x:\n",
    "        end_node = edge_node1\n",
    "        start_node = edge_node2\n",
    "    else:\n",
    "        end_node = edge_node2\n",
    "        start_node = edge_node1\n",
    "else:\n",
    "    # if object is moving to the left select node with smaller longitude\n",
    "    if edge_node1.x < edge_node2.x:\n",
    "        end_node = edge_node1\n",
    "        start_node = edge_node2\n",
    "    else:\n",
    "        end_node = edge_node2\n",
    "        start_node = edge_node1\n",
    "\n",
    "\n",
    "# finding angle alpha, which is the angle between previous matched point and current postion \n",
    "# find pos_bearing1, bearing between last matched point and current point\n",
    "# convert two points into tuple for function input purposes\n",
    "last_matched_tuple = (last_matched['lon_lat'].x.iloc[0], last_matched['lon_lat'].y.iloc[0])\n",
    "cur_loc_tuple = curr_loc['lon_lat'].iloc[0].x, curr_loc['lon_lat'].iloc[0].y\n",
    "pos_bearing1 = get_bearing(last_matched_tuple, cur_loc_tuple)\n",
    "# convert to 0, 2pi \n",
    "pos_bearing1 = conv_angle(pos_bearing1)\n",
    "\n",
    "# find bearing of the edge \n",
    "# convert lat lon into tupple coordinate \n",
    "start_node_tuple = (start_node.x, start_node.y)\n",
    "end_node_tuple = (end_node.x, end_node.y)\n",
    "# bearing between start to end\n",
    "start_bearing = get_bearing(start_node_tuple, end_node_tuple)\n",
    "# convert to 0 ,2*pi\n",
    "start_bearing = conv_angle(start_bearing)\n",
    "alpha = abs(pos_bearing - start_bearing)\n",
    "\n",
    "# find beta, angle between end node and current position \n",
    "# bearing from end to start \n",
    "end_bearing = get_bearing(end_node_tuple, start_node_tuple)\n",
    "end_bearing = conv_angle(end_bearing)\n",
    "#pos_bearing2 beating between end node and current position \n",
    "pos_bearing2 = get_bearing(end_node_tuple, cur_loc_tuple)\n",
    "pos_bearing = conv_angle(pos_bearing)\n",
    "# beta equal to abs(end_bearing minus pos_bearing2)\n",
    "beta = abs(end_bearing - pos_bearing)\n",
    "\n",
    "\n",
    "# Heading Increment  \n",
    "HI = gdf_utm['GPS Bearing'].iloc[point_index] - gdf_utm['GPS Bearing'].iloc[point_index - 1]\n",
    "\n",
    "# distance travelled from last position fix to the end nodes\n",
    "d = end_node['geometry'].distance(curr_loc['geometry']).iloc[0]\n",
    "\n",
    "# distance travelled since last position fix \n",
    "t = gdf_utm['time'].iloc[point_index] - gdf_utm['time'].iloc[point_index - 1]\n",
    "d2 = (gdf_utm['speed_mps'].iloc[point_index])* t.seconds\n",
    "\n",
    "delta_d = d - d2\n",
    "\n",
    "speed = gdf_utm['speed_mps'][point_index]\n",
    "hdop = gdf_utm['GPS HDOP'][point_index]\n",
    "\n",
    "# rearrange new data to the input of fis1  \n",
    "new_data = np.array([speed,hdop, alpha, beta, delta_d, HI, HI]).T\n",
    "\n",
    "FIS2(new_data, plot = False)\n"
   ]
  }
 ],
 "metadata": {
  "kernelspec": {
   "display_name": "Python (ox)",
   "language": "python",
   "name": "myenv"
  },
  "language_info": {
   "codemirror_mode": {
    "name": "ipython",
    "version": 3
   },
   "file_extension": ".py",
   "mimetype": "text/x-python",
   "name": "python",
   "nbconvert_exporter": "python",
   "pygments_lexer": "ipython3",
   "version": "3.11.4"
  }
 },
 "nbformat": 4,
 "nbformat_minor": 5
}
