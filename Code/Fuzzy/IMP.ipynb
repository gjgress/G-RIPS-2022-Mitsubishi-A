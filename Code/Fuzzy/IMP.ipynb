{
 "cells": [
  {
   "cell_type": "code",
   "execution_count": 101,
   "id": "ae3a827a-4e4e-4c99-9ce8-49785f45269c",
   "metadata": {},
   "outputs": [],
   "source": [
    "# This is an implementation of imp step based on Gorte paper "
   ]
  },
  {
   "cell_type": "code",
   "execution_count": 2,
   "id": "81a4a667-b359-4fae-8b01-ca31252e710b",
   "metadata": {},
   "outputs": [],
   "source": [
    "# load dependencies'\n",
    "import concurrent.futures\n",
    "import pandas as pd\n",
    "import geopandas as gpd\n",
    "from shapely.geometry import shape\n",
    "import osmnx as ox\n",
    "import networkx as nx\n",
    "import numpy as np\n",
    "import requests\n",
    "import json\n",
    "import matplotlib.pyplot as plt\n",
    "from urllib.parse import urljoin\n",
    "from shapely.geometry import Point, LineString, Polygon\n",
    "import pyproj \n",
    "import mm_utils\n",
    "from function_util import *\n",
    "from IMP import IMP\n",
    "from FIS1 import FIS1"
   ]
  },
  {
   "cell_type": "markdown",
   "id": "8ad92f5d",
   "metadata": {},
   "source": [
    "# Project data into UTM 32 "
   ]
  },
  {
   "cell_type": "code",
   "execution_count": 3,
   "id": "a4043c0f",
   "metadata": {
    "scrolled": true
   },
   "outputs": [],
   "source": [
    "gdf_utm = pd.read_pickle('gdf_utm.pkl')\n",
    "edges_utm = pd.read_pickle('edges_utm.pkl')\n"
   ]
  },
  {
   "cell_type": "markdown",
   "id": "157d6fbd",
   "metadata": {},
   "source": [
    "# Project trajectory into utm 31"
   ]
  },
  {
   "cell_type": "markdown",
   "id": "c605fce4",
   "metadata": {},
   "source": [
    "# Perform IMP "
   ]
  },
  {
   "cell_type": "code",
   "execution_count": 4,
   "id": "d8106a5e",
   "metadata": {},
   "outputs": [
    {
     "name": "stderr",
     "output_type": "stream",
     "text": [
      "C:\\Users\\j_3r3\\.conda\\envs\\ox\\Lib\\site-packages\\IPython\\core\\interactiveshell.py:3505: FutureWarning: The `op` parameter is deprecated and will be removed in a future release. Please use the `predicate` parameter instead.\n",
      "  exec(code_obj, self.user_global_ns, self.user_ns)\n",
      "C:\\Users\\j_3r3\\.conda\\envs\\ox\\Lib\\site-packages\\IPython\\core\\interactiveshell.py:3505: FutureWarning: The `op` parameter is deprecated and will be removed in a future release. Please use the `predicate` parameter instead.\n",
      "  exec(code_obj, self.user_global_ns, self.user_ns)\n",
      "C:\\Users\\j_3r3\\.conda\\envs\\ox\\Lib\\site-packages\\IPython\\core\\interactiveshell.py:3505: FutureWarning: The `op` parameter is deprecated and will be removed in a future release. Please use the `predicate` parameter instead.\n",
      "  exec(code_obj, self.user_global_ns, self.user_ns)\n",
      "C:\\Users\\j_3r3\\.conda\\envs\\ox\\Lib\\site-packages\\IPython\\core\\interactiveshell.py:3505: FutureWarning: The `op` parameter is deprecated and will be removed in a future release. Please use the `predicate` parameter instead.\n",
      "  exec(code_obj, self.user_global_ns, self.user_ns)\n",
      "C:\\Users\\j_3r3\\.conda\\envs\\ox\\Lib\\site-packages\\IPython\\core\\interactiveshell.py:3505: FutureWarning: The `op` parameter is deprecated and will be removed in a future release. Please use the `predicate` parameter instead.\n",
      "  exec(code_obj, self.user_global_ns, self.user_ns)\n",
      "C:\\Users\\j_3r3\\.conda\\envs\\ox\\Lib\\site-packages\\IPython\\core\\interactiveshell.py:3505: FutureWarning: The `op` parameter is deprecated and will be removed in a future release. Please use the `predicate` parameter instead.\n",
      "  exec(code_obj, self.user_global_ns, self.user_ns)\n",
      "C:\\Users\\j_3r3\\.conda\\envs\\ox\\Lib\\site-packages\\IPython\\core\\interactiveshell.py:3505: FutureWarning: The `op` parameter is deprecated and will be removed in a future release. Please use the `predicate` parameter instead.\n",
      "  exec(code_obj, self.user_global_ns, self.user_ns)\n",
      "C:\\Users\\j_3r3\\.conda\\envs\\ox\\Lib\\site-packages\\IPython\\core\\interactiveshell.py:3505: FutureWarning: The `op` parameter is deprecated and will be removed in a future release. Please use the `predicate` parameter instead.\n",
      "  exec(code_obj, self.user_global_ns, self.user_ns)\n",
      "C:\\Users\\j_3r3\\.conda\\envs\\ox\\Lib\\site-packages\\IPython\\core\\interactiveshell.py:3505: FutureWarning: The `op` parameter is deprecated and will be removed in a future release. Please use the `predicate` parameter instead.\n",
      "  exec(code_obj, self.user_global_ns, self.user_ns)\n",
      "C:\\Users\\j_3r3\\.conda\\envs\\ox\\Lib\\site-packages\\IPython\\core\\interactiveshell.py:3505: FutureWarning: The `op` parameter is deprecated and will be removed in a future release. Please use the `predicate` parameter instead.\n",
      "  exec(code_obj, self.user_global_ns, self.user_ns)\n",
      "C:\\Users\\j_3r3\\.conda\\envs\\ox\\Lib\\site-packages\\IPython\\core\\interactiveshell.py:3505: FutureWarning: The `op` parameter is deprecated and will be removed in a future release. Please use the `predicate` parameter instead.\n",
      "  exec(code_obj, self.user_global_ns, self.user_ns)\n",
      "C:\\Users\\j_3r3\\.conda\\envs\\ox\\Lib\\site-packages\\IPython\\core\\interactiveshell.py:3505: FutureWarning: The `op` parameter is deprecated and will be removed in a future release. Please use the `predicate` parameter instead.\n",
      "  exec(code_obj, self.user_global_ns, self.user_ns)\n",
      "C:\\Users\\j_3r3\\.conda\\envs\\ox\\Lib\\site-packages\\IPython\\core\\interactiveshell.py:3505: FutureWarning: The `op` parameter is deprecated and will be removed in a future release. Please use the `predicate` parameter instead.\n",
      "  exec(code_obj, self.user_global_ns, self.user_ns)\n",
      "C:\\Users\\j_3r3\\.conda\\envs\\ox\\Lib\\site-packages\\IPython\\core\\interactiveshell.py:3505: FutureWarning: The `op` parameter is deprecated and will be removed in a future release. Please use the `predicate` parameter instead.\n",
      "  exec(code_obj, self.user_global_ns, self.user_ns)\n"
     ]
    },
    {
     "name": "stdout",
     "output_type": "stream",
     "text": [
      "['no edeges intersects with error bound at iteration number', 1]\n",
      "['no edeges intersects with error bound at iteration number', 2]\n",
      "['no edeges intersects with error bound at iteration number', 3]\n",
      "['no edeges intersects with error bound at iteration number', 4]\n",
      "['no edeges intersects with error bound at iteration number', 5]\n",
      "['no edeges intersects with error bound at iteration number', 6]\n",
      "['no edeges intersects with error bound at iteration number', 7]\n"
     ]
    },
    {
     "name": "stderr",
     "output_type": "stream",
     "text": [
      "C:\\Users\\j_3r3\\.conda\\envs\\ox\\Lib\\site-packages\\IPython\\core\\interactiveshell.py:3505: FutureWarning: The `op` parameter is deprecated and will be removed in a future release. Please use the `predicate` parameter instead.\n",
      "  exec(code_obj, self.user_global_ns, self.user_ns)\n",
      "C:\\Users\\j_3r3\\.conda\\envs\\ox\\Lib\\site-packages\\IPython\\core\\interactiveshell.py:3505: FutureWarning: The `op` parameter is deprecated and will be removed in a future release. Please use the `predicate` parameter instead.\n",
      "  exec(code_obj, self.user_global_ns, self.user_ns)\n",
      "C:\\Users\\j_3r3\\.conda\\envs\\ox\\Lib\\site-packages\\IPython\\core\\interactiveshell.py:3505: FutureWarning: The `op` parameter is deprecated and will be removed in a future release. Please use the `predicate` parameter instead.\n",
      "  exec(code_obj, self.user_global_ns, self.user_ns)\n",
      "C:\\Users\\j_3r3\\.conda\\envs\\ox\\Lib\\site-packages\\IPython\\core\\interactiveshell.py:3505: FutureWarning: The `op` parameter is deprecated and will be removed in a future release. Please use the `predicate` parameter instead.\n",
      "  exec(code_obj, self.user_global_ns, self.user_ns)\n",
      "C:\\Users\\j_3r3\\.conda\\envs\\ox\\Lib\\site-packages\\IPython\\core\\interactiveshell.py:3505: FutureWarning: The `op` parameter is deprecated and will be removed in a future release. Please use the `predicate` parameter instead.\n",
      "  exec(code_obj, self.user_global_ns, self.user_ns)\n",
      "C:\\Users\\j_3r3\\.conda\\envs\\ox\\Lib\\site-packages\\IPython\\core\\interactiveshell.py:3505: FutureWarning: The `op` parameter is deprecated and will be removed in a future release. Please use the `predicate` parameter instead.\n",
      "  exec(code_obj, self.user_global_ns, self.user_ns)\n",
      "C:\\Users\\j_3r3\\.conda\\envs\\ox\\Lib\\site-packages\\IPython\\core\\interactiveshell.py:3505: FutureWarning: The `op` parameter is deprecated and will be removed in a future release. Please use the `predicate` parameter instead.\n",
      "  exec(code_obj, self.user_global_ns, self.user_ns)\n",
      "C:\\Users\\j_3r3\\.conda\\envs\\ox\\Lib\\site-packages\\IPython\\core\\interactiveshell.py:3505: FutureWarning: The `op` parameter is deprecated and will be removed in a future release. Please use the `predicate` parameter instead.\n",
      "  exec(code_obj, self.user_global_ns, self.user_ns)\n",
      "C:\\Users\\j_3r3\\.conda\\envs\\ox\\Lib\\site-packages\\IPython\\core\\interactiveshell.py:3505: FutureWarning: The `op` parameter is deprecated and will be removed in a future release. Please use the `predicate` parameter instead.\n",
      "  exec(code_obj, self.user_global_ns, self.user_ns)\n",
      "C:\\Users\\j_3r3\\.conda\\envs\\ox\\Lib\\site-packages\\IPython\\core\\interactiveshell.py:3505: FutureWarning: The `op` parameter is deprecated and will be removed in a future release. Please use the `predicate` parameter instead.\n",
      "  exec(code_obj, self.user_global_ns, self.user_ns)\n",
      "C:\\Users\\j_3r3\\.conda\\envs\\ox\\Lib\\site-packages\\scipy\\optimize\\_minpack_py.py:1010: OptimizeWarning: Covariance of the parameters could not be estimated\n",
      "  warnings.warn('Covariance of the parameters could not be estimated',\n",
      "C:\\Users\\j_3r3\\.conda\\envs\\ox\\Lib\\site-packages\\scipy\\optimize\\_minpack_py.py:1010: OptimizeWarning: Covariance of the parameters could not be estimated\n",
      "  warnings.warn('Covariance of the parameters could not be estimated',\n",
      "C:\\Users\\j_3r3\\.conda\\envs\\ox\\Lib\\site-packages\\scipy\\optimize\\_minpack_py.py:1010: OptimizeWarning: Covariance of the parameters could not be estimated\n",
      "  warnings.warn('Covariance of the parameters could not be estimated',\n",
      "C:\\Users\\j_3r3\\.conda\\envs\\ox\\Lib\\site-packages\\scipy\\optimize\\_minpack_py.py:1010: OptimizeWarning: Covariance of the parameters could not be estimated\n",
      "  warnings.warn('Covariance of the parameters could not be estimated',\n",
      "C:\\Users\\j_3r3\\.conda\\envs\\ox\\Lib\\site-packages\\IPython\\core\\interactiveshell.py:3505: FutureWarning: The `op` parameter is deprecated and will be removed in a future release. Please use the `predicate` parameter instead.\n",
      "  exec(code_obj, self.user_global_ns, self.user_ns)\n"
     ]
    },
    {
     "name": "stdout",
     "output_type": "stream",
     "text": [
      "['no edeges intersects with error bound at iteration number', 8]\n",
      "['no edeges intersects with error bound at iteration number', 9]\n",
      "['no edeges intersects with error bound at iteration number', 10]\n",
      "['no edeges intersects with error bound at iteration number', 11]\n",
      "['edges found at iteration number', 12]\n"
     ]
    },
    {
     "name": "stderr",
     "output_type": "stream",
     "text": [
      "C:\\Users\\j_3r3\\.conda\\envs\\ox\\Lib\\site-packages\\IPython\\core\\interactiveshell.py:3505: FutureWarning: The `op` parameter is deprecated and will be removed in a future release. Please use the `predicate` parameter instead.\n",
      "  exec(code_obj, self.user_global_ns, self.user_ns)\n",
      "C:\\Users\\j_3r3\\.conda\\envs\\ox\\Lib\\site-packages\\scipy\\optimize\\_minpack_py.py:1010: OptimizeWarning: Covariance of the parameters could not be estimated\n",
      "  warnings.warn('Covariance of the parameters could not be estimated',\n",
      "C:\\Users\\j_3r3\\.conda\\envs\\ox\\Lib\\site-packages\\scipy\\optimize\\_minpack_py.py:1010: OptimizeWarning: Covariance of the parameters could not be estimated\n",
      "  warnings.warn('Covariance of the parameters could not be estimated',\n",
      "C:\\Users\\j_3r3\\.conda\\envs\\ox\\Lib\\site-packages\\scipy\\optimize\\_minpack_py.py:1010: OptimizeWarning: Covariance of the parameters could not be estimated\n",
      "  warnings.warn('Covariance of the parameters could not be estimated',\n",
      "C:\\Users\\j_3r3\\.conda\\envs\\ox\\Lib\\site-packages\\scipy\\optimize\\_minpack_py.py:1010: OptimizeWarning: Covariance of the parameters could not be estimated\n",
      "  warnings.warn('Covariance of the parameters could not be estimated',\n",
      "C:\\Users\\j_3r3\\.conda\\envs\\ox\\Lib\\site-packages\\scipy\\optimize\\_minpack_py.py:1010: OptimizeWarning: Covariance of the parameters could not be estimated\n",
      "  warnings.warn('Covariance of the parameters could not be estimated',\n",
      "C:\\Users\\j_3r3\\.conda\\envs\\ox\\Lib\\site-packages\\scipy\\optimize\\_minpack_py.py:1010: OptimizeWarning: Covariance of the parameters could not be estimated\n",
      "  warnings.warn('Covariance of the parameters could not be estimated',\n"
     ]
    },
    {
     "name": "stdout",
     "output_type": "stream",
     "text": [
      "['edges found at iteration number', 13]\n",
      "['stopping at position', 12]\n"
     ]
    },
    {
     "data": {
      "image/png": "[encoded data removed]",
      "text/plain": [
       "<Figure size 640x480 with 1 Axes>"
      ]
     },
     "metadata": {},
     "output_type": "display_data"
    }
   ],
   "source": [
    "pt_index, curr_edge = IMP(gdf_utm, edges_utm, 2, plot = True)"
   ]
  },
  {
   "cell_type": "code",
   "execution_count": 5,
   "id": "c4e4d414",
   "metadata": {},
   "outputs": [
    {
     "data": {
      "text/plain": [
       "12"
      ]
     },
     "execution_count": 5,
     "metadata": {},
     "output_type": "execute_result"
    }
   ],
   "source": [
    "pt_index"
   ]
  },
  {
   "cell_type": "code",
   "execution_count": 6,
   "id": "4bbd9be7",
   "metadata": {},
   "outputs": [
    {
     "data": {
      "text/html": [
       "<div>\n",
       "<style scoped>\n",
       "    .dataframe tbody tr th:only-of-type {\n",
       "        vertical-align: middle;\n",
       "    }\n",
       "\n",
       "    .dataframe tbody tr th {\n",
       "        vertical-align: top;\n",
       "    }\n",
       "\n",
       "    .dataframe thead th {\n",
       "        text-align: right;\n",
       "    }\n",
       "</style>\n",
       "<table border=\"1\" class=\"dataframe\">\n",
       "  <thead>\n",
       "    <tr style=\"text-align: right;\">\n",
       "      <th></th>\n",
       "      <th></th>\n",
       "      <th></th>\n",
       "      <th>osmid</th>\n",
       "      <th>lanes</th>\n",
       "      <th>ref</th>\n",
       "      <th>name</th>\n",
       "      <th>highway</th>\n",
       "      <th>maxspeed</th>\n",
       "      <th>oneway</th>\n",
       "      <th>reversed</th>\n",
       "      <th>length</th>\n",
       "      <th>geometry</th>\n",
       "      <th>access</th>\n",
       "      <th>width</th>\n",
       "      <th>lon_lat</th>\n",
       "      <th>str_id</th>\n",
       "      <th>perp_dist</th>\n",
       "      <th>lon_lat_pair</th>\n",
       "      <th>edge_heading</th>\n",
       "      <th>heading_error</th>\n",
       "    </tr>\n",
       "    <tr>\n",
       "      <th>u</th>\n",
       "      <th>v</th>\n",
       "      <th>key</th>\n",
       "      <th></th>\n",
       "      <th></th>\n",
       "      <th></th>\n",
       "      <th></th>\n",
       "      <th></th>\n",
       "      <th></th>\n",
       "      <th></th>\n",
       "      <th></th>\n",
       "      <th></th>\n",
       "      <th></th>\n",
       "      <th></th>\n",
       "      <th></th>\n",
       "      <th></th>\n",
       "      <th></th>\n",
       "      <th></th>\n",
       "      <th></th>\n",
       "      <th></th>\n",
       "      <th></th>\n",
       "    </tr>\n",
       "  </thead>\n",
       "  <tbody>\n",
       "    <tr>\n",
       "      <th>135535395</th>\n",
       "      <th>53200191</th>\n",
       "      <th>0</th>\n",
       "      <td>[673214248, 234046511]</td>\n",
       "      <td>3</td>\n",
       "      <td>L 793</td>\n",
       "      <td>Wolbecker Straße</td>\n",
       "      <td>secondary</td>\n",
       "      <td>50</td>\n",
       "      <td>False</td>\n",
       "      <td>False</td>\n",
       "      <td>54.889</td>\n",
       "      <td>LINESTRING (407409.636 5756871.844, 407400.559...</td>\n",
       "      <td>NaN</td>\n",
       "      <td>NaN</td>\n",
       "      <td>LINESTRING (7.65261 51.95483, 7.65247 51.95483...</td>\n",
       "      <td>673214248,234046511</td>\n",
       "      <td>15.797749</td>\n",
       "      <td>[(7.6526059, 51.9548309), (7.6524737, 51.95483...</td>\n",
       "      <td>273.998415</td>\n",
       "      <td>23.501585</td>\n",
       "    </tr>\n",
       "  </tbody>\n",
       "</table>\n",
       "</div>"
      ],
      "text/plain": [
       "                                         osmid lanes    ref              name  \\\n",
       "u         v        key                                                          \n",
       "135535395 53200191 0    [673214248, 234046511]     3  L 793  Wolbecker Straße   \n",
       "\n",
       "                          highway maxspeed  oneway  reversed  length  \\\n",
       "u         v        key                                                 \n",
       "135535395 53200191 0    secondary       50   False     False  54.889   \n",
       "\n",
       "                                                                 geometry  \\\n",
       "u         v        key                                                      \n",
       "135535395 53200191 0    LINESTRING (407409.636 5756871.844, 407400.559...   \n",
       "\n",
       "                       access width  \\\n",
       "u         v        key                \n",
       "135535395 53200191 0      NaN   NaN   \n",
       "\n",
       "                                                                  lon_lat  \\\n",
       "u         v        key                                                      \n",
       "135535395 53200191 0    LINESTRING (7.65261 51.95483, 7.65247 51.95483...   \n",
       "\n",
       "                                     str_id  perp_dist  \\\n",
       "u         v        key                                   \n",
       "135535395 53200191 0    673214248,234046511  15.797749   \n",
       "\n",
       "                                                             lon_lat_pair  \\\n",
       "u         v        key                                                      \n",
       "135535395 53200191 0    [(7.6526059, 51.9548309), (7.6524737, 51.95483...   \n",
       "\n",
       "                        edge_heading  heading_error  \n",
       "u         v        key                               \n",
       "135535395 53200191 0      273.998415      23.501585  "
      ]
     },
     "execution_count": 6,
     "metadata": {},
     "output_type": "execute_result"
    }
   ],
   "source": [
    "curr_edge"
   ]
  },
  {
   "cell_type": "markdown",
   "id": "ac0b68ae",
   "metadata": {},
   "source": [
    "# Plot Result"
   ]
  },
  {
   "cell_type": "code",
   "execution_count": 5,
   "id": "71e517df",
   "metadata": {},
   "outputs": [
    {
     "data": {
      "text/plain": [
       "<Axes: >"
      ]
     },
     "execution_count": 5,
     "metadata": {},
     "output_type": "execute_result"
    }
   ],
   "source": [
    "%matplotlib tk\n",
    "# This is how we  visualize edges and error bound \n",
    "\n",
    "# find which edges is selected at time point\n",
    "# find index of the edge id\n",
    "loc = np.where(edges_utm[\"str_id\"] == conc(edge_link[count]))\n",
    "\n",
    "# find the last two position for IMP\n",
    "poly_1 = err_polygon(curr_pos_list[count + iter - 2], err_size)\n",
    "poly_2 = err_polygon(curr_pos_list[count + iter - 3], err_size)\n",
    "\n",
    "#Save selected edge \n",
    "answer_loc = edges_utm.iloc[loc]\n",
    "\n",
    "# plotting edges and starting point together \n",
    "f, ax = plt.subplots()\n",
    "\n",
    "# location for all point\n",
    "#locs_utm.plot(ax=ax)\n",
    "point_locs = gdf_utm['geometry'].to_frame()\n",
    "point_locs.iloc[0:(iter), :].plot(ax = ax)\n",
    "\n",
    "#err coord \n",
    "# better if we just take location at the last and use error bound function \n",
    "poly_1.plot(ax=ax, facecolor=\"none\")\n",
    "poly_2.plot(ax=ax, facecolor=\"none\")\n",
    "\n",
    "# this plot all the road system \n",
    "edges_utm.plot(ax=ax)\n",
    "\n",
    "# this plot the selected edge at time point \n",
    "answer_loc.plot(ax=ax, cmap = \"Reds\")\n",
    "\n",
    "# matched point plot\n",
    "matched_point.plot(ax = ax, color = \"Green\")\n",
    "\n",
    "#print(intersects['index_right'])"
   ]
  },
  {
   "cell_type": "code",
   "execution_count": 107,
   "id": "3916b439",
   "metadata": {},
   "outputs": [
    {
     "data": {
      "text/plain": [
       "0     POINT (819633.5807833129 5766179.609685688)\n",
       "1     POINT (819622.5537502016 5766163.388639316)\n",
       "2     POINT (819626.0013702163 5766163.385287559)\n",
       "3     POINT (819632.6479374802 5766162.987711843)\n",
       "4     POINT (819643.6418708554 5766158.897275649)\n",
       "5     POINT (819649.3764079262 5766159.465666196)\n",
       "6     POINT (819653.2070335334 5766153.690892602)\n",
       "7      POINT (819656.3996371442 5766158.78538911)\n",
       "8      POINT (819660.8047981295 5766167.51956023)\n",
       "9     POINT (819661.9277071179 5766176.194010578)\n",
       "10     POINT (819666.404511811 5766203.248064032)\n",
       "11     POINT (819649.308062795 5766214.664886044)\n",
       "12    POINT (819609.7343499986 5766228.984348884)\n",
       "Name: geometry, dtype: object"
      ]
     },
     "execution_count": 107,
     "metadata": {},
     "output_type": "execute_result"
    }
   ],
   "source": [
    "# to convert current position list from list to dataframe \n",
    "# pd.concat(curr_pos_list)['geometry']"
   ]
  },
  {
   "cell_type": "code",
   "execution_count": 8,
   "id": "70f944cc",
   "metadata": {},
   "outputs": [],
   "source": [
    "# save saved edge location for SMP1 debugging purposes\n",
    "answer_loc.to_pickle('current_edge.pkl')"
   ]
  },
  {
   "cell_type": "markdown",
   "id": "a01602f1",
   "metadata": {},
   "source": [
    "# Debugging "
   ]
  },
  {
   "cell_type": "code",
   "execution_count": 20,
   "id": "8c1f9190",
   "metadata": {},
   "outputs": [
    {
     "name": "stderr",
     "output_type": "stream",
     "text": [
      "C:\\Users\\j_3r3\\.conda\\envs\\ox\\Lib\\site-packages\\IPython\\core\\interactiveshell.py:3445: FutureWarning: The `op` parameter is deprecated and will be removed in a future release. Please use the `predicate` parameter instead.\n",
      "  if await self.run_code(code, result, async_=asy):\n",
      "C:\\Users\\j_3r3\\.conda\\envs\\ox\\Lib\\site-packages\\IPython\\core\\interactiveshell.py:3445: FutureWarning: The `op` parameter is deprecated and will be removed in a future release. Please use the `predicate` parameter instead.\n",
      "  if await self.run_code(code, result, async_=asy):\n",
      "C:\\Users\\j_3r3\\.conda\\envs\\ox\\Lib\\site-packages\\IPython\\core\\interactiveshell.py:3445: FutureWarning: The `op` parameter is deprecated and will be removed in a future release. Please use the `predicate` parameter instead.\n",
      "  if await self.run_code(code, result, async_=asy):\n",
      "C:\\Users\\j_3r3\\.conda\\envs\\ox\\Lib\\site-packages\\IPython\\core\\interactiveshell.py:3445: FutureWarning: The `op` parameter is deprecated and will be removed in a future release. Please use the `predicate` parameter instead.\n",
      "  if await self.run_code(code, result, async_=asy):\n",
      "C:\\Users\\j_3r3\\.conda\\envs\\ox\\Lib\\site-packages\\IPython\\core\\interactiveshell.py:3445: FutureWarning: The `op` parameter is deprecated and will be removed in a future release. Please use the `predicate` parameter instead.\n",
      "  if await self.run_code(code, result, async_=asy):\n",
      "C:\\Users\\j_3r3\\.conda\\envs\\ox\\Lib\\site-packages\\IPython\\core\\interactiveshell.py:3445: FutureWarning: The `op` parameter is deprecated and will be removed in a future release. Please use the `predicate` parameter instead.\n",
      "  if await self.run_code(code, result, async_=asy):\n",
      "C:\\Users\\j_3r3\\.conda\\envs\\ox\\Lib\\site-packages\\IPython\\core\\interactiveshell.py:3445: FutureWarning: The `op` parameter is deprecated and will be removed in a future release. Please use the `predicate` parameter instead.\n",
      "  if await self.run_code(code, result, async_=asy):\n",
      "C:\\Users\\j_3r3\\.conda\\envs\\ox\\Lib\\site-packages\\IPython\\core\\interactiveshell.py:3445: FutureWarning: The `op` parameter is deprecated and will be removed in a future release. Please use the `predicate` parameter instead.\n",
      "  if await self.run_code(code, result, async_=asy):\n",
      "C:\\Users\\j_3r3\\.conda\\envs\\ox\\Lib\\site-packages\\IPython\\core\\interactiveshell.py:3445: FutureWarning: The `op` parameter is deprecated and will be removed in a future release. Please use the `predicate` parameter instead.\n",
      "  if await self.run_code(code, result, async_=asy):\n",
      "C:\\Users\\j_3r3\\.conda\\envs\\ox\\Lib\\site-packages\\IPython\\core\\interactiveshell.py:3445: FutureWarning: The `op` parameter is deprecated and will be removed in a future release. Please use the `predicate` parameter instead.\n",
      "  if await self.run_code(code, result, async_=asy):\n",
      "C:\\Users\\j_3r3\\.conda\\envs\\ox\\Lib\\site-packages\\IPython\\core\\interactiveshell.py:3445: FutureWarning: The `op` parameter is deprecated and will be removed in a future release. Please use the `predicate` parameter instead.\n",
      "  if await self.run_code(code, result, async_=asy):\n",
      "C:\\Users\\j_3r3\\.conda\\envs\\ox\\Lib\\site-packages\\IPython\\core\\interactiveshell.py:3445: FutureWarning: The `op` parameter is deprecated and will be removed in a future release. Please use the `predicate` parameter instead.\n",
      "  if await self.run_code(code, result, async_=asy):\n",
      "C:\\Users\\j_3r3\\.conda\\envs\\ox\\Lib\\site-packages\\IPython\\core\\interactiveshell.py:3445: FutureWarning: The `op` parameter is deprecated and will be removed in a future release. Please use the `predicate` parameter instead.\n",
      "  if await self.run_code(code, result, async_=asy):\n",
      "C:\\Users\\j_3r3\\.conda\\envs\\ox\\Lib\\site-packages\\IPython\\core\\interactiveshell.py:3445: FutureWarning: The `op` parameter is deprecated and will be removed in a future release. Please use the `predicate` parameter instead.\n",
      "  if await self.run_code(code, result, async_=asy):\n",
      "C:\\Users\\j_3r3\\.conda\\envs\\ox\\Lib\\site-packages\\IPython\\core\\interactiveshell.py:3445: FutureWarning: The `op` parameter is deprecated and will be removed in a future release. Please use the `predicate` parameter instead.\n",
      "  if await self.run_code(code, result, async_=asy):\n",
      "C:\\Users\\j_3r3\\.conda\\envs\\ox\\Lib\\site-packages\\IPython\\core\\interactiveshell.py:3445: FutureWarning: The `op` parameter is deprecated and will be removed in a future release. Please use the `predicate` parameter instead.\n",
      "  if await self.run_code(code, result, async_=asy):\n"
     ]
    },
    {
     "name": "stdout",
     "output_type": "stream",
     "text": [
      "['no edeges intersects with error bound at iteration number', 1]\n",
      "['no edeges intersects with error bound at iteration number', 2]\n",
      "['no edeges intersects with error bound at iteration number', 3]\n",
      "['no edeges intersects with error bound at iteration number', 4]\n",
      "['no edeges intersects with error bound at iteration number', 5]\n",
      "['no edeges intersects with error bound at iteration number', 6]\n",
      "['no edeges intersects with error bound at iteration number', 7]\n",
      "['no edeges intersects with error bound at iteration number', 8]\n"
     ]
    },
    {
     "name": "stderr",
     "output_type": "stream",
     "text": [
      "C:\\Users\\j_3r3\\.conda\\envs\\ox\\Lib\\site-packages\\IPython\\core\\interactiveshell.py:3445: FutureWarning: The `op` parameter is deprecated and will be removed in a future release. Please use the `predicate` parameter instead.\n",
      "  if await self.run_code(code, result, async_=asy):\n",
      "C:\\Users\\j_3r3\\.conda\\envs\\ox\\Lib\\site-packages\\IPython\\core\\interactiveshell.py:3445: FutureWarning: The `op` parameter is deprecated and will be removed in a future release. Please use the `predicate` parameter instead.\n",
      "  if await self.run_code(code, result, async_=asy):\n",
      "C:\\Users\\j_3r3\\.conda\\envs\\ox\\Lib\\site-packages\\IPython\\core\\interactiveshell.py:3445: FutureWarning: The `op` parameter is deprecated and will be removed in a future release. Please use the `predicate` parameter instead.\n",
      "  if await self.run_code(code, result, async_=asy):\n",
      "C:\\Users\\j_3r3\\.conda\\envs\\ox\\Lib\\site-packages\\IPython\\core\\interactiveshell.py:3445: FutureWarning: The `op` parameter is deprecated and will be removed in a future release. Please use the `predicate` parameter instead.\n",
      "  if await self.run_code(code, result, async_=asy):\n",
      "C:\\Users\\j_3r3\\.conda\\envs\\ox\\Lib\\site-packages\\IPython\\core\\interactiveshell.py:3445: FutureWarning: The `op` parameter is deprecated and will be removed in a future release. Please use the `predicate` parameter instead.\n",
      "  if await self.run_code(code, result, async_=asy):\n",
      "C:\\Users\\j_3r3\\.conda\\envs\\ox\\Lib\\site-packages\\IPython\\core\\interactiveshell.py:3445: FutureWarning: The `op` parameter is deprecated and will be removed in a future release. Please use the `predicate` parameter instead.\n",
      "  if await self.run_code(code, result, async_=asy):\n",
      "C:\\Users\\j_3r3\\.conda\\envs\\ox\\Lib\\site-packages\\IPython\\core\\interactiveshell.py:3445: FutureWarning: The `op` parameter is deprecated and will be removed in a future release. Please use the `predicate` parameter instead.\n",
      "  if await self.run_code(code, result, async_=asy):\n",
      "C:\\Users\\j_3r3\\.conda\\envs\\ox\\Lib\\site-packages\\IPython\\core\\interactiveshell.py:3445: FutureWarning: The `op` parameter is deprecated and will be removed in a future release. Please use the `predicate` parameter instead.\n",
      "  if await self.run_code(code, result, async_=asy):\n",
      "C:\\Users\\j_3r3\\.conda\\envs\\ox\\Lib\\site-packages\\scipy\\optimize\\_minpack_py.py:1010: OptimizeWarning: Covariance of the parameters could not be estimated\n",
      "  warnings.warn('Covariance of the parameters could not be estimated',\n",
      "C:\\Users\\j_3r3\\.conda\\envs\\ox\\Lib\\site-packages\\scipy\\optimize\\_minpack_py.py:1010: OptimizeWarning: Covariance of the parameters could not be estimated\n",
      "  warnings.warn('Covariance of the parameters could not be estimated',\n",
      "C:\\Users\\j_3r3\\.conda\\envs\\ox\\Lib\\site-packages\\scipy\\optimize\\_minpack_py.py:1010: OptimizeWarning: Covariance of the parameters could not be estimated\n",
      "  warnings.warn('Covariance of the parameters could not be estimated',\n",
      "C:\\Users\\j_3r3\\.conda\\envs\\ox\\Lib\\site-packages\\scipy\\optimize\\_minpack_py.py:1010: OptimizeWarning: Covariance of the parameters could not be estimated\n",
      "  warnings.warn('Covariance of the parameters could not be estimated',\n",
      "C:\\Users\\j_3r3\\.conda\\envs\\ox\\Lib\\site-packages\\IPython\\core\\interactiveshell.py:3445: FutureWarning: The `op` parameter is deprecated and will be removed in a future release. Please use the `predicate` parameter instead.\n",
      "  if await self.run_code(code, result, async_=asy):\n",
      "C:\\Users\\j_3r3\\.conda\\envs\\ox\\Lib\\site-packages\\IPython\\core\\interactiveshell.py:3445: FutureWarning: The `op` parameter is deprecated and will be removed in a future release. Please use the `predicate` parameter instead.\n",
      "  if await self.run_code(code, result, async_=asy):\n",
      "C:\\Users\\j_3r3\\.conda\\envs\\ox\\Lib\\site-packages\\scipy\\optimize\\_minpack_py.py:1010: OptimizeWarning: Covariance of the parameters could not be estimated\n",
      "  warnings.warn('Covariance of the parameters could not be estimated',\n",
      "C:\\Users\\j_3r3\\.conda\\envs\\ox\\Lib\\site-packages\\scipy\\optimize\\_minpack_py.py:1010: OptimizeWarning: Covariance of the parameters could not be estimated\n",
      "  warnings.warn('Covariance of the parameters could not be estimated',\n",
      "C:\\Users\\j_3r3\\.conda\\envs\\ox\\Lib\\site-packages\\scipy\\optimize\\_minpack_py.py:1010: OptimizeWarning: Covariance of the parameters could not be estimated\n",
      "  warnings.warn('Covariance of the parameters could not be estimated',\n",
      "C:\\Users\\j_3r3\\.conda\\envs\\ox\\Lib\\site-packages\\scipy\\optimize\\_minpack_py.py:1010: OptimizeWarning: Covariance of the parameters could not be estimated\n",
      "  warnings.warn('Covariance of the parameters could not be estimated',\n",
      "C:\\Users\\j_3r3\\.conda\\envs\\ox\\Lib\\site-packages\\scipy\\optimize\\_minpack_py.py:1010: OptimizeWarning: Covariance of the parameters could not be estimated\n",
      "  warnings.warn('Covariance of the parameters could not be estimated',\n"
     ]
    },
    {
     "name": "stdout",
     "output_type": "stream",
     "text": [
      "['no edeges intersects with error bound at iteration number', 9]\n",
      "['no edeges intersects with error bound at iteration number', 10]\n",
      "['no edeges intersects with error bound at iteration number', 11]\n",
      "['edges found at iteration number', 12]\n",
      "['edges found at iteration number', 13]\n",
      "['stopping at position', 12]\n"
     ]
    },
    {
     "name": "stderr",
     "output_type": "stream",
     "text": [
      "C:\\Users\\j_3r3\\.conda\\envs\\ox\\Lib\\site-packages\\scipy\\optimize\\_minpack_py.py:1010: OptimizeWarning: Covariance of the parameters could not be estimated\n",
      "  warnings.warn('Covariance of the parameters could not be estimated',\n"
     ]
    }
   ],
   "source": [
    "#---------------------------------------------------------------------------\n",
    "# n i s the number of same points detected to edges needed to stop IMP\n",
    "# function return index of location noted as starting point. \n",
    "# initialization for IMP\n",
    "count = 0 \n",
    "same_link = 0\n",
    "stop_iter = False\n",
    "iter = 0\n",
    "err_size = 38\n",
    "n = 2\n",
    "\n",
    "# saving answer for debugging purposes \n",
    "# edge_link saves all the candidate link name for each iteration \n",
    "# final answer is stored in the edge_link variable \n",
    "edge_link = []\n",
    "# store fixed points : points projection to edge\n",
    "fixed_points = []\n",
    "# fis_res saves the output of FIS algorithm at every iteration \n",
    "fis_res = []\n",
    "# HE_iter saves the heading error values for each candidate edge at any given iteration \n",
    "HE_iter = [] \n",
    "#curr_pos\n",
    "curr_pos_list = []\n",
    "# save candidate link name each iteration  \n",
    "candidate_link_res = []\n",
    "\n",
    "while stop_iter == False :\n",
    "    # extract current location at given iteration \n",
    "    curr_loc = gdf_utm.iloc[[iter]]\n",
    "    # save the iteration current position as a list\n",
    "    curr_pos_list.append(curr_loc)\n",
    "\n",
    "    #-----------------------------------------------------------------------\n",
    "    # input should be location and error size \n",
    "    # create rectangular polygon \n",
    "    err_poly = err_polygon(curr_loc, err_size)\n",
    "\n",
    "    # to plot error polygon for debugging\n",
    "    # err_poly.plot()\n",
    "\n",
    "    #---------------------------------------------------------------------------\n",
    "\n",
    "    # Check for intersection and containment using geopandas\n",
    "    intersects = gpd.sjoin(err_poly, edges_utm, op='intersects')\n",
    "    contains = gpd.sjoin(err_poly, edges_utm, op='contains')\n",
    "\n",
    "    if (len(intersects) + len(contains)) <=0:\n",
    "        print(['no edeges intersects with error bound at iteration number', iter + 1])\n",
    "    else:    \n",
    "        # perform IMP only when there is edge intersects with error bound\n",
    "        print(['edges found at iteration number', iter + 1])\n",
    "\n",
    "        # extract index from edges that intersect with error polygon \n",
    "        int_index = intersects[['index_right0', 'index_right1', 'index_right2']]\n",
    "        # extract index from edges that contained in the error polygon \n",
    "        cont_index = contains[['index_right0', 'index_right1', 'index_right2']]\n",
    "\n",
    "        # merge index\n",
    "        index = pd.concat([int_index, cont_index])\n",
    "        # drop duplicate\n",
    "        index = index.drop_duplicates()\n",
    "\n",
    "        # initialize candidate edges \n",
    "        appended_edge = []\n",
    "\n",
    "        # extract candidate eges  \n",
    "        for i in range(len(index)):\n",
    "            edge_list = (index['index_right0'].iloc[i], index['index_right1'].iloc[i], 0 )\n",
    "            appended_edge.append(edge_list)\n",
    "\n",
    "        candidate_link = edges_utm.loc[appended_edge]\n",
    "\n",
    "        #save candidate link name \n",
    "        candidate_link_res.append(candidate_link['osmid'])\n",
    "\n",
    "        # calculate perpendicular distance \n",
    "        # initialize list that hold perpendicular distance between points and edges\n",
    "        p_dist = []\n",
    "\n",
    "        # calculate perpendicular distance between current point and \n",
    "        for i in range(len(candidate_link)):\n",
    "            p_dist.append(candidate_link['geometry'].iloc[i].distance(curr_loc['geometry']).iloc[0])\n",
    "\n",
    "        # attach perpendicular distance to candidate link \n",
    "        candidate_link[\"perp_dist\"] = p_dist\n",
    "\n",
    "        # print(candidate_link)\n",
    "\n",
    "        # calculate heading error\n",
    "        # convert lat lon into tupple coordinate \n",
    "        candidate_link['lon_lat_pair'] = candidate_link.lon_lat.apply(lambda geom: list(geom.coords))\n",
    "\n",
    "        # calculate bearing frome start and end node for each candidate link (see notes below)\n",
    "        bearing_raw = candidate_link['lon_lat_pair'].apply(edge_bearing)\n",
    "\n",
    "        # convert bearing from -pi, pi to 0, 2pi range\n",
    "        candidate_link['edge_heading'] = bearing_raw.apply(conv_angle)\n",
    "\n",
    "        # heading error = abs(gps heading - edge bearing)\n",
    "        candidate_link['heading_error'] = abs(candidate_link['edge_heading'] - gdf_utm['GPS Bearing'].iloc[iter])\n",
    "\n",
    "        # initialize input for FIS\n",
    "        PD = candidate_link['perp_dist']\n",
    "        HE = candidate_link['heading_error']\n",
    "        speed = np.repeat(gdf_utm['speed_mps'][iter]/ 3.6, len(candidate_link))\n",
    "        hdop = np.repeat(gdf_utm['GPS HDOP'][iter], len(candidate_link))\n",
    "\n",
    "        # save HE value every iter \n",
    "        HE_iter.append(HE)\n",
    "        # rearrange new data to the input of fis1  \n",
    "        new_data = np.array([speed, HE, PD, hdop]).T\n",
    "\n",
    "        # calculating FIS\n",
    "        pred =[]\n",
    "        for i in range(len(new_data)):\n",
    "            pred.append(FIS1(new_data[i,:], plot = False))\n",
    "\n",
    "        # print(pred)\n",
    "        # save fis result \n",
    "        fis_res.append(pred)\n",
    "\n",
    "        # pick candidate link based on \n",
    "        index = pred.index(max(pred))\n",
    "\n",
    "        edge_link.append(candidate_link['osmid'].iloc[index])\n",
    "\n",
    "        # check if the current position and previous position is in the same edge\n",
    "        if count > 0:\n",
    "            if edge_link[count] == edge_link[count - 1]:\n",
    "                same_link = same_link + 1\n",
    "            else:\n",
    "                same_link = 0\n",
    "\n",
    "        # check to stop the for loop if n points belong to the same edge\n",
    "        if same_link == (n - 1):\n",
    "            print(['stopping at position',iter])\n",
    "            stop_iter = True\n",
    "            # find projection point \n",
    "            matched_link = candidate_link.iloc[[index]]\n",
    "        else:\n",
    "            count = count + 1\n",
    "\n",
    "    #update iteration \n",
    "    iter = iter + 1\n",
    "\n",
    "\n",
    "        \n"
   ]
  },
  {
   "cell_type": "code",
   "execution_count": 17,
   "id": "156e18dc",
   "metadata": {},
   "outputs": [
    {
     "data": {
      "text/html": [
       "<div>\n",
       "<style scoped>\n",
       "    .dataframe tbody tr th:only-of-type {\n",
       "        vertical-align: middle;\n",
       "    }\n",
       "\n",
       "    .dataframe tbody tr th {\n",
       "        vertical-align: top;\n",
       "    }\n",
       "\n",
       "    .dataframe thead th {\n",
       "        text-align: right;\n",
       "    }\n",
       "</style>\n",
       "<table border=\"1\" class=\"dataframe\">\n",
       "  <thead>\n",
       "    <tr style=\"text-align: right;\">\n",
       "      <th></th>\n",
       "      <th></th>\n",
       "      <th></th>\n",
       "      <th>osmid</th>\n",
       "      <th>lanes</th>\n",
       "      <th>ref</th>\n",
       "      <th>name</th>\n",
       "      <th>highway</th>\n",
       "      <th>maxspeed</th>\n",
       "      <th>oneway</th>\n",
       "      <th>reversed</th>\n",
       "      <th>length</th>\n",
       "      <th>geometry</th>\n",
       "      <th>access</th>\n",
       "      <th>width</th>\n",
       "      <th>lon_lat</th>\n",
       "      <th>str_id</th>\n",
       "      <th>perp_dist</th>\n",
       "      <th>lon_lat_pair</th>\n",
       "      <th>edge_heading</th>\n",
       "      <th>heading_error</th>\n",
       "    </tr>\n",
       "    <tr>\n",
       "      <th>u</th>\n",
       "      <th>v</th>\n",
       "      <th>key</th>\n",
       "      <th></th>\n",
       "      <th></th>\n",
       "      <th></th>\n",
       "      <th></th>\n",
       "      <th></th>\n",
       "      <th></th>\n",
       "      <th></th>\n",
       "      <th></th>\n",
       "      <th></th>\n",
       "      <th></th>\n",
       "      <th></th>\n",
       "      <th></th>\n",
       "      <th></th>\n",
       "      <th></th>\n",
       "      <th></th>\n",
       "      <th></th>\n",
       "      <th></th>\n",
       "      <th></th>\n",
       "    </tr>\n",
       "  </thead>\n",
       "  <tbody>\n",
       "    <tr>\n",
       "      <th>135535395</th>\n",
       "      <th>53200191</th>\n",
       "      <th>0</th>\n",
       "      <td>[673214248, 234046511]</td>\n",
       "      <td>3</td>\n",
       "      <td>L 793</td>\n",
       "      <td>Wolbecker Straße</td>\n",
       "      <td>secondary</td>\n",
       "      <td>50</td>\n",
       "      <td>False</td>\n",
       "      <td>False</td>\n",
       "      <td>54.889</td>\n",
       "      <td>LINESTRING (407409.636 5756871.844, 407400.559...</td>\n",
       "      <td>NaN</td>\n",
       "      <td>NaN</td>\n",
       "      <td>LINESTRING (7.65261 51.95483, 7.65247 51.95483...</td>\n",
       "      <td>673214248,234046511</td>\n",
       "      <td>15.797749</td>\n",
       "      <td>[(7.6526059, 51.9548309), (7.6524737, 51.95483...</td>\n",
       "      <td>273.998415</td>\n",
       "      <td>23.501585</td>\n",
       "    </tr>\n",
       "  </tbody>\n",
       "</table>\n",
       "</div>"
      ],
      "text/plain": [
       "                                         osmid lanes    ref              name  \\\n",
       "u         v        key                                                          \n",
       "135535395 53200191 0    [673214248, 234046511]     3  L 793  Wolbecker Straße   \n",
       "\n",
       "                          highway maxspeed  oneway  reversed  length  \\\n",
       "u         v        key                                                 \n",
       "135535395 53200191 0    secondary       50   False     False  54.889   \n",
       "\n",
       "                                                                 geometry  \\\n",
       "u         v        key                                                      \n",
       "135535395 53200191 0    LINESTRING (407409.636 5756871.844, 407400.559...   \n",
       "\n",
       "                       access width  \\\n",
       "u         v        key                \n",
       "135535395 53200191 0      NaN   NaN   \n",
       "\n",
       "                                                                  lon_lat  \\\n",
       "u         v        key                                                      \n",
       "135535395 53200191 0    LINESTRING (7.65261 51.95483, 7.65247 51.95483...   \n",
       "\n",
       "                                     str_id  perp_dist  \\\n",
       "u         v        key                                   \n",
       "135535395 53200191 0    673214248,234046511  15.797749   \n",
       "\n",
       "                                                             lon_lat_pair  \\\n",
       "u         v        key                                                      \n",
       "135535395 53200191 0    [(7.6526059, 51.9548309), (7.6524737, 51.95483...   \n",
       "\n",
       "                        edge_heading  heading_error  \n",
       "u         v        key                               \n",
       "135535395 53200191 0      273.998415      23.501585  "
      ]
     },
     "execution_count": 17,
     "metadata": {},
     "output_type": "execute_result"
    }
   ],
   "source": [
    "matched_link"
   ]
  },
  {
   "cell_type": "code",
   "execution_count": 19,
   "id": "11e1d0d6",
   "metadata": {},
   "outputs": [
    {
     "data": {
      "text/html": [
       "<div>\n",
       "<style scoped>\n",
       "    .dataframe tbody tr th:only-of-type {\n",
       "        vertical-align: middle;\n",
       "    }\n",
       "\n",
       "    .dataframe tbody tr th {\n",
       "        vertical-align: top;\n",
       "    }\n",
       "\n",
       "    .dataframe thead th {\n",
       "        text-align: right;\n",
       "    }\n",
       "</style>\n",
       "<table border=\"1\" class=\"dataframe\">\n",
       "  <thead>\n",
       "    <tr style=\"text-align: right;\">\n",
       "      <th></th>\n",
       "      <th>geometry</th>\n",
       "    </tr>\n",
       "  </thead>\n",
       "  <tbody>\n",
       "    <tr>\n",
       "      <th>0</th>\n",
       "      <td>POINT (407378.832 5756874.410)</td>\n",
       "    </tr>\n",
       "  </tbody>\n",
       "</table>\n",
       "</div>"
      ],
      "text/plain": [
       "                         geometry\n",
       "0  POINT (407378.832 5756874.410)"
      ]
     },
     "execution_count": 19,
     "metadata": {},
     "output_type": "execute_result"
    }
   ],
   "source": [
    "matched_point"
   ]
  },
  {
   "cell_type": "code",
   "execution_count": 14,
   "id": "73551aa6",
   "metadata": {},
   "outputs": [
    {
     "data": {
      "text/plain": [
       "<Axes: >"
      ]
     },
     "execution_count": 14,
     "metadata": {},
     "output_type": "execute_result"
    }
   ],
   "source": [
    "%matplotlib tk\n",
    "# This is how we  visualize edges and error bound \n",
    "# find which edges is selected at time point\n",
    "# find index of the edge id\n",
    "loc = np.where(edges_utm[\"str_id\"] == conc(edge_link[count]))\n",
    "\n",
    "# find the last two position for IMP\n",
    "poly_1 = err_polygon(curr_pos_list[count + iter - 2], err_size)\n",
    "poly_2 = err_polygon(curr_pos_list[count + iter - 3], err_size)\n",
    "\n",
    "#Save selected edge \n",
    "answer_loc = edges_utm.iloc[loc]\n",
    "\n",
    "# plotting edges and starting point together \n",
    "f, ax = plt.subplots()\n",
    "\n",
    "# location for all point\n",
    "#locs_utm.plot(ax=ax)\n",
    "point_locs = gdf_utm['geometry'].to_frame()\n",
    "point_locs.iloc[0:(iter), :].plot(ax = ax)\n",
    "\n",
    "#err coord \n",
    "# better if we just take location at the last and use error bound function \n",
    "poly_1.plot(ax=ax, facecolor=\"none\")\n",
    "poly_2.plot(ax=ax, facecolor=\"none\")\n",
    "\n",
    "# this plot all the road system \n",
    "edges_utm.plot(ax=ax)\n",
    "\n",
    "# this plot the selected edge at time point \n",
    "answer_loc.plot(ax=ax, cmap = \"Reds\")\n",
    "\n",
    "# matched point plot\n",
    "matched_point.plot(ax = ax, color = \"Green\")"
   ]
  },
  {
   "cell_type": "code",
   "execution_count": 9,
   "id": "c6cfc4cb",
   "metadata": {},
   "outputs": [
    {
     "name": "stdout",
     "output_type": "stream",
     "text": [
      "LINESTRING (819585.7050122877 5766245.100258521, 819590.5220386329 5766245.029529899, 819603.4127470632 5766244.851285359, 819618.4301928144 5766244.731255461, 819621.3001876773 5766244.703163195, 819626.8358634054 5766244.499981426, 819631.704009773 5766244.599953373, 819640.8071610486 5766244.781650782)\n"
     ]
    }
   ],
   "source": [
    "print(candidate_link['geometry'].iloc[0])"
   ]
  },
  {
   "cell_type": "code",
   "execution_count": 11,
   "id": "4936a7dd",
   "metadata": {},
   "outputs": [
    {
     "name": "stdout",
     "output_type": "stream",
     "text": [
      "[(7.651807, 51.9548654), (7.6518768, 51.954862), (7.6520636, 51.954853), (7.6522813, 51.9548433), (7.6523229, 51.9548414), (7.652403, 51.9548364), (7.6524737, 51.9548345), (7.6526059, 51.9548309)]\n"
     ]
    }
   ],
   "source": [
    "print(candidate_link['lon_lat_pair'].iloc[0])"
   ]
  }
 ],
 "metadata": {
  "kernelspec": {
   "display_name": "Python (ox)",
   "language": "python",
   "name": "myenv"
  },
  "language_info": {
   "codemirror_mode": {
    "name": "ipython",
    "version": 3
   },
   "file_extension": ".py",
   "mimetype": "text/x-python",
   "name": "python",
   "nbconvert_exporter": "python",
   "pygments_lexer": "ipython3",
   "version": "3.11.4"
  }
 },
 "nbformat": 4,
 "nbformat_minor": 5
}
