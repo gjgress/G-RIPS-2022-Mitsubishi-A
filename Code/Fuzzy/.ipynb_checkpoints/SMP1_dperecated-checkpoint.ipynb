{
 "cells": [
  {
   "cell_type": "markdown",
   "id": "c3072662",
   "metadata": {},
   "source": [
    "# Import Library "
   ]
  },
  {
   "cell_type": "code",
   "execution_count": 1,
   "id": "8c840a19",
   "metadata": {},
   "outputs": [],
   "source": [
    "# load dependencies'\n",
    "import concurrent.futures\n",
    "import pandas as pd\n",
    "import geopandas as gpd\n",
    "from shapely.geometry import shape\n",
    "import osmnx as ox\n",
    "import networkx as nx\n",
    "import numpy as np\n",
    "import requests\n",
    "import json\n",
    "import matplotlib.pyplot as plt\n",
    "from urllib.parse import urljoin\n",
    "from shapely.geometry import Point, LineString, Polygon\n",
    "import pyproj \n",
    "import mm_utils\n",
    "from function_util import *\n",
    "from FIS2 import FIS2\n",
    "from datetime import datetime"
   ]
  },
  {
   "cell_type": "code",
   "execution_count": 3,
   "id": "82ef34f1",
   "metadata": {},
   "outputs": [],
   "source": [
    "def SMP1(curr_loc, prev_loc,last_matched, nodes_utm, edges_utm):\n",
    "    start_node, end_node = node_direction(curr_edge, nodes_utm, curr_loc)\n",
    "\n",
    "    # finding angle alpha, which is the angle between previous matched point and current postion \n",
    "    # find pos_bearing1, bearing between last matched point and current point\n",
    "    # convert two points into tuple for function input purposes\n",
    "    last_matched_tuple = (last_matched['lon_lat'].x.iloc[0], last_matched['lon_lat'].y.iloc[0])\n",
    "    cur_loc_tuple = curr_loc['lon_lat'].iloc[0].x, curr_loc['lon_lat'].iloc[0].y\n",
    "    pos_bearing1 = get_bearing(last_matched_tuple, cur_loc_tuple)\n",
    "    # convert to 0, 2pi \n",
    "    pos_bearing1 = conv_angle(pos_bearing1)\n",
    "\n",
    "    # find bearing of the edge \n",
    "    # convert lat lon into tupple coordinate \n",
    "    start_node_tuple = (start_node.lon, start_node.lat)\n",
    "    end_node_tuple = (end_node.lon, end_node.lat)\n",
    "    # bearing between start to end\n",
    "    start_bearing = get_bearing(start_node_tuple, end_node_tuple)\n",
    "    # convert to 0 ,2*pi\n",
    "    start_bearing = conv_angle(start_bearing)\n",
    "    alpha = abs(pos_bearing1 - start_bearing)\n",
    "\n",
    "    # find beta, angle between end node and current position \n",
    "    # bearing from end to start \n",
    "    end_bearing = get_bearing(end_node_tuple, start_node_tuple)\n",
    "    end_bearing = conv_angle(end_bearing)\n",
    "    #pos_bearing2 beating between end node and current position \n",
    "    pos_bearing2 = get_bearing(end_node_tuple, cur_loc_tuple)\n",
    "    pos_bearing2 = conv_angle(pos_bearing2)\n",
    "    # beta equal to abs(end_bearing minus pos_bearing2)\n",
    "    beta = abs(end_bearing - pos_bearing2)\n",
    "\n",
    "\n",
    "    # Heading Increment  \n",
    "    HI = gdf_utm['GPS Bearing'].iloc[point_index] - gdf_utm['GPS Bearing'].iloc[point_index - 1]\n",
    "\n",
    "    # distance travelled from last position fix to the end nodes\n",
    "    d = end_node['geometry'].distance(curr_loc['geometry']).iloc[0]\n",
    "\n",
    "    # distance travelled since last position fix \n",
    "    t = gdf_utm['time'].iloc[point_index] - gdf_utm['time'].iloc[point_index - 1]\n",
    "    d2 = (gdf_utm['speed_mps'].iloc[point_index])* t.seconds\n",
    "\n",
    "    delta_d = d - d2\n",
    "\n",
    "    speed = gdf_utm['speed_mps'][point_index]\n",
    "    hdop = gdf_utm['GPS HDOP'][point_index]\n",
    "\n",
    "    # rearrange new data to the input of fis1  \n",
    "    new_data = np.array([speed,hdop, alpha, beta, delta_d, HI, HI]).T\n",
    "\n",
    "    res = FIS2(new_data, plot = False)\n",
    "    \n",
    "    return res\n"
   ]
  },
  {
   "cell_type": "code",
   "execution_count": 4,
   "id": "93b21023",
   "metadata": {
    "scrolled": true
   },
   "outputs": [
    {
     "ename": "NameError",
     "evalue": "name 'pd' is not defined",
     "output_type": "error",
     "traceback": [
      "\u001b[1;31m---------------------------------------------------------------------------\u001b[0m",
      "\u001b[1;31mNameError\u001b[0m                                 Traceback (most recent call last)",
      "Cell \u001b[1;32mIn[4], line 1\u001b[0m\n\u001b[1;32m----> 1\u001b[0m gdf_utm \u001b[38;5;241m=\u001b[39m pd\u001b[38;5;241m.\u001b[39mread_pickle(\u001b[38;5;124m'\u001b[39m\u001b[38;5;124mgdf_utm.pkl\u001b[39m\u001b[38;5;124m'\u001b[39m)\n\u001b[0;32m      2\u001b[0m edges_utm \u001b[38;5;241m=\u001b[39m pd\u001b[38;5;241m.\u001b[39mread_pickle(\u001b[38;5;124m'\u001b[39m\u001b[38;5;124medges_utm.pkl\u001b[39m\u001b[38;5;124m'\u001b[39m)\n\u001b[0;32m      3\u001b[0m nodes_utm \u001b[38;5;241m=\u001b[39m pd\u001b[38;5;241m.\u001b[39mread_pickle(\u001b[38;5;124m'\u001b[39m\u001b[38;5;124mnodes_utm.pkl\u001b[39m\u001b[38;5;124m'\u001b[39m)\n",
      "\u001b[1;31mNameError\u001b[0m: name 'pd' is not defined"
     ]
    }
   ],
   "source": [
    "gdf_utm = pd.read_pickle('gdf_utm.pkl')\n",
    "edges_utm = pd.read_pickle('edges_utm.pkl')\n",
    "nodes_utm = pd.read_pickle('nodes_utm.pkl')\n",
    "curr_edge = pd.read_pickle('current_edge.pkl')\n"
   ]
  },
  {
   "cell_type": "code",
   "execution_count": 4,
   "id": "5c0500b9",
   "metadata": {},
   "outputs": [
    {
     "name": "stderr",
     "output_type": "stream",
     "text": [
      "C:\\Users\\j_3r3\\.conda\\envs\\ox\\Lib\\site-packages\\pyproj\\crs\\crs.py:141: FutureWarning: '+init=<authority>:<code>' syntax is deprecated. '<authority>:<code>' is the preferred initialization method. When making the change, be mindful of axis order changes: https://pyproj4.github.io/pyproj/stable/gotchas.html#axis-order-changes-in-proj-6\n",
      "  in_crs_string = _prepare_from_proj_string(in_crs_string)\n",
      "C:\\Users\\j_3r3\\.conda\\envs\\ox\\Lib\\site-packages\\scipy\\optimize\\_minpack_py.py:1010: OptimizeWarning: Covariance of the parameters could not be estimated\n",
      "  warnings.warn('Covariance of the parameters could not be estimated',\n"
     ]
    }
   ],
   "source": [
    "# for debugging purposes start at iteration point 14 \n",
    "point_index = 13\n",
    "# this is for debugging purposes, true \n",
    "prev_loc = gdf_utm.iloc[[point_index - 1]]\n",
    "last_matched = point_matching(prev_loc, curr_edge.iloc[0])\n",
    "\n",
    "# current location \n",
    "curr_loc = gdf_utm.iloc[[point_index]]\n",
    "\n",
    "# find longitude and latitude for last matched data\n",
    "last_matched['lon_lat'] = last_matched.to_crs({'init': 'epsg:4326'})\n",
    "\n",
    "res_13 = SMP1(curr_loc, prev_loc, last_matched, nodes_utm, edges_utm)"
   ]
  },
  {
   "cell_type": "code",
   "execution_count": 5,
   "id": "023e404b",
   "metadata": {},
   "outputs": [
    {
     "name": "stderr",
     "output_type": "stream",
     "text": [
      "C:\\Users\\j_3r3\\.conda\\envs\\ox\\Lib\\site-packages\\pyproj\\crs\\crs.py:141: FutureWarning: '+init=<authority>:<code>' syntax is deprecated. '<authority>:<code>' is the preferred initialization method. When making the change, be mindful of axis order changes: https://pyproj4.github.io/pyproj/stable/gotchas.html#axis-order-changes-in-proj-6\n",
      "  in_crs_string = _prepare_from_proj_string(in_crs_string)\n",
      "C:\\Users\\j_3r3\\.conda\\envs\\ox\\Lib\\site-packages\\scipy\\optimize\\_minpack_py.py:1010: OptimizeWarning: Covariance of the parameters could not be estimated\n",
      "  warnings.warn('Covariance of the parameters could not be estimated',\n"
     ]
    }
   ],
   "source": [
    "# for debugging purposes start at iteration point 14 \n",
    "point_index = 14\n",
    "# this is for debugging purposes, true \n",
    "prev_loc = gdf_utm.iloc[[point_index - 1]]\n",
    "last_matched = point_matching(prev_loc, curr_edge.iloc[0])\n",
    "\n",
    "# current location \n",
    "curr_loc = gdf_utm.iloc[[point_index]]\n",
    "\n",
    "# find longitude and latitude for last matched data\n",
    "last_matched['lon_lat'] = last_matched.to_crs({'init': 'epsg:4326'})\n",
    "\n",
    "res_14 = SMP1(curr_loc, prev_loc, last_matched, nodes_utm, edges_utm)"
   ]
  },
  {
   "cell_type": "code",
   "execution_count": 6,
   "id": "753d43d8",
   "metadata": {},
   "outputs": [
    {
     "data": {
      "text/plain": [
       "[62.33171621122695, 48.25065081792841]"
      ]
     },
     "execution_count": 6,
     "metadata": {},
     "output_type": "execute_result"
    }
   ],
   "source": [
    "[res_13, res_14]"
   ]
  },
  {
   "cell_type": "markdown",
   "id": "71939a7e",
   "metadata": {},
   "source": [
    "# Visualizing SMP 1 "
   ]
  },
  {
   "cell_type": "code",
   "execution_count": 37,
   "id": "4e8c012e",
   "metadata": {},
   "outputs": [
    {
     "data": {
      "text/plain": [
       "<Axes: >"
      ]
     },
     "execution_count": 37,
     "metadata": {},
     "output_type": "execute_result"
    }
   ],
   "source": [
    "%matplotlib tk\n",
    "# This is how we  visualize edges and error bound \n",
    "\n",
    "err_size = 38 \n",
    "# find which edges is selected at time point\n",
    "# find index of the edge id\n",
    "# find the last two position for IMP\n",
    "poly_1 = err_polygon(gdf_utm.iloc[[13]], err_size)\n",
    "poly_2 = err_polygon(gdf_utm.iloc[[14]], err_size)\n",
    "\n",
    "# plotting edges and starting point together \n",
    "f, ax = plt.subplots()\n",
    "\n",
    "\n",
    "# location for all point\n",
    "#locs_utm.plot(ax=ax)\n",
    "point_locs = gdf_utm['geometry'].to_frame()\n",
    "point_locs.plot(ax = ax)\n",
    "\n",
    "#err coord for location at iteration 13 and 14\n",
    "poly_1.plot(ax=ax, facecolor=\"none\")\n",
    "poly_2.plot(ax=ax, facecolor=\"none\")\n",
    "\n",
    "# this plot all the road system \n",
    "edges_utm.plot(ax=ax)\n",
    "# this plot the selected edge at time point \n",
    "\n",
    "# matched point plot\n",
    "last_matched.plot(ax = ax, color = \"Green\")\n",
    "\n",
    "\n",
    "\n",
    "# # plot closest node\n",
    "# closest_node.plot(ax = ax, color = \"Black\")\n",
    "# closest_edge.plot(ax = ax , color = \"Black\")\n",
    "# # debuging for djiksta shortest path\n",
    "# origin_node.plot(ax = ax, color = \"Black\")\n",
    "# target_node.plot(ax = ax , color = \"Black\")"
   ]
  }
 ],
 "metadata": {
  "kernelspec": {
   "display_name": "Python (ox)",
   "language": "python",
   "name": "myenv"
  },
  "language_info": {
   "codemirror_mode": {
    "name": "ipython",
    "version": 3
   },
   "file_extension": ".py",
   "mimetype": "text/x-python",
   "name": "python",
   "nbconvert_exporter": "python",
   "pygments_lexer": "ipython3",
   "version": "3.11.4"
  }
 },
 "nbformat": 4,
 "nbformat_minor": 5
}
