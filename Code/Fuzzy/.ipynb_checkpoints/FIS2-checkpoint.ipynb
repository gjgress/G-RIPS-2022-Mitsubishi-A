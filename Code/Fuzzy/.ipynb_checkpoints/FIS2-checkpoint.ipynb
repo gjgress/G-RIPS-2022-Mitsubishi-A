{
 "cells": [
  {
   "cell_type": "code",
   "execution_count": 1,
   "id": "81a4a667-b359-4fae-8b01-ca31252e710b",
   "metadata": {},
   "outputs": [],
   "source": [
    "from FIS2 import FIS2\n",
    "import concurrent.futures\n",
    "import pandas as pd\n",
    "import geopandas as gpd\n",
    "from shapely.geometry import shape\n",
    "import osmnx as ox\n",
    "import networkx as nx\n",
    "import requests\n",
    "import json\n",
    "from scipy.optimize import curve_fit\n",
    "from urllib.parse import urljoin\n",
    "import numpy as np\n",
    "# import fuzzy logic \n",
    "import skfuzzy as fuzz\n",
    "import skfuzzy.membership as mf\n",
    "import mm_utils\n",
    "# for plotting \n",
    "import matplotlib.pyplot as plt"
   ]
  },
  {
   "cell_type": "code",
   "execution_count": 8,
   "id": "5c8a596c",
   "metadata": {},
   "outputs": [
    {
     "name": "stdout",
     "output_type": "stream",
     "text": [
      "23.08095\n"
     ]
    }
   ],
   "source": [
    "# for testing purposes \n",
    "# first input in imp \n",
    "# data = speed, hdop, alpha, beta, delta_d, HI, HI\n",
    "data_temp1 = data_temp = [23.08095, 0.8, 180.5474, 0.4551217, -24.98234, 0, 0]\n",
    "data_temp2 = data_temp = [23.08095, 180.5474, 0.4551217, -24.98234, 0, 0]\n",
    "print(data_temp[0])"
   ]
  },
  {
   "cell_type": "code",
   "execution_count": 10,
   "id": "e96331d9",
   "metadata": {},
   "outputs": [
    {
     "name": "stdout",
     "output_type": "stream",
     "text": [
      "correct dimension\n"
     ]
    },
    {
     "name": "stderr",
     "output_type": "stream",
     "text": [
      "C:\\Users\\j_3r3\\.conda\\envs\\ox\\Lib\\site-packages\\scipy\\optimize\\_minpack_py.py:1010: OptimizeWarning: Covariance of the parameters could not be estimated\n",
      "  warnings.warn('Covariance of the parameters could not be estimated',\n"
     ]
    },
    {
     "data": {
      "text/plain": [
       "49.99999707825915"
      ]
     },
     "execution_count": 10,
     "metadata": {},
     "output_type": "execute_result"
    }
   ],
   "source": [
    "FIS2(data_temp1,method = 1,  plot = False)"
   ]
  },
  {
   "cell_type": "code",
   "execution_count": 11,
   "id": "62dc7d1c",
   "metadata": {},
   "outputs": [
    {
     "name": "stdout",
     "output_type": "stream",
     "text": [
      "correct dimension\n"
     ]
    },
    {
     "name": "stderr",
     "output_type": "stream",
     "text": [
      "C:\\Users\\j_3r3\\.conda\\envs\\ox\\Lib\\site-packages\\scipy\\optimize\\_minpack_py.py:1010: OptimizeWarning: Covariance of the parameters could not be estimated\n",
      "  warnings.warn('Covariance of the parameters could not be estimated',\n"
     ]
    },
    {
     "data": {
      "text/plain": [
       "49.99999707825975"
      ]
     },
     "execution_count": 11,
     "metadata": {},
     "output_type": "execute_result"
    }
   ],
   "source": [
    "FIS2(data_temp2,method = 2,  plot = False)"
   ]
  }
 ],
 "metadata": {
  "kernelspec": {
   "display_name": "Python (ox)",
   "language": "python",
   "name": "myenv"
  },
  "language_info": {
   "codemirror_mode": {
    "name": "ipython",
    "version": 3
   },
   "file_extension": ".py",
   "mimetype": "text/x-python",
   "name": "python",
   "nbconvert_exporter": "python",
   "pygments_lexer": "ipython3",
   "version": "3.11.4"
  }
 },
 "nbformat": 4,
 "nbformat_minor": 5
}
