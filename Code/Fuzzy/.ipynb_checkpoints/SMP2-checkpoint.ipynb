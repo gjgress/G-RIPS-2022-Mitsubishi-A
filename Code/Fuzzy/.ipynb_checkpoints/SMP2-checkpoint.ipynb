{
 "cells": [
  {
   "cell_type": "code",
   "execution_count": 6,
   "id": "66031272",
   "metadata": {},
   "outputs": [],
   "source": [
    "# load dependencies'\n",
    "import concurrent.futures\n",
    "import pandas as pd\n",
    "import geopandas as gpd\n",
    "from shapely.geometry import shape\n",
    "import osmnx as ox\n",
    "import networkx as nx\n",
    "import numpy as np\n",
    "import requests\n",
    "import json\n",
    "import matplotlib.pyplot as plt\n",
    "from urllib.parse import urljoin\n",
    "from shapely.geometry import Point, LineString, Polygon\n",
    "import pyproj \n",
    "import mm_utils\n",
    "from function_util import *\n",
    "from SMP2 import SMP2\n",
    "from FIS3 import FIS3\n",
    "from datetime import datetime"
   ]
  },
  {
   "cell_type": "code",
   "execution_count": 7,
   "id": "48a6ec35",
   "metadata": {},
   "outputs": [],
   "source": [
    "gdf_utm = pd.read_pickle('gdf_utm.pkl')\n",
    "edges_utm = pd.read_pickle('edges_utm.pkl')\n",
    "nodes_utm = pd.read_pickle('nodes_utm.pkl')\n",
    "curr_edge = pd.read_pickle('current_edge.pkl')"
   ]
  },
  {
   "cell_type": "code",
   "execution_count": 12,
   "id": "3660687e",
   "metadata": {},
   "outputs": [
    {
     "ename": "TypeError",
     "evalue": "SMP2() got an unexpected keyword argument 'plot'",
     "output_type": "error",
     "traceback": [
      "\u001b[1;31m---------------------------------------------------------------------------\u001b[0m",
      "\u001b[1;31mTypeError\u001b[0m                                 Traceback (most recent call last)",
      "Cell \u001b[1;32mIn[12], line 6\u001b[0m\n\u001b[0;32m      4\u001b[0m last_matched \u001b[38;5;241m=\u001b[39m point_matching(prev_loc, curr_edge\u001b[38;5;241m.\u001b[39miloc[\u001b[38;5;241m0\u001b[39m])\n\u001b[0;32m      5\u001b[0m err_size \u001b[38;5;241m=\u001b[39m \u001b[38;5;241m38\u001b[39m\n\u001b[1;32m----> 6\u001b[0m SMP2(curr_loc, curr_edge, prev_loc, last_matched, err_size, nodes_utm, edges_utm, gdf_utm, plot \u001b[38;5;241m=\u001b[39m \u001b[38;5;28;01mTrue\u001b[39;00m)\n",
      "\u001b[1;31mTypeError\u001b[0m: SMP2() got an unexpected keyword argument 'plot'"
     ]
    }
   ],
   "source": [
    "prev_loc = gdf_utm.iloc[[point_index - 1]]\n",
    "point_index = 39\n",
    "curr_loc = gdf_utm.iloc[[point_index]]\n",
    "last_matched = point_matching(prev_loc, curr_edge.iloc[0])\n",
    "err_size = 38\n",
    "SMP2(curr_loc, curr_edge, prev_loc, last_matched, err_size, nodes_utm, edges_utm, gdf_utm, plot = True)"
   ]
  }
 ],
 "metadata": {
  "kernelspec": {
   "display_name": "Python (ox)",
   "language": "python",
   "name": "myenv"
  },
  "language_info": {
   "codemirror_mode": {
    "name": "ipython",
    "version": 3
   },
   "file_extension": ".py",
   "mimetype": "text/x-python",
   "name": "python",
   "nbconvert_exporter": "python",
   "pygments_lexer": "ipython3",
   "version": "3.11.4"
  }
 },
 "nbformat": 4,
 "nbformat_minor": 5
}
