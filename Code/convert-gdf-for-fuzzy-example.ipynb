{
 "cells": [
  {
   "cell_type": "code",
   "execution_count": null,
   "id": "3850eaf3-e2db-4346-beb3-76868f481037",
   "metadata": {
    "tags": []
   },
   "outputs": [],
   "source": [
    "import concurrent.futures\n",
    "import pandas as pd\n",
    "import geopandas as gpd\n",
    "from shapely.geometry import shape\n",
    "import networkx as nx\n",
    "import numpy as np\n",
    "import requests\n",
    "import json\n",
    "import matplotlib.pyplot as plt\n",
    "from urllib.parse import urljoin\n",
    "from shapely.geometry import Point, LineString, Polygon\n",
    "import pyproj \n",
    "import importlib\n",
    "# import algorithms.mm_utils\n",
    "# from FIS3 import FIS3\n",
    "# from function_util import *\n",
    "from datetime import datetime\n",
    "\n",
    "import preprocessing.downloader as dl\n",
    "import preprocessing.constants\n",
    "\n",
    "importlib.reload(dl)\n",
    "\n",
    "ids = dl.fetch_ids_on_envirocar(num_trajectories=3)\n",
    "for id in ids:\n",
    "    gdf = dl.download_from_envirocar(id, use_cache=False)\n",
    "    gdf, nodes, edges = dl.to_fuzzy_AHP_input(gdf)"
   ]
  },
  {
   "cell_type": "code",
   "execution_count": null,
   "id": "0ff0d682-cd39-4556-ad71-3a7ec75f26ea",
   "metadata": {
    "tags": []
   },
   "outputs": [],
   "source": [
    "gdf"
   ]
  },
  {
   "cell_type": "code",
   "execution_count": null,
   "id": "b24066a2-7958-46a1-b63b-4421d7c33e6a",
   "metadata": {
    "tags": []
   },
   "outputs": [],
   "source": [
    "nodes"
   ]
  },
  {
   "cell_type": "code",
   "execution_count": null,
   "id": "64dd161a-bf60-4591-8e14-b37e3973586d",
   "metadata": {
    "tags": []
   },
   "outputs": [],
   "source": [
    "edges"
   ]
  }
 ],
 "metadata": {
  "kernelspec": {
   "display_name": "Python 3 (ipykernel)",
   "language": "python",
   "name": "python3"
  },
  "language_info": {
   "codemirror_mode": {
    "name": "ipython",
    "version": 3
   },
   "file_extension": ".py",
   "mimetype": "text/x-python",
   "name": "python",
   "nbconvert_exporter": "python",
   "pygments_lexer": "ipython3",
   "version": "3.11.4"
  }
 },
 "nbformat": 4,
 "nbformat_minor": 5
}
