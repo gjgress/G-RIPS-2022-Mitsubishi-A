{
 "cells": [
  {
   "cell_type": "markdown",
   "id": "c56a6b3e-3fac-4755-8de4-a2995883d104",
   "metadata": {},
   "source": [
    "# Nearest Neighbors and Losses\n",
    "\n",
    "## How parameters affect metric-based loss functions\n",
    "\n",
    "This notebook demonstrates what a metric-based loss function method looks like, and how different choices of K-nearest neighbors affect processing time and loss."
   ]
  },
  {
   "cell_type": "code",
   "execution_count": null,
   "id": "84dd7a97-835a-46bd-8633-ca95c58e8c3b",
   "metadata": {},
   "outputs": [
    {
     "name": "stderr",
     "output_type": "stream",
     "text": [
      "/home/gjgress/.local/lib/python3.10/site-packages/geopandas/_compat.py:112: UserWarning: The Shapely GEOS version (3.10.2-CAPI-1.16.0) is incompatible with the GEOS version PyGEOS was compiled with (3.10.1-CAPI-1.16.0). Conversions between both will be slow.\n",
      "  warnings.warn(\n"
     ]
    }
   ],
   "source": [
    "import networkx as nx\n",
    "import osmnx as ox \n",
    "import time\n",
    "from shapely.geometry import Polygon\n",
    "import os\n",
    "import ujson as json\n",
    "import numpy as np\n",
    "import pandas as pd\n",
    "import geopandas as gpd\n",
    "import matplotlib.pyplot as plt\n",
    "from algorithms import mm_utils\n",
    "import dask\n",
    "\n",
    "# Remove this when debugging\n",
    "#import warnings\n",
    "#warnings.filterwarnings('ignore')\n",
    "\n",
    "import dask.bag as db\n",
    "\n",
    "%matplotlib inline\n",
    "#ox.__version__"
   ]
  },
  {
   "cell_type": "markdown",
   "id": "ffb80198-2ec1-4dc5-a68b-450a470abcf2",
   "metadata": {},
   "source": [
    "First we load our test case, as well as the surrounding network."
   ]
  },
  {
   "cell_type": "code",
   "execution_count": null,
   "id": "1d1c6827-fa63-46ac-bf5f-d8c47b922d9b",
   "metadata": {},
   "outputs": [],
   "source": [
    "tripdata_nodes = gpd.read_file('testcase-square.gpx')\n",
    "tripdata_nodes = tripdata_nodes.dropna(axis=1, how = 'all')"
   ]
  },
  {
   "cell_type": "code",
   "execution_count": null,
   "id": "7a9d7f19-043e-4309-b421-4caa604661ab",
   "metadata": {},
   "outputs": [],
   "source": [
    "# Let's convert the time into UNIX timestamps\n",
    "\n",
    "from datetime import datetime as dt\n",
    "import time\n",
    "\n",
    "tripdata_nodes['time'] = (tripdata_nodes['time'] - pd.Timestamp(\"1970-01-01\").tz_localize(\"UTC\")) // pd.Timedelta(\"1s\")\n",
    "tripdata_nodes = tripdata_nodes.rename(columns = {'time':'timestamp'})\n",
    "tripdata_nodes = tripdata_nodes[['ele', 'timestamp', 'geometry']]\n",
    "\n",
    "# We will need the edges for FMM, so I wrote a helper function to create edges from points\n",
    "tripdata_edges = mm_utils.point_to_traj(tripdata_nodes, columns = {'ele': 'average',\n",
    "                                                                  'timestamp':'first'})\n"
   ]
  },
  {
   "cell_type": "code",
   "execution_count": null,
   "id": "d8c4396d-a3cc-4be1-9776-4fc0df8c47b9",
   "metadata": {},
   "outputs": [],
   "source": [
    "# Let's get the network too\n",
    "\n",
    "networkgraph = mm_utils.df_to_network(tripdata_nodes, buffer = 0.0005, ntype = 'drive', as_gdf = False)\n",
    "network_nodes, network_edges = mm_utils.df_to_network(tripdata_nodes, buffer = 0.0005, ntype = 'drive', as_gdf = True)\n"
   ]
  },
  {
   "cell_type": "code",
   "execution_count": null,
   "id": "b26fc4ca-820e-45a3-8191-455aed1a10ae",
   "metadata": {},
   "outputs": [],
   "source": [
    "knn = mm_utils.get_nearest_edges(tripdata_nodes, network_edges, k_neighbors = 3, r = 0.001)"
   ]
  },
  {
   "cell_type": "code",
   "execution_count": null,
   "id": "3d03d26b-c51b-4509-9ec1-2c3e3a24ea94",
   "metadata": {},
   "outputs": [
    {
     "data": {
      "text/plain": [
       "<AxesSubplot:>"
      ]
     },
     "execution_count": 6,
     "metadata": {},
     "output_type": "execute_result"
    },
    {
     "data": {
      "text/plain": [
       "<AxesSubplot:>"
      ]
     },
     "execution_count": 6,
     "metadata": {},
     "output_type": "execute_result"
    },
    {
     "data": {
      "image/png": "[encoded data removed]",
      "text/plain": [
       "<Figure size 576x576 with 1 Axes>"
      ]
     },
     "metadata": {},
     "output_type": "display_data"
    }
   ],
   "source": [
    "fig, ax = ox.plot_graph(networkgraph, figsize = (8,8),show=False,close=False)\n",
    "tripdata_nodes.plot(ax=ax)\n",
    "tripdata_edges.plot(ax=ax)"
   ]
  },
  {
   "cell_type": "code",
   "execution_count": null,
   "id": "548d9ec0-b140-44da-9466-e7087c4b90e1",
   "metadata": {},
   "outputs": [],
   "source": [
    "# How many sections should each segment be broken up into?\n",
    "n = 10 # Segments to interpolate GPS coordinates\n",
    "m = 25 # Segments to divide network edges into\n",
    "\n",
    "from algorithms import metric_mm\n"
   ]
  },
  {
   "cell_type": "markdown",
   "id": "d9b95129-efea-46a7-9266-211b6271e0b4",
   "metadata": {},
   "source": [
    "Now we set up our loss functions."
   ]
  },
  {
   "cell_type": "code",
   "execution_count": null,
   "id": "bfd7f85c-32ac-453d-892c-2135452e1767",
   "metadata": {},
   "outputs": [],
   "source": [
    "\n",
    "def route_inner(distarray):\n",
    "    return distarray # If we wish to apply a function to the distances within the array, this is where we do it\n",
    "\n",
    "def route_outer(distarray):\n",
    "    return 1*(1/np.size(distarray) * np.sum(distarray)) # This is where we 'integrate', and if we need to do anything else, we do it\n",
    "\n",
    "def gps_inner(distarray):\n",
    "    return distarray\n",
    "\n",
    "def gps_outer(distarray):\n",
    "    return 1*(1/np.size(distarray) * np.sum(distarray))\n",
    "\n",
    "def wrapper_f(ri,ro,gi,go): # This should return a function composed from the basic functions, that can then be applied onto route and gps data.\n",
    "    return lambda route, gps : 1*ro(ri(route)) + 1*go(gi(gps))\n",
    "\n",
    "#loss_function = wrapper_f(route_inner, route_outer, gps_inner, gps_outer)\n"
   ]
  },
  {
   "cell_type": "code",
   "execution_count": null,
   "id": "77600779-5d86-49eb-aff2-6447d328e81c",
   "metadata": {},
   "outputs": [
    {
     "name": "stdout",
     "output_type": "stream",
     "text": [
      "CPU times: user 430 ms, sys: 7.76 ms, total: 438 ms\n",
      "Wall time: 437 ms\n"
     ]
    }
   ],
   "source": [
    "%%time\n",
    "\n",
    "knn1 = 1\n",
    "knn2 = 5\n",
    "knnm = 50\n",
    "\n",
    "sim = metric_mm.Sim(route_inner, route_outer, gps_inner, gps_outer, wrapper_f)\n",
    "sim.preprocessing(tripdata_edges, network_edges, n=n,m=m)"
   ]
  },
  {
   "cell_type": "code",
   "execution_count": null,
   "id": "77ce6f7a-14c1-419b-9fb5-3ce3c5a8b387",
   "metadata": {},
   "outputs": [
    {
     "name": "stdout",
     "output_type": "stream",
     "text": [
      "CPU times: user 4.1 ms, sys: 121 µs, total: 4.22 ms\n",
      "Wall time: 3.3 ms\n"
     ]
    }
   ],
   "source": [
    "%%time\n",
    "\n",
    "results1 = sim.run(k1=knn1, k2 = knn1, return_full=True, return_results=True)"
   ]
  },
  {
   "cell_type": "code",
   "execution_count": null,
   "id": "803f47e3-6ca2-4b2b-ac4f-9ed2e89502ac",
   "metadata": {},
   "outputs": [
    {
     "data": {
      "text/plain": [
       "<AxesSubplot:>"
      ]
     },
     "execution_count": 11,
     "metadata": {},
     "output_type": "execute_result"
    },
    {
     "data": {
      "text/plain": [
       "<AxesSubplot:>"
      ]
     },
     "execution_count": 11,
     "metadata": {},
     "output_type": "execute_result"
    },
    {
     "data": {
      "text/plain": [
       "<AxesSubplot:>"
      ]
     },
     "execution_count": 11,
     "metadata": {},
     "output_type": "execute_result"
    },
    {
     "data": {
      "text/plain": [
       "<AxesSubplot:>"
      ]
     },
     "execution_count": 11,
     "metadata": {},
     "output_type": "execute_result"
    },
    {
     "data": {
      "text/plain": [
       "<AxesSubplot:>"
      ]
     },
     "execution_count": 11,
     "metadata": {},
     "output_type": "execute_result"
    },
    {
     "data": {
      "text/plain": [
       "<AxesSubplot:>"
      ]
     },
     "execution_count": 11,
     "metadata": {},
     "output_type": "execute_result"
    },
    {
     "data": {
      "text/plain": [
       "<AxesSubplot:>"
      ]
     },
     "execution_count": 11,
     "metadata": {},
     "output_type": "execute_result"
    },
    {
     "data": {
      "text/plain": [
       "<matplotlib.legend.Legend at 0x7fac9eb182b0>"
      ]
     },
     "execution_count": 11,
     "metadata": {},
     "output_type": "execute_result"
    },
    {
     "data": {
      "text/plain": [
       "Text(0.5, 1.0, 'Loss of Combined Edges using 1NN')"
      ]
     },
     "execution_count": 11,
     "metadata": {},
     "output_type": "execute_result"
    },
    {
     "data": {
      "text/plain": [
       "Text(0.5, 0.2, 'The ratio of the route losses is 1.958')"
      ]
     },
     "execution_count": 11,
     "metadata": {},
     "output_type": "execute_result"
    },
    {
     "data": {
      "image/png": "[encoded data removed]",
      "text/plain": [
       "<Figure size 576x576 with 1 Axes>"
      ]
     },
     "metadata": {
      "needs_background": "light"
     },
     "output_type": "display_data"
    }
   ],
   "source": [
    "fig, ax = plt.subplots(1,1, figsize=(8,8))\n",
    "\n",
    "results1[0][0].plot(ax=ax, color='blue')\n",
    "sim.candidate_route_nodes[0].plot(ax=ax, color = 'blue')\n",
    "results1[0][1].plot(ax=ax, color='orange')\n",
    "sim.candidate_route_nodes[1].plot(ax=ax, color = 'orange')\n",
    "\n",
    "\n",
    "tripdata_nodes.plot(ax=ax, color='purple')\n",
    "sim.trajectory.plot(ax=ax, color='purple')\n",
    "tripdata_edges.plot(ax=ax,  color='purple')\n",
    "\n",
    "\n",
    "ax.legend(handles = [ax.collections[0],ax.collections[2]],\n",
    "          labels = ['Route 1 (Loss = ' + str(results1[1][0])[:10] + ')',\n",
    "                  'Route 2 (Loss = ' + str(results1[1][1])[:10] + ')'],\n",
    "          loc = 'lower left', bbox_to_anchor=(1,0))\n",
    "\n",
    "ax.set_title('Loss of Combined Edges using ' + str(knn1) + 'NN')\n",
    "fig.text(.5, .2, 'The ratio of the route losses is ' + str(results1[1][1]/results1[1][0])[:5], ha='center')"
   ]
  },
  {
   "cell_type": "code",
   "execution_count": null,
   "id": "cc380a99-da23-4591-a5e0-caa8e2008018",
   "metadata": {},
   "outputs": [
    {
     "name": "stdout",
     "output_type": "stream",
     "text": [
      "CPU times: user 4.85 ms, sys: 673 µs, total: 5.52 ms\n",
      "Wall time: 4.32 ms\n"
     ]
    }
   ],
   "source": [
    "%%time\n",
    "\n",
    "results2 = sim.run(k1=knn2, k2 = knn2, return_full=True, return_results=True)"
   ]
  },
  {
   "cell_type": "code",
   "execution_count": null,
   "id": "9aabee49-b5b4-4446-8f4d-8aa64ac72d75",
   "metadata": {},
   "outputs": [
    {
     "data": {
      "text/plain": [
       "<AxesSubplot:>"
      ]
     },
     "execution_count": 13,
     "metadata": {},
     "output_type": "execute_result"
    },
    {
     "data": {
      "text/plain": [
       "<AxesSubplot:>"
      ]
     },
     "execution_count": 13,
     "metadata": {},
     "output_type": "execute_result"
    },
    {
     "data": {
      "text/plain": [
       "<AxesSubplot:>"
      ]
     },
     "execution_count": 13,
     "metadata": {},
     "output_type": "execute_result"
    },
    {
     "data": {
      "text/plain": [
       "<AxesSubplot:>"
      ]
     },
     "execution_count": 13,
     "metadata": {},
     "output_type": "execute_result"
    },
    {
     "data": {
      "text/plain": [
       "<AxesSubplot:>"
      ]
     },
     "execution_count": 13,
     "metadata": {},
     "output_type": "execute_result"
    },
    {
     "data": {
      "text/plain": [
       "<AxesSubplot:>"
      ]
     },
     "execution_count": 13,
     "metadata": {},
     "output_type": "execute_result"
    },
    {
     "data": {
      "text/plain": [
       "<AxesSubplot:>"
      ]
     },
     "execution_count": 13,
     "metadata": {},
     "output_type": "execute_result"
    },
    {
     "data": {
      "text/plain": [
       "<matplotlib.legend.Legend at 0x7fac9eb5dc90>"
      ]
     },
     "execution_count": 13,
     "metadata": {},
     "output_type": "execute_result"
    },
    {
     "data": {
      "text/plain": [
       "Text(0.5, 1.0, 'Loss of Combined Edges using 5NN')"
      ]
     },
     "execution_count": 13,
     "metadata": {},
     "output_type": "execute_result"
    },
    {
     "data": {
      "text/plain": [
       "Text(0.5, 0.2, 'The ratio of the route losses is 1.899')"
      ]
     },
     "execution_count": 13,
     "metadata": {},
     "output_type": "execute_result"
    },
    {
     "data": {
      "image/png": "[encoded data removed]",
      "text/plain": [
       "<Figure size 576x576 with 1 Axes>"
      ]
     },
     "metadata": {
      "needs_background": "light"
     },
     "output_type": "display_data"
    }
   ],
   "source": [
    "fig, ax = plt.subplots(1,1, figsize=(8,8))\n",
    "\n",
    "results2[0][0].plot(ax=ax, color='blue')\n",
    "sim.candidate_route_nodes[0].plot(ax=ax, color = 'blue')\n",
    "results2[0][1].plot(ax=ax, color='orange')\n",
    "sim.candidate_route_nodes[1].plot(ax=ax, color = 'orange')\n",
    "\n",
    "\n",
    "tripdata_nodes.plot(ax=ax, color='purple')\n",
    "sim.trajectory.plot(ax=ax, color='purple')\n",
    "tripdata_edges.plot(ax=ax,  color='purple')\n",
    "\n",
    "\n",
    "ax.legend(handles = [ax.collections[0],ax.collections[2]],\n",
    "          labels = ['Route 1 (Loss = ' + str(results2[1][0])[:10] + ')',\n",
    "                  'Route 2 (Loss = ' + str(results2[1][1])[:10] + ')'],\n",
    "          loc = 'lower left', bbox_to_anchor=(1,0))\n",
    "\n",
    "ax.set_title('Loss of Combined Edges using ' + str(knn2) + 'NN')\n",
    "fig.text(.5, .2, 'The ratio of the route losses is ' + str(results2[1][1]/results2[1][0])[:5], ha='center')"
   ]
  },
  {
   "cell_type": "markdown",
   "id": "d4e8faaa-0255-41ce-92c6-cdfadb6d5611",
   "metadata": {},
   "source": [
    "Notice that the computation time has not significantly increased. However, the ratio between the losses has changed; the two losses are now relatively closer in value to each other."
   ]
  },
  {
   "cell_type": "code",
   "execution_count": null,
   "id": "2b9c13f4-fca7-4624-a63a-b69937b35935",
   "metadata": {},
   "outputs": [
    {
     "name": "stdout",
     "output_type": "stream",
     "text": [
      "CPU times: user 2.75 ms, sys: 3.09 ms, total: 5.85 ms\n",
      "Wall time: 4.46 ms\n"
     ]
    }
   ],
   "source": [
    "%%time\n",
    "\n",
    "results3 = sim.run(k1=knnm, k2 = knnm, return_full=True, return_results=True)"
   ]
  },
  {
   "cell_type": "code",
   "execution_count": null,
   "id": "27ba9c21-0504-4d5d-a57b-08e2871e7a57",
   "metadata": {},
   "outputs": [
    {
     "data": {
      "text/plain": [
       "<AxesSubplot:>"
      ]
     },
     "execution_count": 15,
     "metadata": {},
     "output_type": "execute_result"
    },
    {
     "data": {
      "text/plain": [
       "<AxesSubplot:>"
      ]
     },
     "execution_count": 15,
     "metadata": {},
     "output_type": "execute_result"
    },
    {
     "data": {
      "text/plain": [
       "<AxesSubplot:>"
      ]
     },
     "execution_count": 15,
     "metadata": {},
     "output_type": "execute_result"
    },
    {
     "data": {
      "text/plain": [
       "<AxesSubplot:>"
      ]
     },
     "execution_count": 15,
     "metadata": {},
     "output_type": "execute_result"
    },
    {
     "data": {
      "text/plain": [
       "<AxesSubplot:>"
      ]
     },
     "execution_count": 15,
     "metadata": {},
     "output_type": "execute_result"
    },
    {
     "data": {
      "text/plain": [
       "<AxesSubplot:>"
      ]
     },
     "execution_count": 15,
     "metadata": {},
     "output_type": "execute_result"
    },
    {
     "data": {
      "text/plain": [
       "<AxesSubplot:>"
      ]
     },
     "execution_count": 15,
     "metadata": {},
     "output_type": "execute_result"
    },
    {
     "data": {
      "text/plain": [
       "<matplotlib.legend.Legend at 0x7fac9eacfe50>"
      ]
     },
     "execution_count": 15,
     "metadata": {},
     "output_type": "execute_result"
    },
    {
     "data": {
      "text/plain": [
       "Text(0.5, 1.0, 'Loss of Combined Edges using MaxNN')"
      ]
     },
     "execution_count": 15,
     "metadata": {},
     "output_type": "execute_result"
    },
    {
     "data": {
      "text/plain": [
       "Text(0.5, 0.2, 'The ratio of the route losses is 1.452')"
      ]
     },
     "execution_count": 15,
     "metadata": {},
     "output_type": "execute_result"
    },
    {
     "data": {
      "image/png": "[encoded data removed]",
      "text/plain": [
       "<Figure size 576x576 with 1 Axes>"
      ]
     },
     "metadata": {
      "needs_background": "light"
     },
     "output_type": "display_data"
    }
   ],
   "source": [
    "fig, ax = plt.subplots(1,1, figsize=(8,8))\n",
    "\n",
    "results3[0][0].plot(ax=ax, color='blue')\n",
    "sim.candidate_route_nodes[0].plot(ax=ax, color = 'blue')\n",
    "results3[0][1].plot(ax=ax, color='orange')\n",
    "sim.candidate_route_nodes[1].plot(ax=ax, color = 'orange')\n",
    "\n",
    "\n",
    "tripdata_nodes.plot(ax=ax, color='purple')\n",
    "sim.trajectory.plot(ax=ax, color='purple')\n",
    "tripdata_edges.plot(ax=ax,  color='purple')\n",
    "\n",
    "\n",
    "ax.legend(handles = [ax.collections[0],ax.collections[2]],\n",
    "          labels = ['Route 1 (Loss = ' + str(results3[1][0])[:10] + ')',\n",
    "                  'Route 2 (Loss = ' + str(results3[1][1])[:10] + ')'],\n",
    "          loc = 'lower left', bbox_to_anchor=(1,0))\n",
    "\n",
    "ax.set_title('Loss of Combined Edges using MaxNN')\n",
    "fig.text(.5, .2, 'The ratio of the route losses is ' + str(results3[1][1]/results3[1][0])[:5], ha='center')"
   ]
  },
  {
   "cell_type": "markdown",
   "id": "554f587c-594d-4a35-9cd6-6489824b2459",
   "metadata": {},
   "source": [
    "Even if we compare the distances between all points of the GPS trajectory and the candidate routes, our computation time does not increase significantly compared to previous cases. This indicates that computation time need not be considered when deciding the parameter for k-NN.\n",
    "\n",
    "However, notice the loss ratio has decreased a lot more. Now there are a lot more 'bad points' being seen in both routes.\n",
    "\n",
    "There is no reason to expect that at any point Route 2 would ever have less loss than Route 1, so it is not directly a concern. However, it may indicate that high values of k may not best represent the validity of routes. In theory, if values of routes start to become a lot less distinct, you may run into floating point concerns in which we can no longer distinguish the loss between two different routes.\n",
    "\n",
    "Of course, if k is too small, then outlier points on the GPS trajectory may result in a lower loss for a route than one might expect. One should experiment with different values of k (likely based on number of points and their frequency) within their own dataset to determine what value performs best in a specific case."
   ]
  }
 ],
 "metadata": {
  "kernelspec": {
   "display_name": "Python 3 (ipykernel)",
   "language": "python",
   "name": "python3"
  },
  "language_info": {
   "codemirror_mode": {
    "name": "ipython",
    "version": 3
   },
   "file_extension": ".py",
   "mimetype": "text/x-python",
   "name": "python",
   "nbconvert_exporter": "python",
   "pygments_lexer": "ipython3",
   "version": "3.10.9"
  }
 },
 "nbformat": 4,
 "nbformat_minor": 5
}
