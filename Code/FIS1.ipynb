{
 "cells": [
  {
   "cell_type": "code",
   "execution_count": 226,
   "id": "81a4a667-b359-4fae-8b01-ca31252e710b",
   "metadata": {},
   "outputs": [],
   "source": [
    "from Fuzzy.FIS1 import FIS1\n"
   ]
  },
  {
   "cell_type": "code",
   "execution_count": 227,
   "id": "5c8a596c",
   "metadata": {},
   "outputs": [
    {
     "name": "stdout",
     "output_type": "stream",
     "text": [
      "15.7626\n"
     ]
    }
   ],
   "source": [
    "# for testing purposes \n",
    "# first input in imp \n",
    "\n",
    "# speed, heading, PD, HDOP \n",
    "matrix_data = np.array([\n",
    "    [15.7626, 87.56807252, 22.31084837, 0.8],\n",
    "    [15.7626, 88.70958938, 19.39938780, 0.8],\n",
    "    [15.7626, 88.12707344, 19.39938780, 0.8],\n",
    "    [15.7626, 88.80081837, 23.38696383, 0.8],\n",
    "    [15.7626, 0.33105934, 0.03973635, 0.8],\n",
    "    [15.7626, 0.02028626, 19.39938780, 0.8]\n",
    "])\n",
    "\n",
    "data_temp = matrix_data[1,:]\n",
    "print(data_temp[0])"
   ]
  },
  {
   "cell_type": "code",
   "execution_count": 228,
   "id": "414838a7",
   "metadata": {},
   "outputs": [
    {
     "name": "stdout",
     "output_type": "stream",
     "text": [
      "26.20964836372295\n",
      "28.267641971646032\n",
      "28.267650729459007\n",
      "25.06746506963832\n",
      "52.49989165629695\n",
      "52.506812754972735\n"
     ]
    },
    {
     "name": "stderr",
     "output_type": "stream",
     "text": [
      "C:\\Users\\j_3r3\\.conda\\envs\\ox\\Lib\\site-packages\\scipy\\optimize\\_minpack_py.py:1010: OptimizeWarning: Covariance of the parameters could not be estimated\n",
      "  warnings.warn('Covariance of the parameters could not be estimated',\n",
      "C:\\Users\\j_3r3\\.conda\\envs\\ox\\Lib\\site-packages\\scipy\\optimize\\_minpack_py.py:1010: OptimizeWarning: Covariance of the parameters could not be estimated\n",
      "  warnings.warn('Covariance of the parameters could not be estimated',\n",
      "C:\\Users\\j_3r3\\.conda\\envs\\ox\\Lib\\site-packages\\scipy\\optimize\\_minpack_py.py:1010: OptimizeWarning: Covariance of the parameters could not be estimated\n",
      "  warnings.warn('Covariance of the parameters could not be estimated',\n",
      "C:\\Users\\j_3r3\\.conda\\envs\\ox\\Lib\\site-packages\\scipy\\optimize\\_minpack_py.py:1010: OptimizeWarning: Covariance of the parameters could not be estimated\n",
      "  warnings.warn('Covariance of the parameters could not be estimated',\n",
      "C:\\Users\\j_3r3\\.conda\\envs\\ox\\Lib\\site-packages\\scipy\\optimize\\_minpack_py.py:1010: OptimizeWarning: Covariance of the parameters could not be estimated\n",
      "  warnings.warn('Covariance of the parameters could not be estimated',\n",
      "C:\\Users\\j_3r3\\.conda\\envs\\ox\\Lib\\site-packages\\scipy\\optimize\\_minpack_py.py:1010: OptimizeWarning: Covariance of the parameters could not be estimated\n",
      "  warnings.warn('Covariance of the parameters could not be estimated',\n"
     ]
    }
   ],
   "source": [
    "pred = np.zeros((1,6))\n",
    "\n",
    "for i in range(6):\n",
    "    print(FIS1(matrix_data[i,:], plot = False))\n"
   ]
  },
  {
   "cell_type": "code",
   "execution_count": 205,
   "id": "e96331d9",
   "metadata": {},
   "outputs": [
    {
     "data": {
      "text/plain": [
       "array([[0., 0., 0., 0., 0., 0.]])"
      ]
     },
     "execution_count": 205,
     "metadata": {},
     "output_type": "execute_result"
    }
   ],
   "source": [
    "pred"
   ]
  }
 ],
 "metadata": {
  "kernelspec": {
   "display_name": "Python (ox)",
   "language": "python",
   "name": "myenv"
  },
  "language_info": {
   "codemirror_mode": {
    "name": "ipython",
    "version": 3
   },
   "file_extension": ".py",
   "mimetype": "text/x-python",
   "name": "python",
   "nbconvert_exporter": "python",
   "pygments_lexer": "ipython3",
   "version": "3.11.4"
  }
 },
 "nbformat": 4,
 "nbformat_minor": 5
}
