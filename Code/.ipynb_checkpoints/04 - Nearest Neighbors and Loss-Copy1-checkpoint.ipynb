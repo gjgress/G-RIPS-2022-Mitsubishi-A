{
 "cells": [
  {
   "cell_type": "markdown",
   "id": "c56a6b3e-3fac-4755-8de4-a2995883d104",
   "metadata": {},
   "source": [
    "# Nearest Neighbors and Losses\n",
    "\n",
    "## How parameters affect metric-based loss functions\n",
    "\n",
    "This notebook demonstrates what a metric-based loss function method looks like, and how different choices of K-nearest neighbors affect processing time and loss."
   ]
  },
  {
   "cell_type": "code",
   "execution_count": null,
   "id": "84dd7a97-835a-46bd-8633-ca95c58e8c3b",
   "metadata": {},
   "outputs": [
    {
     "name": "stderr",
     "output_type": "stream",
     "text": [
      "/home/gjgress/.local/lib/python3.10/site-packages/geopandas/_compat.py:112: UserWarning: The Shapely GEOS version (3.10.2-CAPI-1.16.0) is incompatible with the GEOS version PyGEOS was compiled with (3.10.1-CAPI-1.16.0). Conversions between both will be slow.\n",
      "  warnings.warn(\n"
     ]
    }
   ],
   "source": [
    "import networkx as nx\n",
    "import osmnx as ox \n",
    "import time\n",
    "from shapely.geometry import Polygon\n",
    "import os\n",
    "import ujson as json\n",
    "import numpy as np\n",
    "import pandas as pd\n",
    "import geopandas as gpd\n",
    "import matplotlib.pyplot as plt\n",
    "from algorithms import mm_utils\n",
    "import dask\n",
    "from scipy.optimize import linprog\n",
    "from scipy.sparse import csr_matrix\n",
    "\n",
    "# Remove this when debugging\n",
    "#import warnings\n",
    "#warnings.filterwarnings('ignore')\n",
    "\n",
    "import dask.bag as db\n",
    "\n",
    "%matplotlib inline\n",
    "#ox.__version__"
   ]
  },
  {
   "cell_type": "markdown",
   "id": "ffb80198-2ec1-4dc5-a68b-450a470abcf2",
   "metadata": {},
   "source": [
    "First we load our test case, as well as the surrounding network."
   ]
  },
  {
   "cell_type": "code",
   "execution_count": null,
   "id": "1d1c6827-fa63-46ac-bf5f-d8c47b922d9b",
   "metadata": {},
   "outputs": [],
   "source": [
    "tripdata_nodes = gpd.read_file('testcase-square.gpx')\n",
    "tripdata_nodes = tripdata_nodes.dropna(axis=1, how = 'all')"
   ]
  },
  {
   "cell_type": "code",
   "execution_count": null,
   "id": "7a9d7f19-043e-4309-b421-4caa604661ab",
   "metadata": {},
   "outputs": [],
   "source": [
    "# Let's convert the time into UNIX timestamps\n",
    "\n",
    "from datetime import datetime as dt\n",
    "import time\n",
    "\n",
    "tripdata_nodes['time'] = (tripdata_nodes['time'] - pd.Timestamp(\"1970-01-01\").tz_localize(\"UTC\")) // pd.Timedelta(\"1s\")\n",
    "tripdata_nodes = tripdata_nodes.rename(columns = {'time':'timestamp'})\n",
    "tripdata_nodes = tripdata_nodes[['ele', 'timestamp', 'geometry']]\n",
    "\n",
    "# We will need the edges for FMM, so I wrote a helper function to create edges from points\n",
    "tripdata_edges = mm_utils.point_to_traj(tripdata_nodes, columns = {'ele': 'average',\n",
    "                                                                  'timestamp':'first'})\n"
   ]
  },
  {
   "cell_type": "code",
   "execution_count": null,
   "id": "d8c4396d-a3cc-4be1-9776-4fc0df8c47b9",
   "metadata": {},
   "outputs": [],
   "source": [
    "# Let's get the network too\n",
    "\n",
    "networkgraph = mm_utils.df_to_network(tripdata_nodes, buffer = 0.0005, ntype = 'drive', as_gdf = False)\n",
    "network_nodes, network_edges = mm_utils.df_to_network(tripdata_nodes, buffer = 0.0005, ntype = 'drive', as_gdf = True)\n"
   ]
  },
  {
   "cell_type": "code",
   "execution_count": null,
   "id": "b26fc4ca-820e-45a3-8191-455aed1a10ae",
   "metadata": {},
   "outputs": [],
   "source": [
    "knn = mm_utils.get_nearest_edges(tripdata_nodes, network_edges, k_neighbors = 3, r = 0.001)"
   ]
  },
  {
   "cell_type": "code",
   "execution_count": null,
   "id": "3d03d26b-c51b-4509-9ec1-2c3e3a24ea94",
   "metadata": {},
   "outputs": [
    {
     "data": {
      "text/plain": [
       "<AxesSubplot:>"
      ]
     },
     "execution_count": 6,
     "metadata": {},
     "output_type": "execute_result"
    },
    {
     "data": {
      "text/plain": [
       "<AxesSubplot:>"
      ]
     },
     "execution_count": 6,
     "metadata": {},
     "output_type": "execute_result"
    },
    {
     "data": {
      "image/png": "[encoded data removed]",
      "text/plain": [
       "<Figure size 576x576 with 1 Axes>"
      ]
     },
     "metadata": {},
     "output_type": "display_data"
    }
   ],
   "source": [
    "fig, ax = ox.plot_graph(networkgraph, figsize = (8,8),show=False,close=False)\n",
    "tripdata_nodes.plot(ax=ax)\n",
    "tripdata_edges.plot(ax=ax)"
   ]
  },
  {
   "cell_type": "code",
   "execution_count": null,
   "id": "548d9ec0-b140-44da-9466-e7087c4b90e1",
   "metadata": {},
   "outputs": [],
   "source": [
    "# How many sections should each segment be broken up into?\n",
    "n = 10 # Segments to interpolate GPS coordinates\n",
    "m = 25 # Segments to divide network edges into\n",
    "\n",
    "from algorithms import metric_mm\n"
   ]
  },
  {
   "cell_type": "markdown",
   "id": "d9b95129-efea-46a7-9266-211b6271e0b4",
   "metadata": {},
   "source": [
    "Now we set up our loss functions."
   ]
  },
  {
   "cell_type": "code",
   "execution_count": null,
   "id": "bfd7f85c-32ac-453d-892c-2135452e1767",
   "metadata": {},
   "outputs": [],
   "source": [
    "\n",
    "def route_inner(distarray):\n",
    "    return distarray # If we wish to apply a function to the distances within the array, this is where we do it\n",
    "\n",
    "def route_outer(distarray):\n",
    "    return 1*(1/np.size(distarray) * np.sum(distarray)) # This is where we 'integrate', and if we need to do anything else, we do it\n",
    "\n",
    "def gps_inner(distarray):\n",
    "    return distarray\n",
    "\n",
    "def gps_outer(distarray):\n",
    "    return 1*(1/np.size(distarray) * np.sum(distarray))\n",
    "\n",
    "def wrapper_f(ri,ro,gi,go): # This should return a function composed from the basic functions, that can then be applied onto route and gps data.\n",
    "    return lambda route, gps : 1*ro(ri(route)) + 1*go(gi(gps))\n",
    "\n",
    "#loss_function = wrapper_f(route_inner, route_outer, gps_inner, gps_outer)\n"
   ]
  },
  {
   "cell_type": "code",
   "execution_count": null,
   "id": "77600779-5d86-49eb-aff2-6447d328e81c",
   "metadata": {},
   "outputs": [
    {
     "name": "stdout",
     "output_type": "stream",
     "text": [
      "CPU times: user 559 ms, sys: 0 ns, total: 559 ms\n",
      "Wall time: 559 ms\n"
     ]
    }
   ],
   "source": [
    "%%time\n",
    "\n",
    "knn1 = 1\n",
    "knn2 = 5\n",
    "knnm = 50\n",
    "\n",
    "sim = metric_mm.Sim(route_inner, route_outer, gps_inner, gps_outer, wrapper_f)\n",
    "sim.preprocessing(tripdata_edges, network_edges, n=n,m=m)"
   ]
  },
  {
   "cell_type": "code",
   "execution_count": null,
   "id": "c4fcac11-d2b1-486b-8cd4-6792fbe63199",
   "metadata": {},
   "outputs": [],
   "source": [
    "for i in range(len(sim.candidate_route_nodes)):\n",
    "    in_pts = [(x,y) for x,y in zip(sim.candidate_route_nodes[i].geometry.x , sim.candidate_route_nodes[i].geometry.y)]\n",
    "    qry_pts =  [(x,y) for x,y in zip(sim.trajectory.geometry.x , sim.trajectory.geometry.y)]\n",
    "    routepts, routeloss = mm_utils.get_nearest(in_pts, qry_pts, k_neighbors = 10000)\n",
    "    gpspts, gpsloss = mm_utils.get_nearest(qry_pts, in_pts, k_neighbors = 10000)\n",
    "#    loss.append(self.loss_function(routeloss, gpsloss))"
   ]
  },
  {
   "cell_type": "code",
   "execution_count": null,
   "id": "07f150be-bd3a-457d-9f2e-49c31c64885e",
   "metadata": {},
   "outputs": [
    {
     "data": {
      "text/plain": [
       "array([[ 0,  1,  2, ..., 48, 49, 50],\n",
       "       [ 0,  1,  2, ..., 48, 49, 50],\n",
       "       [ 0,  1,  2, ..., 48, 49, 50],\n",
       "       ...,\n",
       "       [50, 49, 48, ...,  2,  1,  0],\n",
       "       [50, 49, 48, ...,  2,  1,  0],\n",
       "       [50, 49, 48, ...,  2,  1,  0]])"
      ]
     },
     "execution_count": 11,
     "metadata": {},
     "output_type": "execute_result"
    },
    {
     "data": {
      "text/plain": [
       "array([[0.00037216, 0.00041591, 0.00046004, ..., 0.00232387, 0.00239075,\n",
       "        0.00245766],\n",
       "       [0.00029689, 0.00034231, 0.00038779, ..., 0.00224027, 0.00230694,\n",
       "        0.00237364],\n",
       "       [0.0002386 , 0.00028374, 0.00032905, ..., 0.00215787, 0.00222427,\n",
       "        0.00229073],\n",
       "       ...,\n",
       "       [0.00025122, 0.00031655, 0.00038263, ..., 0.00223798, 0.00227901,\n",
       "        0.00232021],\n",
       "       [0.00025721, 0.00032457, 0.00039197, ..., 0.00225702, 0.00229849,\n",
       "        0.00234012],\n",
       "       [0.0002744 , 0.00034144, 0.00040862, ..., 0.00227723, 0.00231913,\n",
       "        0.00236116]])"
      ]
     },
     "execution_count": 11,
     "metadata": {},
     "output_type": "execute_result"
    },
    {
     "data": {
      "text/plain": [
       "array([[ 3,  4,  2, ..., 48, 49, 50],\n",
       "       [ 3,  4,  2, ..., 48, 49, 50],\n",
       "       [ 4,  3,  5, ..., 48, 49, 50],\n",
       "       ...,\n",
       "       [47, 48, 46, ...,  2,  1,  0],\n",
       "       [48, 47, 49, ...,  2,  1,  0],\n",
       "       [48, 47, 49, ...,  2,  1,  0]])"
      ]
     },
     "execution_count": 11,
     "metadata": {},
     "output_type": "execute_result"
    },
    {
     "data": {
      "text/plain": [
       "array([[0.00021179, 0.00022787, 0.0002386 , ..., 0.00232021, 0.00234012,\n",
       "        0.00236116],\n",
       "       [0.00025098, 0.00025419, 0.00028374, ..., 0.00227901, 0.00229849,\n",
       "        0.00231913],\n",
       "       [0.00028545, 0.00029207, 0.00031112, ..., 0.00223798, 0.00225702,\n",
       "        0.00227723],\n",
       "       ...,\n",
       "       [0.00038112, 0.00038263, 0.00038755, ..., 0.00215787, 0.00224027,\n",
       "        0.00232387],\n",
       "       [0.00031655, 0.00031804, 0.00032457, ..., 0.00222427, 0.00230694,\n",
       "        0.00239075],\n",
       "       [0.00025122, 0.0002572 , 0.00025721, ..., 0.00229073, 0.00237364,\n",
       "        0.00245766]])"
      ]
     },
     "execution_count": 11,
     "metadata": {},
     "output_type": "execute_result"
    },
    {
     "data": {
      "text/plain": [
       "51"
      ]
     },
     "execution_count": 11,
     "metadata": {},
     "output_type": "execute_result"
    },
    {
     "data": {
      "text/plain": [
       "51"
      ]
     },
     "execution_count": 11,
     "metadata": {},
     "output_type": "execute_result"
    },
    {
     "data": {
      "text/plain": [
       "(51, 51)"
      ]
     },
     "execution_count": 11,
     "metadata": {},
     "output_type": "execute_result"
    }
   ],
   "source": [
    "routepts\n",
    "routeloss\n",
    "gpspts\n",
    "gpsloss\n",
    "n = len(gpspts)\n",
    "m = len(routepts)\n",
    "n\n",
    "m\n",
    "gpsloss.shape"
   ]
  },
  {
   "cell_type": "code",
   "execution_count": null,
   "id": "a2ec903d",
   "metadata": {},
   "outputs": [
    {
     "data": {
      "text/plain": [
       "(51, 51)"
      ]
     },
     "execution_count": 12,
     "metadata": {},
     "output_type": "execute_result"
    }
   ],
   "source": [
    "gpsloss.shape"
   ]
  },
  {
   "cell_type": "code",
   "execution_count": null,
   "id": "77ce6f7a-14c1-419b-9fb5-3ce3c5a8b387",
   "metadata": {},
   "outputs": [
    {
     "name": "stdout",
     "output_type": "stream",
     "text": [
      "CPU times: user 47.3 ms, sys: 3.47 ms, total: 50.8 ms\n",
      "Wall time: 48.8 ms\n"
     ]
    }
   ],
   "source": [
    "%%time\n",
    "\n",
    "results1 = sim.run(k1=knn1, k2 = knn1, return_full=True, return_results=True)"
   ]
  },
  {
   "cell_type": "code",
   "execution_count": null,
   "id": "803f47e3-6ca2-4b2b-ac4f-9ed2e89502ac",
   "metadata": {},
   "outputs": [
    {
     "data": {
      "text/plain": [
       "<AxesSubplot:>"
      ]
     },
     "execution_count": 27,
     "metadata": {},
     "output_type": "execute_result"
    },
    {
     "data": {
      "text/plain": [
       "<AxesSubplot:>"
      ]
     },
     "execution_count": 27,
     "metadata": {},
     "output_type": "execute_result"
    },
    {
     "data": {
      "text/plain": [
       "<AxesSubplot:>"
      ]
     },
     "execution_count": 27,
     "metadata": {},
     "output_type": "execute_result"
    },
    {
     "data": {
      "text/plain": [
       "<AxesSubplot:>"
      ]
     },
     "execution_count": 27,
     "metadata": {},
     "output_type": "execute_result"
    },
    {
     "data": {
      "text/plain": [
       "<matplotlib.legend.Legend at 0x7f144ec77d60>"
      ]
     },
     "execution_count": 27,
     "metadata": {},
     "output_type": "execute_result"
    },
    {
     "data": {
      "text/plain": [
       "Text(0.5, 1.0, 'Square Road Network with Trajectory')"
      ]
     },
     "execution_count": 27,
     "metadata": {},
     "output_type": "execute_result"
    },
    {
     "data": {
      "image/png": "[encoded data removed]",
      "text/plain": [
       "<Figure size 576x576 with 1 Axes>"
      ]
     },
     "metadata": {
      "needs_background": "light"
     },
     "output_type": "display_data"
    }
   ],
   "source": [
    "fig, ax = plt.subplots(1,1, figsize=(8,8))\n",
    "\n",
    "results1[0][0].plot(ax=ax, color='blue')\n",
    "sim.candidate_route_nodes[0].plot(ax=ax, color = 'blue')\n",
    "results1[0][1].plot(ax=ax, color='orange')\n",
    "sim.candidate_route_nodes[1].plot(ax=ax, color = 'orange')\n",
    "\n",
    "\n",
    "tripdata_nodes.plot(ax=ax, color='purple')\n",
    "sim.trajectory.plot(ax=ax, color='purple')\n",
    "tripdata_edges.plot(ax=ax,  color='purple')\n",
    "\n",
    "\n",
    "ax.legend(handles = [ax.collections[0],ax.collections[2]],\n",
    "          labels = ['Route 1 (Loss = ' + str(results1[1][0])[:10] + ')',\n",
    "                  'Route 2 (Loss = ' + str(results1[1][1])[:10] + ')'],\n",
    "          loc = 'lower left', bbox_to_anchor=(1,0))\n",
    "\n",
    "ax.set_title('Loss of Combined Edges using ' + str(knn1) + 'NN')\n",
    "fig.text(.5, .2, 'The ratio of the route losses is ' + str(results1[1][1]/results1[1][0])[:5], ha='center')"
   ]
  },
  {
   "cell_type": "code",
   "execution_count": null,
   "id": "cc380a99-da23-4591-a5e0-caa8e2008018",
   "metadata": {},
   "outputs": [
    {
     "name": "stdout",
     "output_type": "stream",
     "text": [
      "CPU times: user 54.2 ms, sys: 188 µs, total: 54.4 ms\n",
      "Wall time: 52.4 ms\n"
     ]
    }
   ],
   "source": [
    "%%time\n",
    "\n",
    "results2 = sim.run(k1=knn2, k2 = knn2, return_full=True, return_results=True)"
   ]
  },
  {
   "cell_type": "code",
   "execution_count": null,
   "id": "9aabee49-b5b4-4446-8f4d-8aa64ac72d75",
   "metadata": {},
   "outputs": [
    {
     "data": {
      "text/plain": [
       "<AxesSubplot:>"
      ]
     },
     "execution_count": 16,
     "metadata": {},
     "output_type": "execute_result"
    },
    {
     "data": {
      "text/plain": [
       "<AxesSubplot:>"
      ]
     },
     "execution_count": 16,
     "metadata": {},
     "output_type": "execute_result"
    },
    {
     "data": {
      "text/plain": [
       "<AxesSubplot:>"
      ]
     },
     "execution_count": 16,
     "metadata": {},
     "output_type": "execute_result"
    },
    {
     "data": {
      "text/plain": [
       "<AxesSubplot:>"
      ]
     },
     "execution_count": 16,
     "metadata": {},
     "output_type": "execute_result"
    },
    {
     "data": {
      "text/plain": [
       "<AxesSubplot:>"
      ]
     },
     "execution_count": 16,
     "metadata": {},
     "output_type": "execute_result"
    },
    {
     "data": {
      "text/plain": [
       "<AxesSubplot:>"
      ]
     },
     "execution_count": 16,
     "metadata": {},
     "output_type": "execute_result"
    },
    {
     "data": {
      "text/plain": [
       "<AxesSubplot:>"
      ]
     },
     "execution_count": 16,
     "metadata": {},
     "output_type": "execute_result"
    },
    {
     "data": {
      "text/plain": [
       "<matplotlib.legend.Legend at 0x7f1450115e10>"
      ]
     },
     "execution_count": 16,
     "metadata": {},
     "output_type": "execute_result"
    },
    {
     "data": {
      "text/plain": [
       "Text(0.5, 1.0, 'Loss of Combined Edges using 5NN')"
      ]
     },
     "execution_count": 16,
     "metadata": {},
     "output_type": "execute_result"
    },
    {
     "data": {
      "text/plain": [
       "Text(0.5, 0.2, 'The ratio of the route losses is 2.003')"
      ]
     },
     "execution_count": 16,
     "metadata": {},
     "output_type": "execute_result"
    },
    {
     "data": {
      "image/png": "[encoded data removed]",
      "text/plain": [
       "<Figure size 576x576 with 1 Axes>"
      ]
     },
     "metadata": {
      "needs_background": "light"
     },
     "output_type": "display_data"
    }
   ],
   "source": [
    "fig, ax = plt.subplots(1,1, figsize=(8,8))\n",
    "\n",
    "results2[0][0].plot(ax=ax, color='blue')\n",
    "sim.candidate_route_nodes[0].plot(ax=ax, color = 'blue')\n",
    "results2[0][1].plot(ax=ax, color='orange')\n",
    "sim.candidate_route_nodes[1].plot(ax=ax, color = 'orange')\n",
    "\n",
    "\n",
    "tripdata_nodes.plot(ax=ax, color='purple')\n",
    "sim.trajectory.plot(ax=ax, color='purple')\n",
    "tripdata_edges.plot(ax=ax,  color='purple')\n",
    "\n",
    "\n",
    "ax.legend(handles = [ax.collections[0],ax.collections[2]],\n",
    "          labels = ['Route 1 (Loss = ' + str(results2[1][0])[:10] + ')',\n",
    "                  'Route 2 (Loss = ' + str(results2[1][1])[:10] + ')'],\n",
    "          loc = 'lower left', bbox_to_anchor=(1,0))\n",
    "\n",
    "ax.set_title('Loss of Combined Edges using ' + str(knn2) + 'NN')\n",
    "fig.text(.5, .2, 'The ratio of the route losses is ' + str(results2[1][1]/results2[1][0])[:5], ha='center')"
   ]
  },
  {
   "cell_type": "markdown",
   "id": "d4e8faaa-0255-41ce-92c6-cdfadb6d5611",
   "metadata": {},
   "source": [
    "Notice that the computation time has not significantly increased. However, the ratio between the losses has changed; the two losses are now relatively closer in value to each other."
   ]
  },
  {
   "cell_type": "code",
   "execution_count": null,
   "id": "2b9c13f4-fca7-4624-a63a-b69937b35935",
   "metadata": {},
   "outputs": [
    {
     "name": "stdout",
     "output_type": "stream",
     "text": [
      "CPU times: user 48.6 ms, sys: 1.7 ms, total: 50.3 ms\n",
      "Wall time: 46 ms\n"
     ]
    }
   ],
   "source": [
    "%%time\n",
    "\n",
    "results3 = sim.run(k1=knnm, k2 = knnm, return_full=True, return_results=True)"
   ]
  },
  {
   "cell_type": "code",
   "execution_count": null,
   "id": "27ba9c21-0504-4d5d-a57b-08e2871e7a57",
   "metadata": {},
   "outputs": [
    {
     "data": {
      "text/plain": [
       "<AxesSubplot:>"
      ]
     },
     "execution_count": 18,
     "metadata": {},
     "output_type": "execute_result"
    },
    {
     "data": {
      "text/plain": [
       "<AxesSubplot:>"
      ]
     },
     "execution_count": 18,
     "metadata": {},
     "output_type": "execute_result"
    },
    {
     "data": {
      "text/plain": [
       "<AxesSubplot:>"
      ]
     },
     "execution_count": 18,
     "metadata": {},
     "output_type": "execute_result"
    },
    {
     "data": {
      "text/plain": [
       "<AxesSubplot:>"
      ]
     },
     "execution_count": 18,
     "metadata": {},
     "output_type": "execute_result"
    },
    {
     "data": {
      "text/plain": [
       "<AxesSubplot:>"
      ]
     },
     "execution_count": 18,
     "metadata": {},
     "output_type": "execute_result"
    },
    {
     "data": {
      "text/plain": [
       "<AxesSubplot:>"
      ]
     },
     "execution_count": 18,
     "metadata": {},
     "output_type": "execute_result"
    },
    {
     "data": {
      "text/plain": [
       "<AxesSubplot:>"
      ]
     },
     "execution_count": 18,
     "metadata": {},
     "output_type": "execute_result"
    },
    {
     "data": {
      "text/plain": [
       "<matplotlib.legend.Legend at 0x7f144ff69e40>"
      ]
     },
     "execution_count": 18,
     "metadata": {},
     "output_type": "execute_result"
    },
    {
     "data": {
      "text/plain": [
       "Text(0.5, 1.0, 'Loss of Combined Edges using MaxNN')"
      ]
     },
     "execution_count": 18,
     "metadata": {},
     "output_type": "execute_result"
    },
    {
     "data": {
      "text/plain": [
       "Text(0.5, 0.2, 'The ratio of the route losses is 1.407')"
      ]
     },
     "execution_count": 18,
     "metadata": {},
     "output_type": "execute_result"
    },
    {
     "data": {
      "image/png": "[encoded data removed]",
      "text/plain": [
       "<Figure size 576x576 with 1 Axes>"
      ]
     },
     "metadata": {
      "needs_background": "light"
     },
     "output_type": "display_data"
    }
   ],
   "source": [
    "fig, ax = plt.subplots(1,1, figsize=(8,8))\n",
    "\n",
    "results3[0][0].plot(ax=ax, color='blue')\n",
    "sim.candidate_route_nodes[0].plot(ax=ax, color = 'blue')\n",
    "results3[0][1].plot(ax=ax, color='orange')\n",
    "sim.candidate_route_nodes[1].plot(ax=ax, color = 'orange')\n",
    "\n",
    "\n",
    "tripdata_nodes.plot(ax=ax, color='purple')\n",
    "sim.trajectory.plot(ax=ax, color='purple')\n",
    "tripdata_edges.plot(ax=ax,  color='purple')\n",
    "\n",
    "\n",
    "ax.legend(handles = [ax.collections[0],ax.collections[2]],\n",
    "          labels = ['Route 1 (Loss = ' + str(results3[1][0])[:10] + ')',\n",
    "                  'Route 2 (Loss = ' + str(results3[1][1])[:10] + ')'],\n",
    "          loc = 'lower left', bbox_to_anchor=(1,0))\n",
    "\n",
    "ax.set_title('Loss of Combined Edges using MaxNN')\n",
    "fig.text(.5, .2, 'The ratio of the route losses is ' + str(results3[1][1]/results3[1][0])[:5], ha='center')"
   ]
  },
  {
   "cell_type": "markdown",
   "id": "554f587c-594d-4a35-9cd6-6489824b2459",
   "metadata": {},
   "source": [
    "Even if we compare the distances between all points of the GPS trajectory and the candidate routes, our computation time does not increase significantly compared to previous cases. This indicates that computation time need not be considered when deciding the parameter for k-NN.\n",
    "\n",
    "However, notice the loss ratio has decreased a lot more. Now there are a lot more 'bad points' being seen in both routes.\n",
    "\n",
    "There is no reason to expect that at any point Route 2 would ever have less loss than Route 1, so it is not directly a concern. However, it may indicate that high values of k may not best represent the validity of routes. In theory, if values of routes start to become a lot less distinct, you may run into floating point concerns in which we can no longer distinguish the loss between two different routes.\n",
    "\n",
    "Of course, if k is too small, then outlier points on the GPS trajectory may result in a lower loss for a route than one might expect. One should experiment with different values of k (likely based on number of points and their frequency) within their own dataset to determine what value performs best in a specific case."
   ]
  },
  {
   "cell_type": "code",
   "execution_count": null,
   "id": "1512d096",
   "metadata": {},
   "outputs": [],
   "source": []
  },
  {
   "cell_type": "code",
   "execution_count": null,
   "id": "63a1aa01",
   "metadata": {},
   "outputs": [
    {
     "ename": "NameError",
     "evalue": "name 'sim4' is not defined",
     "output_type": "error",
     "traceback": [
      "\u001b[0;31m---------------------------------------------------------------------------\u001b[0m",
      "\u001b[0;31mNameError\u001b[0m                                 Traceback (most recent call last)",
      "\u001b[0;32m/tmp/ipykernel_141860/1495512273.py\u001b[0m in \u001b[0;36m<cell line: 1>\u001b[0;34m()\u001b[0m\n\u001b[0;32m----> 1\u001b[0;31m \u001b[0mlen\u001b[0m\u001b[0;34m(\u001b[0m\u001b[0msim4\u001b[0m\u001b[0;34m.\u001b[0m\u001b[0mcandidate_route_nodes\u001b[0m\u001b[0;34m)\u001b[0m\u001b[0;34m\u001b[0m\u001b[0;34m\u001b[0m\u001b[0m\n\u001b[0m",
      "\u001b[0;31mNameError\u001b[0m: name 'sim4' is not defined"
     ]
    }
   ],
   "source": [
    "len(sim4.candidate_route_nodes)"
   ]
  },
  {
   "cell_type": "code",
   "execution_count": null,
   "id": "f49bf12e",
   "metadata": {},
   "outputs": [],
   "source": [
    "from importlib import reload\n",
    "reload(metric_mm)\n",
    "reload(mm_utils)\n",
    "\n",
    "#Sim test\n",
    "#Wassesstein distance computation\n",
    "def wasserstein(routeloss,gpsloss):#gpsloss,n,m\n",
    "    #the (i,j)th entry of the gpsloss matrix is the distance from the ith point of the trajectory to the jth point on the candiate route\n",
    "    # n is the number of points along the trajectory\n",
    "    # m is the number of points on the candidate route\n",
    "    print(gpsloss.shape)\n",
    "    n = gpsloss.shape[0]\n",
    "    m = gpsloss.shape[1]\n",
    "    #the (i,j)th entry of the gpsloss matrix is the distance from the ith point of the trajectory to the jth point on the candiate route\n",
    "    #Create equality constraints\n",
    "    b = [1/n for i in range(0,n)]+ [1/m for i in range(0,m)]\n",
    "    row1 = [i for i in range(0,n) for j in range(0,m)]\n",
    "    row2 = [n+j for j in range (0,m) for i in range(0,n)]\n",
    "    row = np.append(np.matrix.flatten(np.array(row1)),np.matrix.flatten(np.array(row2)))\n",
    "    col1 = [list(range(0,n*m))]\n",
    "    col2 =  [j+m*k for j in range(0,m) for k in range(0,n)]\n",
    "    col = np.append(np.matrix.flatten(np.array(col1)),np.matrix.flatten(np.array(col2)))\n",
    "    data = np.ones(n*m*2)\n",
    "    A = csr_matrix((data, (row, col)),shape = (n+m, n*m)).toarray()\n",
    "    A = A[:-1]\n",
    "    b = b[:-1]\n",
    "    #solve the linear program\n",
    "    res = linprog(np.matrix.flatten(gpsloss),None, None,A,b)\n",
    "    #return the function value, i.e. the wasserstein distance\n",
    "    loss = res.fun\n",
    "    return loss\n",
    "\n",
    "\n",
    "sim4 = metric_mm.Sim(route_inner, route_outer, gps_inner, gps_outer, loss_function = wasserstein)\n",
    "sim4.preprocessing(tripdata_edges, network_edges,n = 1,m=25)"
   ]
  },
  {
   "cell_type": "code",
   "execution_count": null,
   "id": "a7fafeb6",
   "metadata": {},
   "outputs": [],
   "source": [
    "%%time\n",
    "\n",
    "\n",
    "#sim4_results = sim4.run(k1 = 10, k2 = 10, return_results = True)[0]\n",
    "full4 = sim4.run(k1=1, k2 = -1, return_full = True, return_results = True)\n"
   ]
  },
  {
   "cell_type": "code",
   "execution_count": null,
   "id": "07b22b84",
   "metadata": {},
   "outputs": [],
   "source": [
    "fig, ax = plt.subplots(1,1, figsize=(8,8))\n",
    "\n",
    "full4[0][0].plot(ax=ax, color='blue')\n",
    "sim4.candidate_route_nodes[0].plot(ax=ax, color = 'blue')\n",
    "full4[0][1].plot(ax=ax, color='orange')\n",
    "sim4.candidate_route_nodes[1].plot(ax=ax, color = 'orange')\n",
    "\n",
    "\n",
    "tripdata_nodes.plot(ax=ax, color='purple')\n",
    "sim4.trajectory.plot(ax=ax, color='purple')\n",
    "tripdata_edges.plot(ax=ax,  color='purple')\n",
    "\n",
    "\n",
    "ax.legend(handles = [ax.collections[0],ax.collections[2]],\n",
    "          labels = ['Route 1 (Loss = ' + str(full4[1][0])[:10] + ')',\n",
    "                  'Route 2 (Loss = ' + str(full4[1][1])[:10] + ')'],\n",
    "          loc = 'lower left', bbox_to_anchor=(1,0))\n",
    "\n",
    "ax.set_title('Loss of Combined Edges using Wasserstein Distance')\n",
    "fig.text(.5, .2, 'The ratio of the route losses is ' + str(full4[1][1]/full4[1][0])[:5], ha='center')\n"
   ]
  },
  {
   "cell_type": "code",
   "execution_count": null,
   "id": "7eb602b2",
   "metadata": {},
   "outputs": [],
   "source": [
    "for i in range(len(sim4.candidate_route_nodes)):\n",
    "    in_pts = [(x,y) for x,y in zip(sim4.candidate_route_nodes[i].geometry.x , sim4.candidate_route_nodes[i].geometry.y)]\n",
    "    qry_pts =  [(x,y) for x,y in zip(sim4.trajectory.geometry.x , sim4.trajectory.geometry.y)]\n",
    "    routepts, routeloss = mm_utils.get_nearest(in_pts, qry_pts, k_neighbors = 10000)\n",
    "    gpspts, gpsloss = mm_utils.get_nearest(qry_pts, in_pts, k_neighbors = 10000)\n",
    "#    loss.append(self.loss_function(routeloss, gpsloss))"
   ]
  },
  {
   "cell_type": "code",
   "execution_count": null,
   "id": "ed9101c0",
   "metadata": {},
   "outputs": [],
   "source": []
  },
  {
   "cell_type": "code",
   "execution_count": null,
   "id": "7f27d55b",
   "metadata": {},
   "outputs": [],
   "source": [
    "sim4.candidate_route_nodes[0].geometry.x"
   ]
  },
  {
   "cell_type": "code",
   "execution_count": null,
   "id": "7413c963",
   "metadata": {},
   "outputs": [],
   "source": []
  }
 ],
 "metadata": {
  "kernelspec": {
   "display_name": "Python 3 (ipykernel)",
   "language": "python",
   "name": "python3"
  },
  "language_info": {
   "codemirror_mode": {
    "name": "ipython",
    "version": 3
   },
   "file_extension": ".py",
   "mimetype": "text/x-python",
   "name": "python",
   "nbconvert_exporter": "python",
   "pygments_lexer": "ipython3",
   "version": "3.10.5"
  }
 },
 "nbformat": 4,
 "nbformat_minor": 5
}
