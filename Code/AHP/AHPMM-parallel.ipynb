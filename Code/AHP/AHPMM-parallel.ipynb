{
 "cells": [
  {
   "cell_type": "markdown",
   "id": "a4a471ce-704d-4d80-bd0f-b6712940b2fc",
   "metadata": {},
   "source": [
    "Parallelized AHP map matching for KCMMN"
   ]
  },
  {
   "cell_type": "code",
   "execution_count": 1,
   "id": "71f03c90-5eef-40e8-ba86-bcb544958d7a",
   "metadata": {},
   "outputs": [],
   "source": [
    "# load dependencies'\n",
    "import concurrent.futures\n",
    "import pandas as pd\n",
    "import geopandas as gpd\n",
    "from shapely.geometry import shape\n",
    "import osmnx as ox\n",
    "import networkx as nx\n",
    "import numpy as np\n",
    "import requests\n",
    "import json\n",
    "from tqdm import tqdm\n",
    "import matplotlib.pyplot as plt\n",
    "from urllib.parse import urljoin\n",
    "from shapely.geometry import Point, LineString, Polygon\n",
    "import pyproj \n",
    "import mm_utils\n",
    "from datetime import datetime\n",
    "from IMM import IMM\n",
    "from Junction_Condition import JC\n",
    "from MMJ import MMJ\n",
    "from AHPMM import AHPMM\n",
    "\n",
    "# import sys\n",
    "# sys.path.append('..')"
   ]
  },
  {
   "cell_type": "code",
   "execution_count": 2,
   "id": "5d923884-2d6c-4562-815c-598f27c08ad9",
   "metadata": {},
   "outputs": [],
   "source": [
    "import sys\n",
    "sys.path.append('..')\n",
    "import preprocessing.downloader as dl\n",
    "\n",
    "# # load all the data \n",
    "# trajectory_number = '1'\n",
    "# dataset_dir = '../Data/map-matching-dataset/'\n",
    "# speed_direction_approixmation_dir = '../kcmmn/approximation'\n",
    "# trajectory_data, nodes_data, edges_data = dl.KCMMN_input_for_fuzzy_AHP('1', dataset_dir=dataset_dir,speed_direction_approximation_dir=speed_direction_approixmation_dir)"
   ]
  },
  {
   "cell_type": "code",
   "execution_count": 149,
   "id": "57e37465-a795-45eb-be54-17f56f819fa2",
   "metadata": {},
   "outputs": [
    {
     "name": "stderr",
     "output_type": "stream",
     "text": [
      "100%|██████████████████████████████████████████████████████████████████████████████████| 1/1 [00:00<00:00, 1002.70it/s]"
     ]
    },
    {
     "name": "stdout",
     "output_type": "stream",
     "text": [
      "53\n",
      "CPU times: total: 0 ns\n",
      "Wall time: 2.97 ms\n"
     ]
    },
    {
     "name": "stderr",
     "output_type": "stream",
     "text": [
      "\n"
     ]
    }
   ],
   "source": [
    "%%time\n",
    "import dask\n",
    "import dask.bag as db\n",
    "\n",
    "# outlier_detection_results.append(dask.delayed(sigle_outlier_detection_experiment)(slope, id, perturbated_gdf))\n",
    "\n",
    "def load_single_trajectory(trajectory_number, dataset_dir,speed_direction_approximation_dir):\n",
    "    return dl.KCMMN_input_for_fuzzy_AHP(trajectory_number, dataset_dir=dataset_dir,speed_direction_approximation_dir=speed_direction_approixmation_dir)\n",
    "\n",
    "dataset_dir = '../Data/map-matching-dataset/'\n",
    "speed_direction_approixmation_dir = '../kcmmn/approximation'\n",
    "\n",
    "testing_range = range(0, 100)\n",
    "loading_dataset_bag = []\n",
    "for i in tqdm(testing_range):\n",
    "    print(i)\n",
    "    trajectory_number = str(i)\n",
    "    loading_dataset_bag.append(dask.delayed(load_single_trajectory)(trajectory_number, dataset_dir=dataset_dir,speed_direction_approximation_dir=speed_direction_approixmation_dir))"
   ]
  },
  {
   "cell_type": "code",
   "execution_count": 150,
   "id": "52d19d83-2c54-4d9b-b2f1-67ae110e5187",
   "metadata": {},
   "outputs": [
    {
     "name": "stdout",
     "output_type": "stream",
     "text": [
      "[########################################] | 100% Completed | 31.11 s\n",
      "CPU times: total: 672 ms\n",
      "Wall time: 31.3 s\n"
     ]
    }
   ],
   "source": [
    "%%time\n",
    "\n",
    "from dask.diagnostics import ProgressBar\n",
    "\n",
    "with ProgressBar():\n",
    "    loading_dataset_results = dask.compute(*loading_dataset_bag, scheduler='processes')"
   ]
  },
  {
   "cell_type": "code",
   "execution_count": 144,
   "id": "e7b7666c-a1f3-4afe-b39f-d06eef62e5b0",
   "metadata": {
    "scrolled": true
   },
   "outputs": [
    {
     "name": "stderr",
     "output_type": "stream",
     "text": [
      "  0%|                                                                                            | 0/1 [00:00<?, ?it/s]<timed exec>:13: SettingWithCopyWarning: \n",
      "A value is trying to be set on a copy of a slice from a DataFrame\n",
      "\n",
      "See the caveats in the documentation: https://pandas.pydata.org/pandas-docs/stable/user_guide/indexing.html#returning-a-view-versus-a-copy\n",
      "<timed exec>:11: SettingWithCopyWarning: \n",
      "A value is trying to be set on a copy of a slice from a DataFrame\n",
      "\n",
      "See the caveats in the documentation: https://pandas.pydata.org/pandas-docs/stable/user_guide/indexing.html#returning-a-view-versus-a-copy\n",
      "100%|████████████████████████████████████████████████████████████████████████████████████| 1/1 [00:00<00:00, 10.02it/s]"
     ]
    },
    {
     "name": "stdout",
     "output_type": "stream",
     "text": [
      "CPU times: total: 31.2 ms\n",
      "Wall time: 103 ms\n"
     ]
    },
    {
     "name": "stderr",
     "output_type": "stream",
     "text": [
      "\n"
     ]
    }
   ],
   "source": [
    "%%time\n",
    "\n",
    "def single_AHP_run(trajectory_data, nodes_data, edges_data):\n",
    "    return AHPMM(trajectory_data, nodes_data, edges_data)\n",
    "\n",
    "AHP_bag = []\n",
    "    \n",
    "for i in tqdm(range(len(testing_range))):\n",
    "    trajectory_data, nodes_data, edges_data = loading_dataset_results[i]\n",
    "    \n",
    "    for j in range(len(trajectory_data)):\n",
    "        if (trajectory_data['GPS Bearing'][j] <= (np.pi / 2)) and (trajectory_data['GPS Bearing'][j] >= 0 ):\n",
    "            trajectory_data['GPS Bearing'][j] = (np.pi / 2 - trajectory_data['GPS Bearing'][j]) * 360 / (2 * np.pi)\n",
    "        else:\n",
    "            trajectory_data['GPS Bearing'][j] = (5 * np.pi / 2 - trajectory_data['GPS Bearing'][j]) * 360 / (2 * np.pi)    \n",
    "    \n",
    "    AHP_bag.append(dask.delayed(single_AHP_run)(trajectory_data, nodes_data, edges_data))"
   ]
  },
  {
   "cell_type": "code",
   "execution_count": 145,
   "id": "91f11872-d805-43cf-9ae4-d55ab15ab469",
   "metadata": {},
   "outputs": [
    {
     "name": "stdout",
     "output_type": "stream",
     "text": [
      "[########################################] | 100% Completed | 93.21 s\n",
      "CPU times: total: 188 ms\n",
      "Wall time: 1min 33s\n"
     ]
    }
   ],
   "source": [
    "%%time\n",
    "\n",
    "with ProgressBar():\n",
    "    AHP_results = dask.compute(*AHP_bag, scheduler='processes')"
   ]
  },
  {
   "cell_type": "code",
   "execution_count": 146,
   "id": "12818387-3de4-4798-82db-82d4bb5f718d",
   "metadata": {},
   "outputs": [
    {
     "name": "stderr",
     "output_type": "stream",
     "text": [
      "100%|████████████████████████████████████████████████████████████████████████████████████| 1/1 [00:00<00:00, 29.50it/s]"
     ]
    },
    {
     "name": "stdout",
     "output_type": "stream",
     "text": [
      "CPU times: total: 31.2 ms\n",
      "Wall time: 36.9 ms\n"
     ]
    },
    {
     "name": "stderr",
     "output_type": "stream",
     "text": [
      "\n"
     ]
    }
   ],
   "source": [
    "%%time\n",
    "matched_links_results = []\n",
    "matched_links_no_duplicate_results = []\n",
    "for i in tqdm(range(len(testing_range))):\n",
    "    matched_links, matched_links_no_duplicate = AHP_results[i]\n",
    "    matched_links_results.append(matched_links)\n",
    "    matched_links_no_duplicate_results.append(matched_links_no_duplicate)"
   ]
  },
  {
   "cell_type": "code",
   "execution_count": 52,
   "id": "f37e13aa-5d45-4b2c-9d46-5956cbb00478",
   "metadata": {},
   "outputs": [
    {
     "name": "stderr",
     "output_type": "stream",
     "text": [
      "100%|██████████████████████████████████████████████████████████████████████████████████| 99/99 [00:42<00:00,  2.33it/s]"
     ]
    },
    {
     "name": "stdout",
     "output_type": "stream",
     "text": [
      "Error about uniqufied matched_edge_df:  0.19879269071149458\n"
     ]
    },
    {
     "name": "stderr",
     "output_type": "stream",
     "text": [
      "\n"
     ]
    }
   ],
   "source": [
    "import os\n",
    "import dask.bag as db\n",
    "import algorithms.metric_mm as metric_mm\n",
    "import preprocessing.constants as constants\n",
    "\n",
    "ground_truth_dir = dataset_dir\n",
    "# gt = dl.load_kcmmn_ground_truth(trajectory_number, ground_truth_dir=ground_truth_dir)\n",
    "# error = mm_utils.evaluate(matched_edge_df,\n",
    "#     gt,\n",
    "#     matchid = \"geometry\")\n",
    "# print('Error about not uniqufied matched_edge_df: ', error)\n",
    "errors2 = []\n",
    "gts = []\n",
    "for i in tqdm(testing_range):\n",
    "    # i = 4\n",
    "    trajectory_number = str(i)\n",
    "    gt = dl.load_kcmmn_ground_truth(trajectory_number, dataset_dir=ground_truth_dir)\n",
    "    matched_edge_df = pd.concat(matched_links_no_duplicate_results[i])\n",
    "    error = mm_utils.evaluate(matched_edge_df,\n",
    "        gt,\n",
    "        matchid = \"geometry\")\n",
    "    errors2.append(error)\n",
    "    gts.append(gt)\n",
    "\n",
    "print('Error about uniqufied matched_edge_df: ', np.mean(errors2))"
   ]
  },
  {
   "cell_type": "code",
   "execution_count": 56,
   "id": "13f07e58-dcf4-49d4-8fa7-2cfe660ab17e",
   "metadata": {},
   "outputs": [
    {
     "data": {
      "text/plain": [
       "[0.044922284873669865,\n",
       " 0.5399509045038684,\n",
       " 0.2537153987445326,\n",
       " 0.1651667782709795,\n",
       " 0.0045827137502002235,\n",
       " 0.040847285233732676,\n",
       " 0.0712354730825219,\n",
       " 0.8847767144647539,\n",
       " 0.1860455189136754,\n",
       " 0.462296418124942,\n",
       " 0.012302921058306963,\n",
       " 0.06344699971932141,\n",
       " 0.04692985908389388,\n",
       " 0.07783050716501477,\n",
       " 0.8583785870370524,\n",
       " 0.5960793175500625,\n",
       " 0.08811151625490568,\n",
       " 0.10512756640359931,\n",
       " 0.17923967675419866,\n",
       " 0.0778673841635232,\n",
       " 0.03262553737365151,\n",
       " 0.24853555137620192,\n",
       " 0.07778643059291364,\n",
       " 0.8273984510742942,\n",
       " 0.18658464894641674,\n",
       " 0.2570771261955198,\n",
       " 0.022590577335796166,\n",
       " 0.61680199132967,\n",
       " 0.1860058893920872,\n",
       " 0.21298801714553792,\n",
       " 0.05541489377702164,\n",
       " 0.3126851324829339,\n",
       " 0.7661464462645438,\n",
       " 0.1183405181115485,\n",
       " 0.4387682185249868,\n",
       " 0.060010380691745815,\n",
       " 0.0010427972510829663,\n",
       " 0.04638352208419701,\n",
       " 0.03551183645243626,\n",
       " 0.028283987454093596,\n",
       " 0.058384425578407305,\n",
       " 0.044619952678011686,\n",
       " 0.7915858619487921,\n",
       " 0.06845620480942528,\n",
       " 0.0408949632095114,\n",
       " 0.10922538743178417,\n",
       " 0.11255041908157379,\n",
       " 0.07971229218353616,\n",
       " 0.08106868053568463,\n",
       " 0.09539223044389014,\n",
       " 0.1769445020575915,\n",
       " 0.05896582912925289,\n",
       " 0.20119595173639004,\n",
       " 0.3581155656996414,\n",
       " 0.023882400946811485,\n",
       " 0.16547678439934177,\n",
       " 0.680551507253565,\n",
       " 0.1278184519511774,\n",
       " 0.10170854544573105,\n",
       " 0.17773441238618568,\n",
       " 0.3652665585428173,\n",
       " 0.3695532237879351,\n",
       " 0.0675999536978278,\n",
       " 0.028131238286827103,\n",
       " 0.09816789893372278,\n",
       " 0.578693384276998,\n",
       " 0.05601290360507804,\n",
       " 0.03313870441155316,\n",
       " 0.10472615707690786,\n",
       " 0.1299443767934801,\n",
       " 0.058627889071180904,\n",
       " 0.09352370915057495,\n",
       " 0.1133230190727539,\n",
       " 0.16491537730443329,\n",
       " 0.06448032791223524,\n",
       " 0.11538478880317453,\n",
       " 0.3002934672603559,\n",
       " 0.1202218903189199,\n",
       " 0.11817638488791862,\n",
       " 0.7188428445872671,\n",
       " 0.011345479144386699,\n",
       " 0.15791387252548492,\n",
       " 0.3498499343771928,\n",
       " 0.1642439157324054,\n",
       " 0.15370328502949873,\n",
       " 0.018094683682667034,\n",
       " 0.2793881555461431,\n",
       " 0.037625838995289214,\n",
       " 0.11197274429003652,\n",
       " 0.04357529557418676,\n",
       " 0.23102833602054973,\n",
       " 0.03318966635303093,\n",
       " 0.380697003891187,\n",
       " 0.036822143268374984,\n",
       " 0.11289073878476102,\n",
       " 0.14479338027066863,\n",
       " 0.010340518082521247,\n",
       " 0.03949887686155502,\n",
       " 0.8203582663103222]"
      ]
     },
     "execution_count": 56,
     "metadata": {},
     "output_type": "execute_result"
    }
   ],
   "source": [
    "errors2"
   ]
  },
  {
   "cell_type": "code",
   "execution_count": 59,
   "id": "7e50949a-2a87-4d30-a884-7a140b1dfb44",
   "metadata": {},
   "outputs": [],
   "source": [
    "fig = plt.figure(1)\n",
    "plt.boxplot(errors2,vert=False)\n",
    "plt.title('AHP (uniqufied) Error %s on ' \n",
    "          + str(20) \n",
    "          + ' test cases \\n(Average error = ' \n",
    "          + str(np.average(errors2)) + ')')\n",
    "plt.show()"
   ]
  },
  {
   "cell_type": "code",
   "execution_count": 147,
   "id": "41fa3911-bb43-4efa-b985-de54f0c5583b",
   "metadata": {},
   "outputs": [],
   "source": [
    "ground_truth_dir = dataset_dir\n",
    "gt = dl.load_kcmmn_ground_truth('60', dataset_dir=ground_truth_dir)\n",
    "gts=[]\n",
    "gts.append(gt)"
   ]
  },
  {
   "cell_type": "code",
   "execution_count": 148,
   "id": "9fd461be-7b45-46ae-9d67-4181ce814992",
   "metadata": {},
   "outputs": [
    {
     "data": {
      "text/plain": [
       "<Axes: >"
      ]
     },
     "execution_count": 148,
     "metadata": {},
     "output_type": "execute_result"
    }
   ],
   "source": [
    "# visualization\n",
    "%matplotlib tk\n",
    "\n",
    "idx = 0\n",
    "\n",
    "# This is how we  visualize edges and error bound \n",
    "\n",
    "# plotting edges and starting point together \n",
    "f, ax = plt.subplots()\n",
    "\n",
    "# location for all point\n",
    "#locs_utm.plot(ax=ax)\n",
    "point_locs = trajectory_data['geometry'].to_frame()\n",
    "point_locs.plot(ax = ax, color=\"Red\", markersize = 10)\n",
    "\n",
    "\n",
    "# this plot all the road system \n",
    "edges_data.plot(ax=ax,color = \"#bfe4ff\", linewidth = 1)\n",
    "\n",
    "# ground truth\n",
    "gts[0].plot(ax = ax, linewidth=4, color = 'Yellow')\n",
    "\n",
    "# result\n",
    "pd.concat(matched_links_results[0]).plot(ax = ax, color = \"Black\")\n",
    "\n",
    "# matched_points_df.plot(ax = ax, color = \"Red\")"
   ]
  },
  {
   "cell_type": "code",
   "execution_count": null,
   "id": "2c296be1-6cf6-4736-939c-6a3088f496b1",
   "metadata": {},
   "outputs": [],
   "source": []
  }
 ],
 "metadata": {
  "kernelspec": {
   "display_name": "Python 3 (ipykernel)",
   "language": "python",
   "name": "python3"
  },
  "language_info": {
   "codemirror_mode": {
    "name": "ipython",
    "version": 3
   },
   "file_extension": ".py",
   "mimetype": "text/x-python",
   "name": "python",
   "nbconvert_exporter": "python",
   "pygments_lexer": "ipython3",
   "version": "3.11.4"
  }
 },
 "nbformat": 4,
 "nbformat_minor": 5
}
