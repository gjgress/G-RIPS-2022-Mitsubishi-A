{
 "cells": [
  {
   "cell_type": "code",
   "execution_count": 41,
   "id": "d80bb22c-2e5c-40ae-b107-deea4e474e85",
   "metadata": {},
   "outputs": [
    {
     "data": {
      "text/plain": [
       "<module 'JCfunc' from 'C:\\\\Users\\\\GRIPS\\\\G-RIPS-2023-Mitsubishi-A\\\\Code\\\\AHP\\\\JCfunc.py'>"
      ]
     },
     "execution_count": 41,
     "metadata": {},
     "output_type": "execute_result"
    }
   ],
   "source": [
    "# load dependencies'\n",
    "import concurrent.futures\n",
    "import pandas as pd\n",
    "import geopandas as gpd\n",
    "from shapely.geometry import shape\n",
    "import osmnx as ox\n",
    "import networkx as nx\n",
    "import numpy as np\n",
    "import requests\n",
    "import json\n",
    "import matplotlib.pyplot as plt\n",
    "from urllib.parse import urljoin\n",
    "from shapely.geometry import Point, LineString, Polygon\n",
    "import pyproj \n",
    "import mm_utils\n",
    "from datetime import datetime\n",
    "import JCfunc\n",
    "import importlib\n",
    "importlib.reload(JCfunc)"
   ]
  },
  {
   "cell_type": "code",
   "execution_count": 42,
   "id": "8e4a746c-e56e-487b-b136-29a885769877",
   "metadata": {},
   "outputs": [],
   "source": [
    "def adjust_angle(angle):\n",
    "    # this function converts the angle so that if the angle is greater than pi it replaced with 2pi-angle\n",
    "    if angle > 180:\n",
    "        angle = 360 - angle\n",
    "    return angle"
   ]
  },
  {
   "cell_type": "code",
   "execution_count": 43,
   "id": "6c3d480f-7ff9-4e6c-a940-8f990012a3e0",
   "metadata": {},
   "outputs": [],
   "source": [
    "gdf_utm = pd.read_pickle('gdf_utm.pkl')\n",
    "nodes_utm = pd.read_pickle('nodes_utm.pkl')\n",
    "edges_utm = pd.read_pickle('edges_utm.pkl')\n",
    "curr_edge = pd.read_pickle('current_edge.pkl')\n",
    "\n",
    "# for debugging purposes start at iteration point 15 \n",
    "point_index = 12\n",
    "# this is for debugging purposes, true \n",
    "# last_matched = gpd.GeoDataFrame(geometry=gpd.points_from_xy([819609.861], [5766244.800]), crs=\"EPSG:32631\")\n",
    "\n",
    "# current location \n",
    "curr_loc = gdf_utm.iloc[point_index].to_frame().T\n",
    "\n",
    "# find longitude and latitude for last matched data\n",
    "# last_matched['lon_lat'] = last_matched.to_crs({'init': 'epsg:4326'})"
   ]
  },
  {
   "cell_type": "code",
   "execution_count": 45,
   "id": "ab9ea0bf-305a-4343-a296-e2f0a5294042",
   "metadata": {},
   "outputs": [
    {
     "data": {
      "text/html": [
       "<div>\n",
       "<style scoped>\n",
       "    .dataframe tbody tr th:only-of-type {\n",
       "        vertical-align: middle;\n",
       "    }\n",
       "\n",
       "    .dataframe tbody tr th {\n",
       "        vertical-align: top;\n",
       "    }\n",
       "\n",
       "    .dataframe thead th {\n",
       "        text-align: right;\n",
       "    }\n",
       "</style>\n",
       "<table border=\"1\" class=\"dataframe\">\n",
       "  <thead>\n",
       "    <tr style=\"text-align: right;\">\n",
       "      <th></th>\n",
       "      <th>id</th>\n",
       "      <th>time</th>\n",
       "      <th>phenomenons</th>\n",
       "      <th>geometry</th>\n",
       "      <th>GPS Speed</th>\n",
       "      <th>GPS HDOP</th>\n",
       "      <th>GPS Bearing</th>\n",
       "      <th>lon_lat</th>\n",
       "      <th>speed_mps</th>\n",
       "    </tr>\n",
       "  </thead>\n",
       "  <tbody>\n",
       "    <tr>\n",
       "      <th>12</th>\n",
       "      <td>52f3836be4b0d8e8c27ed70a</td>\n",
       "      <td>2014-02-01 14:18:49+00:00</td>\n",
       "      <td>{'GPS Bearing': {'value': 297.5, 'unit': 'deg'...</td>\n",
       "      <td>POINT (819609.7343499986 5766228.984348884)</td>\n",
       "      <td>21.6</td>\n",
       "      <td>0.9</td>\n",
       "      <td>297.5</td>\n",
       "      <td>POINT (7.65214054 51.95470718)</td>\n",
       "      <td>6.0</td>\n",
       "    </tr>\n",
       "  </tbody>\n",
       "</table>\n",
       "</div>"
      ],
      "text/plain": [
       "                          id                      time  \\\n",
       "12  52f3836be4b0d8e8c27ed70a 2014-02-01 14:18:49+00:00   \n",
       "\n",
       "                                          phenomenons  \\\n",
       "12  {'GPS Bearing': {'value': 297.5, 'unit': 'deg'...   \n",
       "\n",
       "                                       geometry GPS Speed GPS HDOP  \\\n",
       "12  POINT (819609.7343499986 5766228.984348884)      21.6      0.9   \n",
       "\n",
       "   GPS Bearing                         lon_lat speed_mps  \n",
       "12       297.5  POINT (7.65214054 51.95470718)       6.0  "
      ]
     },
     "execution_count": 45,
     "metadata": {},
     "output_type": "execute_result"
    }
   ],
   "source": [
    "curr_loc"
   ]
  },
  {
   "cell_type": "code",
   "execution_count": 44,
   "id": "28cde9ca-9f44-48f3-b8b3-31c39567cb35",
   "metadata": {},
   "outputs": [
    {
     "data": {
      "text/plain": [
       "False"
      ]
     },
     "execution_count": 44,
     "metadata": {},
     "output_type": "execute_result"
    }
   ],
   "source": [
    "# extract node id\n",
    "edge_node1 = nodes_utm.loc[curr_edge.index[0][0]]\n",
    "edge_node2 = nodes_utm.loc[curr_edge.index[0][1]]\n",
    "\n",
    "# select the end node \n",
    "if (curr_loc['GPS Bearing'].iloc[0] > 0 and curr_loc['GPS Bearing'].iloc[0] < 180):\n",
    "    # if object movint to the right of map select the one with larger longitude\n",
    "    if edge_node1.x > edge_node2.x:\n",
    "        end_node = edge_node1\n",
    "        start_node = edge_node2\n",
    "    else:\n",
    "        end_node = edge_node2\n",
    "        start_node = edge_node1\n",
    "else:\n",
    "    # if object is moving to the left select node with smaller longitude\n",
    "    if edge_node1.x < edge_node2.x:\n",
    "        end_node = edge_node1\n",
    "        start_node = edge_node2\n",
    "    else:\n",
    "        end_node = edge_node2\n",
    "        start_node = edge_node1\n",
    "\n",
    "# angle distance between the heading of the current point and the heading of the previous point\n",
    "# it should lie between 0 to pi\n",
    "delta_h = adjust_angle(abs(gdf_utm['GPS Bearing'].iloc[point_index] - gdf_utm['GPS Bearing'].iloc[point_index - 1]))\n",
    "\n",
    "# distance traveled from the last position fix to the end nodes\n",
    "d_1 = end_node['geometry'].distance(curr_loc['geometry']).iloc[0]\n",
    "\n",
    "# distance traveled since the last position fix \n",
    "t = gdf_utm['time'].iloc[point_index] - gdf_utm['time'].iloc[point_index - 1]\n",
    "d_2 = (gdf_utm['speed_mps'].iloc[point_index])* t.seconds\n",
    "\n",
    "delta_d = d_1 - d_2\n",
    "\n",
    "speed = curr_loc['speed_mps'].iloc[0]\n",
    "\n",
    "MMLfunc.MML(delta_d, delta_h, speed)\n"
   ]
  },
  {
   "cell_type": "code",
   "execution_count": 40,
   "id": "bc605a4a-0f6b-4bc7-a58e-c053bc4e16bb",
   "metadata": {},
   "outputs": [],
   "source": [
    "def JC(trajectory_data, nodes_data, edges_data, current_position, previous_edge):\n",
    "        # extract node id\n",
    "    edge_node1 = nodes_data.loc[previous_edge.index[0][0]]\n",
    "    edge_node2 = nodes_data.loc[previous_edge.index[0][1]]\n",
    "    \n",
    "    # select the end node \n",
    "    if (current_position['GPS Bearing'].iloc[0] > 0 and current_position['GPS Bearing'].iloc[0] < 180):\n",
    "        # if object movint to the right of map select the one with larger longitude\n",
    "        if edge_node1.x > edge_node2.x:\n",
    "            end_node = edge_node1\n",
    "            start_node = edge_node2\n",
    "        else:\n",
    "            end_node = edge_node2\n",
    "            start_node = edge_node1\n",
    "    else:\n",
    "        # if object is moving to the left select node with smaller longitude\n",
    "        if edge_node1.x < edge_node2.x:\n",
    "            end_node = edge_node1\n",
    "            start_node = edge_node2\n",
    "        else:\n",
    "            end_node = edge_node2\n",
    "            start_node = edge_node1\n",
    "    \n",
    "    # angle distance between the heading of the current point and the heading of the previous point\n",
    "    # it should lie between 0 to pi\n",
    "    delta_h = adjust_angle(abs(trajectory_data['GPS Bearing'].iloc[iter] - trajectory_data['GPS Bearing'].iloc[iter - 1]))\n",
    "    \n",
    "    # distance traveled from the last position fix to the end nodes\n",
    "    d_1 = end_node['geometry'].distance(current_position['geometry']).iloc[0]\n",
    "    \n",
    "    # distance traveled since the last position fix \n",
    "    t = trajectory_data['time'].iloc[iter] - trajectory_data['time'].iloc[iter - 1]\n",
    "    d_2 = (trajectory_data['speed_mps'].iloc[iter])* t.seconds\n",
    "    \n",
    "    delta_d = d_1 - d_2\n",
    "    \n",
    "    speed = current_position['speed_mps'].iloc[0]\n",
    "\n",
    "    iter = iter + 1\n",
    "    \n",
    "    return JCfunc.MML(delta_d, delta_h, speed)"
   ]
  },
  {
   "cell_type": "code",
   "execution_count": 38,
   "id": "f92517a2-026f-4e52-a186-14efc44b0e98",
   "metadata": {},
   "outputs": [
    {
     "data": {
      "text/plain": [
       "False"
      ]
     },
     "execution_count": 38,
     "metadata": {},
     "output_type": "execute_result"
    }
   ],
   "source": [
    "iter = 12\n",
    "JC(pd.read_pickle('gdf_utm.pkl'), pd.read_pickle('nodes_utm.pkl'), pd.read_pickle('edges_utm.pkl'), gdf_utm.iloc[iter].to_frame().T, pd.read_pickle('current_edge.pkl') )"
   ]
  },
  {
   "cell_type": "code",
   "execution_count": 39,
   "id": "b013a561-a70b-49fe-8c14-afe31d36fd5a",
   "metadata": {},
   "outputs": [
    {
     "data": {
      "text/plain": [
       "13"
      ]
     },
     "execution_count": 39,
     "metadata": {},
     "output_type": "execute_result"
    }
   ],
   "source": [
    "iter "
   ]
  },
  {
   "cell_type": "code",
   "execution_count": null,
   "id": "855a9113-5f32-460e-b6fd-1c9aabe451c0",
   "metadata": {},
   "outputs": [],
   "source": []
  }
 ],
 "metadata": {
  "kernelspec": {
   "display_name": "Python 3 (ipykernel)",
   "language": "python",
   "name": "python3"
  },
  "language_info": {
   "codemirror_mode": {
    "name": "ipython",
    "version": 3
   },
   "file_extension": ".py",
   "mimetype": "text/x-python",
   "name": "python",
   "nbconvert_exporter": "python",
   "pygments_lexer": "ipython3",
   "version": "3.11.4"
  }
 },
 "nbformat": 4,
 "nbformat_minor": 5
}
