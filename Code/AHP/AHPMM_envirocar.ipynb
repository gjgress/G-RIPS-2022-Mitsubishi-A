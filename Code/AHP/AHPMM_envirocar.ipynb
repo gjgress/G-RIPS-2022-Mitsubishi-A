{
 "cells": [
  {
   "cell_type": "markdown",
   "id": "0b6c421a-1329-4b0a-a774-9bc43cc66c06",
   "metadata": {},
   "source": [
    "AHP map matching algorithm for envirocar"
   ]
  },
  {
   "cell_type": "code",
   "execution_count": 1,
   "id": "48e79426-2c24-4e3b-ad62-107bef7faeb0",
   "metadata": {},
   "outputs": [],
   "source": [
    "# load dependencies'\n",
    "import concurrent.futures\n",
    "import pandas as pd\n",
    "import geopandas as gpd\n",
    "from shapely.geometry import shape\n",
    "import osmnx as ox\n",
    "import networkx as nx\n",
    "import numpy as np\n",
    "import requests\n",
    "import json\n",
    "from tqdm import tqdm\n",
    "import matplotlib.pyplot as plt\n",
    "from urllib.parse import urljoin\n",
    "from shapely.geometry import Point, LineString, Polygon\n",
    "import pyproj \n",
    "import mm_utils\n",
    "from datetime import datetime\n",
    "from IMM import IMM\n",
    "from Junction_Condition import JC\n",
    "from MMJ import MMJ\n",
    "\n",
    "# import sys\n",
    "# sys.path.append('..')"
   ]
  },
  {
   "cell_type": "code",
   "execution_count": 3,
   "id": "4a5398a6-a64e-41bc-a0df-cb3cd24642e8",
   "metadata": {},
   "outputs": [],
   "source": [
    "def AHPMM(trajectory_data, nodes_data, edges_data):\n",
    "    matched_links = []\n",
    "    matched_links_no_duplicate = []\n",
    "    # matched_points = []\n",
    "    iter, previous_edge = IMM(trajectory_data, edges_data, iter=0)\n",
    "    previous_edge['method'] = ['IMM']\n",
    "    matched_links.append(previous_edge)\n",
    "    matched_links_no_duplicate.append(previous_edge)\n",
    "    while iter < len(trajectory_data):\n",
    "        current_position = trajectory_data.iloc[[iter]]\n",
    "        previous_position = trajectory_data.iloc[[iter-1]]\n",
    "        # print(current_position)\n",
    "        if JC(nodes_data, edges_data, current_position, previous_position, previous_edge):\n",
    "            previous_edge['method'] = ['JC']\n",
    "            matched_links.append(previous_edge)\n",
    "            iter = iter + 1\n",
    "        else:\n",
    "            temp = previous_edge\n",
    "            iter, previous_edge = MMJ(trajectory_data, nodes_data, edges_data, current_position, previous_edge, iter)\n",
    "            previous_edge['method'] = ['SMM']\n",
    "            matched_links.append(previous_edge)\n",
    "            if (previous_edge.index[0] != temp.index[0]) and (previous_edge.iloc[0].method == 'SMM'):\n",
    "                matched_links_no_duplicate.append(previous_edge)\n",
    "\n",
    "    return matched_links, matched_links_no_duplicate"
   ]
  },
  {
   "cell_type": "code",
   "execution_count": 20,
   "id": "db713504-1c9b-441a-bcb0-70ee0f3b9471",
   "metadata": {},
   "outputs": [],
   "source": [
    "import sys\n",
    "sys.path.append('..')\n",
    "import preprocessing.downloader as dl\n",
    "id = dl.fetch_ids_on_envirocar(num_trajectories=5)[4]\n",
    "gdf = dl.download_from_envirocar(id, use_cache=False)\n",
    "trajectory_data, nodes_data, edges_data = dl.to_fuzzy_AHP_input(gdf)"
   ]
  },
  {
   "cell_type": "code",
   "execution_count": 21,
   "id": "45fb58a1-65b6-4be2-b794-89ba6bb60371",
   "metadata": {},
   "outputs": [],
   "source": [
    "matched_links, matched_links_no_duplicate = AHPMM(trajectory_data, nodes_data, edges_data)"
   ]
  },
  {
   "cell_type": "code",
   "execution_count": 22,
   "id": "35d6175e-a604-4a72-bdb0-f81a7cbd1899",
   "metadata": {},
   "outputs": [],
   "source": [
    "matched_edge_df = pd.concat(matched_links)\n",
    "# matched_points_df = pd.concat(matched_points)"
   ]
  },
  {
   "cell_type": "code",
   "execution_count": 23,
   "id": "34e4f036-16f6-453b-bb32-048d83390feb",
   "metadata": {},
   "outputs": [
    {
     "data": {
      "text/plain": [
       "<Axes: >"
      ]
     },
     "execution_count": 23,
     "metadata": {},
     "output_type": "execute_result"
    }
   ],
   "source": [
    "# visualization\n",
    "%matplotlib tk\n",
    "# This is how we  visualize edges and error bound \n",
    "\n",
    "# plotting edges and starting point together \n",
    "f, ax = plt.subplots()\n",
    "\n",
    "# location for all point\n",
    "\n",
    "point_locs = trajectory_data['geometry'].to_frame()\n",
    "point_locs.plot(ax = ax, color = \"Red\")\n",
    "\n",
    "\n",
    "# this plot all the road system \n",
    "edges_data.plot(ax=ax)\n",
    "\n",
    "\n",
    "matched_edge_df.plot(ax = ax, color = \"Orange\")\n"
   ]
  },
  {
   "cell_type": "code",
   "execution_count": 7,
   "id": "b6a85009-fad4-409c-b3fb-2a123828e379",
   "metadata": {},
   "outputs": [
    {
     "data": {
      "text/plain": [
       "463"
      ]
     },
     "execution_count": 7,
     "metadata": {},
     "output_type": "execute_result"
    }
   ],
   "source": [
    "len(trajectory_data)"
   ]
  },
  {
   "cell_type": "code",
   "execution_count": null,
   "id": "0c405543-e445-40a7-9266-35b84d5ec1ea",
   "metadata": {},
   "outputs": [],
   "source": []
  }
 ],
 "metadata": {
  "kernelspec": {
   "display_name": "Python 3 (ipykernel)",
   "language": "python",
   "name": "python3"
  },
  "language_info": {
   "codemirror_mode": {
    "name": "ipython",
    "version": 3
   },
   "file_extension": ".py",
   "mimetype": "text/x-python",
   "name": "python",
   "nbconvert_exporter": "python",
   "pygments_lexer": "ipython3",
   "version": "3.11.4"
  }
 },
 "nbformat": 4,
 "nbformat_minor": 5
}
