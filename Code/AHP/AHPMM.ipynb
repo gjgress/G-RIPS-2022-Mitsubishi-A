{
 "cells": [
  {
   "cell_type": "code",
   "execution_count": 1,
   "id": "71f03c90-5eef-40e8-ba86-bcb544958d7a",
   "metadata": {},
   "outputs": [],
   "source": [
    "# load dependencies'\n",
    "import concurrent.futures\n",
    "import pandas as pd\n",
    "import geopandas as gpd\n",
    "from shapely.geometry import shape\n",
    "import osmnx as ox\n",
    "import networkx as nx\n",
    "import numpy as np\n",
    "import requests\n",
    "import json\n",
    "import matplotlib.pyplot as plt\n",
    "from urllib.parse import urljoin\n",
    "from shapely.geometry import Point, LineString, Polygon\n",
    "import pyproj \n",
    "import mm_utils\n",
    "from datetime import datetime\n",
    "from IMM import IMM\n",
    "from Junction_Condtion import JC\n",
    "from MMJ import MMJ\n",
    "# import sys\n",
    "# sys.path.append('..')"
   ]
  },
  {
   "cell_type": "code",
   "execution_count": 2,
   "id": "5d5a73ec-cf39-40f4-8573-11ef3c4d1b28",
   "metadata": {},
   "outputs": [],
   "source": [
    "# def point_matching(curr_loc, curr_edge):\n",
    "#     # matched position to the current edge \n",
    "#     # input need to be panda series\n",
    "#     # curr loc need attribute geometry point\n",
    "#     # curr_edge need attribute 'geometry' lines\n",
    "#     # output a point that matched to the current edge\n",
    "#     crs_utm = curr_loc.crs\n",
    "#     dist = curr_edge['geometry'].project(curr_loc['geometry']).iloc[0]\n",
    "#     matched_point = list(curr_edge['geometry'].interpolate(dist).coords)\n",
    "#     matched_point = gpd.GeoDataFrame(geometry=gpd.points_from_xy([matched_point[0][0]], [matched_point[0][1]]), crs= crs_utm)\n",
    "#     return matched_point"
   ]
  },
  {
   "cell_type": "code",
   "execution_count": 3,
   "id": "468c5c0d-003a-44b5-9bbf-a16c32294538",
   "metadata": {},
   "outputs": [],
   "source": [
    "def AHPMM(trajector_data, nodes_data, edges_data):\n",
    "    matched_links = []\n",
    "    # matched_points = []\n",
    "    iter, previous_edge = IMM(trajectory_data, edges_data, iter=0)\n",
    "    matched_links.append(previous_edge)\n",
    "    while iter < len(trajectory_data):\n",
    "        current_position = trajectory_data.iloc[[iter]]\n",
    "        # print(current_position)\n",
    "        if JC(trajectory_data, nodes_data, edges_data, current_position, previous_edge, iter):\n",
    "            iter += 1\n",
    "        else:\n",
    "            tmp = MMJ(trajectory_data, nodes_data, edges_data, current_position, previous_edge, iter)\n",
    "            iter, previous_edge = tmp\n",
    "        matched_links.append(previous_edge)\n",
    "\n",
    "        # matched_point = point_matching(current_position, previous_edge.iloc[0])\n",
    "        # # find longitude and latitude for last matched data\n",
    "        # matched_point['lon_lat'] = matched_point.to_crs({'init': 'epsg:4326'})\n",
    "        # matched_points.append(matched_point)\n",
    "    return matched_links #, matched_points"
   ]
  },
  {
   "cell_type": "code",
   "execution_count": 4,
   "id": "de3cc422-084b-4275-8dc4-423448985968",
   "metadata": {},
   "outputs": [],
   "source": [
    "import sys\n",
    "sys.path.append('..')\n",
    "import preprocessing.downloader as dl\n",
    "# id = dl.fetch_ids_on_envirocar(num_trajectories=3)[2]\n",
    "id = \"64c35f12c7e42807e7b8fc4e\"\n",
    "gdf = dl.download_from_envirocar(id, use_cache=False)\n",
    "trajectory_data, nodes_data, edges_data = dl.to_fuzzy_AHP_input(gdf)"
   ]
  },
  {
   "cell_type": "code",
   "execution_count": 5,
   "id": "d9c5c651-d036-491f-b537-7d6d63c3510b",
   "metadata": {},
   "outputs": [],
   "source": [
    "# trajectory_data = pd.read_pickle('gdf_utm.pkl')\n",
    "# nodes_data = pd.read_pickle('nodes_utm.pkl')\n",
    "# edges_data = pd.read_pickle('edges_utm.pkl')\n",
    "# initial_previous_position = pd.read_pickle('gdf_utm.pkl').iloc[iter].to_frame()\n",
    "# matched_links, matched_points = AHPMM(trajectory_data, nodes_data, edges_data)\n",
    "matched_links = AHPMM(trajectory_data, nodes_data, edges_data)"
   ]
  },
  {
   "cell_type": "code",
   "execution_count": 6,
   "id": "02ebd73c-415d-4d45-8921-c0fc85d9c380",
   "metadata": {},
   "outputs": [],
   "source": [
    "matched_edge_df = pd.concat(matched_links)\n",
    "# matched_points_df = pd.concat(matched_points)"
   ]
  },
  {
   "cell_type": "code",
   "execution_count": 9,
   "id": "9fd461be-7b45-46ae-9d67-4181ce814992",
   "metadata": {},
   "outputs": [
    {
     "data": {
      "text/plain": [
       "<Axes: >"
      ]
     },
     "execution_count": 9,
     "metadata": {},
     "output_type": "execute_result"
    }
   ],
   "source": [
    "# visualization\n",
    "%matplotlib tk\n",
    "# This is how we  visualize edges and error bound \n",
    "\n",
    "# plotting edges and starting point together \n",
    "f, ax = plt.subplots()\n",
    "\n",
    "# location for all point\n",
    "#locs_utm.plot(ax=ax)\n",
    "point_locs = trajectory_data['geometry'].to_frame()\n",
    "point_locs.plot(ax = ax, color=\"Red\")\n",
    "\n",
    "\n",
    "# this plot all the road system \n",
    "edges_data.plot(ax=ax)\n",
    "# candidate_link.iloc[[0]].plot(ax = ax, color = 'Red')\n",
    "# candidate_link.iloc[[3]].plot(ax = ax, color = 'Yellow')\n",
    "# candidate_link.iloc[4:6].plot(ax = ax, color = 'Blue')\n",
    "# candidate_link.iloc[6:8].plot(ax = ax)\n",
    "\n",
    "# this plot the selected edge at time point \n",
    "\n",
    "# matched point plot\n",
    "# matched_point_df.plot(ax = ax, color = \"Green\")\n",
    "# next_point_matching.plot(ax = ax, color = \"Green\")\n",
    "# nodes_data.plot(ax = ax, color = \"Green\")\n",
    "# matched_edge\n",
    "matched_edge_df.plot(ax = ax, color = \"Yellow\")\n",
    "# matched_edge_df.iloc[[7]].plot(ax = ax, color = \"Red\")\n",
    "# matched_edge_df.iloc[[26]].plot(ax = ax, color = \"Yellow\")\n",
    "# # plot closest node\n",
    "# closest_node.plot(ax = ax, color = \"Black\")\n",
    "# closest_edge.plot(ax = ax , color = \"Black\")\n",
    "# # debuging for djiksta shortest path\n",
    "# origin_node.plot(ax = ax, color = \"Black\")\n",
    "# target_node.plot(ax = ax , color = \"Black\")\n",
    "\n",
    "# matched_points_df.plot(ax = ax, color = \"Red\")"
   ]
  },
  {
   "cell_type": "code",
   "execution_count": null,
   "id": "5c91c032-178b-4313-8579-925deb5f297c",
   "metadata": {},
   "outputs": [],
   "source": []
  }
 ],
 "metadata": {
  "kernelspec": {
   "display_name": "Python 3 (ipykernel)",
   "language": "python",
   "name": "python3"
  },
  "language_info": {
   "codemirror_mode": {
    "name": "ipython",
    "version": 3
   },
   "file_extension": ".py",
   "mimetype": "text/x-python",
   "name": "python",
   "nbconvert_exporter": "python",
   "pygments_lexer": "ipython3",
   "version": "3.11.4"
  }
 },
 "nbformat": 4,
 "nbformat_minor": 5
}
