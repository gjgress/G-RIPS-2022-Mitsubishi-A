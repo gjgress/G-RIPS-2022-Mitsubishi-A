{
 "cells": [
  {
   "cell_type": "code",
   "execution_count": 1,
   "id": "71f03c90-5eef-40e8-ba86-bcb544958d7a",
   "metadata": {},
   "outputs": [],
   "source": [
    "# load dependencies'\n",
    "import concurrent.futures\n",
    "import pandas as pd\n",
    "import geopandas as gpd\n",
    "from shapely.geometry import shape\n",
    "import osmnx as ox\n",
    "import networkx as nx\n",
    "import numpy as np\n",
    "import requests\n",
    "import json\n",
    "import matplotlib.pyplot as plt\n",
    "from urllib.parse import urljoin\n",
    "from shapely.geometry import Point, LineString, Polygon\n",
    "import pyproj \n",
    "import mm_utils\n",
    "from datetime import datetime\n",
    "from IMM import IMM\n",
    "from Junction_Condtion import JC\n",
    "from MMJ import MMJ"
   ]
  },
  {
   "cell_type": "code",
   "execution_count": 2,
   "id": "468c5c0d-003a-44b5-9bbf-a16c32294538",
   "metadata": {},
   "outputs": [],
   "source": [
    "def AHPMM(trajector_data, nodes_data, edges_data):\n",
    "    matched_links = []\n",
    "    iter, previous_edge = IMM(trajectory_data, edges_data, iter=0)\n",
    "    matched_links.append(previous_edge)\n",
    "    while iter < len(trajectory_data):\n",
    "        current_position = trajectory_data.iloc[[iter]]\n",
    "        # print(current_position)\n",
    "        if JC(trajectory_data, nodes_data, edges_data, current_position, previous_edge, iter):\n",
    "            iter += 1\n",
    "        else:\n",
    "            tmp = MMJ(trajectory_data, nodes_data, edges_data, current_position, previous_edge, iter)\n",
    "            # print('type', type(tmp))\n",
    "            # print('value', tmp)\n",
    "            iter, previous_edge = tmp\n",
    "            matched_links.append(previous_edge)\n",
    "    return matched_links"
   ]
  },
  {
   "cell_type": "code",
   "execution_count": 3,
   "id": "d9c5c651-d036-491f-b537-7d6d63c3510b",
   "metadata": {},
   "outputs": [],
   "source": [
    "trajectory_data = pd.read_pickle('gdf_utm.pkl')\n",
    "nodes_data = pd.read_pickle('nodes_utm.pkl')\n",
    "edges_data = pd.read_pickle('edges_utm.pkl')\n",
    "# initial_previous_position = pd.read_pickle('gdf_utm.pkl').iloc[iter].to_frame()\n",
    "matched_links = AHPMM(trajectory_data, nodes_data, edges_data)"
   ]
  },
  {
   "cell_type": "code",
   "execution_count": 4,
   "id": "02ebd73c-415d-4d45-8921-c0fc85d9c380",
   "metadata": {},
   "outputs": [],
   "source": [
    "matched_edge_df = pd.concat(matched_links)"
   ]
  },
  {
   "cell_type": "code",
   "execution_count": 8,
   "id": "9fd461be-7b45-46ae-9d67-4181ce814992",
   "metadata": {},
   "outputs": [
    {
     "data": {
      "text/plain": [
       "<Axes: >"
      ]
     },
     "execution_count": 8,
     "metadata": {},
     "output_type": "execute_result"
    }
   ],
   "source": [
    "# visualization\n",
    "%matplotlib tk\n",
    "# This is how we  visualize edges and error bound \n",
    "\n",
    "# plotting edges and starting point together \n",
    "f, ax = plt.subplots()\n",
    "\n",
    "# location for all point\n",
    "#locs_utm.plot(ax=ax)\n",
    "point_locs = trajectory_data['geometry'].to_frame()\n",
    "point_locs.plot(ax = ax)\n",
    "\n",
    "\n",
    "# this plot all the road system \n",
    "edges_data.plot(ax=ax)\n",
    "# candidate_link.iloc[[0]].plot(ax = ax, color = 'Red')\n",
    "# candidate_link.iloc[[3]].plot(ax = ax, color = 'Yellow')\n",
    "# candidate_link.iloc[4:6].plot(ax = ax, color = 'Blue')\n",
    "# candidate_link.iloc[6:8].plot(ax = ax)\n",
    "\n",
    "# this plot the selected edge at time point \n",
    "\n",
    "# matched point plot\n",
    "# matched_point_df.plot(ax = ax, color = \"Green\")\n",
    "# next_point_matching.plot(ax = ax, color = \"Green\")\n",
    "# nodes_data.plot(ax = ax, color = \"Green\")\n",
    "# matched_edge\n",
    "matched_edge_df.plot(ax = ax, color = \"Black\")\n",
    "# matched_edge_df.iloc[[7]].plot(ax = ax, color = \"Red\")\n",
    "# matched_edge_df.iloc[[26]].plot(ax = ax, color = \"Yellow\")\n",
    "# # plot closest node\n",
    "# closest_node.plot(ax = ax, color = \"Black\")\n",
    "# closest_edge.plot(ax = ax , color = \"Black\")\n",
    "# # debuging for djiksta shortest path\n",
    "# origin_node.plot(ax = ax, color = \"Black\")\n",
    "# target_node.plot(ax = ax , color = \"Black\")"
   ]
  },
  {
   "cell_type": "code",
   "execution_count": 6,
   "id": "0f8a0a81-9134-45db-b0d4-54be7a8b23f5",
   "metadata": {},
   "outputs": [
    {
     "name": "stdout",
     "output_type": "stream",
     "text": [
      "0.5\n"
     ]
    }
   ],
   "source": [
    "print(matched_edge_df['connectivity'].mean())"
   ]
  },
  {
   "cell_type": "code",
   "execution_count": 7,
   "id": "af71aaaf-594d-49f0-9066-ed1a64eec9e2",
   "metadata": {},
   "outputs": [
    {
     "data": {
      "text/plain": [
       "41"
      ]
     },
     "execution_count": 7,
     "metadata": {},
     "output_type": "execute_result"
    }
   ],
   "source": [
    "len(matched_edge_df)"
   ]
  },
  {
   "cell_type": "code",
   "execution_count": null,
   "id": "b72cbfdd-69d4-4d5a-ac5d-8571c29309c7",
   "metadata": {},
   "outputs": [],
   "source": []
  }
 ],
 "metadata": {
  "kernelspec": {
   "display_name": "Python 3 (ipykernel)",
   "language": "python",
   "name": "python3"
  },
  "language_info": {
   "codemirror_mode": {
    "name": "ipython",
    "version": 3
   },
   "file_extension": ".py",
   "mimetype": "text/x-python",
   "name": "python",
   "nbconvert_exporter": "python",
   "pygments_lexer": "ipython3",
   "version": "3.11.4"
  }
 },
 "nbformat": 4,
 "nbformat_minor": 5
}
