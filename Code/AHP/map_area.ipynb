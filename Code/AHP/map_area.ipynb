{
 "cells": [
  {
   "cell_type": "code",
   "execution_count": 1,
   "id": "aafb84d3-c62c-40a7-8cdc-b397fc01b10a",
   "metadata": {},
   "outputs": [],
   "source": [
    "# load dependencies'\n",
    "import concurrent.futures\n",
    "import pandas as pd\n",
    "import geopandas as gpd\n",
    "from shapely.geometry import shape\n",
    "import osmnx as ox\n",
    "import networkx as nx\n",
    "import numpy as np\n",
    "import requests\n",
    "import json\n",
    "import matplotlib.pyplot as plt\n",
    "from urllib.parse import urljoin\n",
    "from shapely.geometry import Point, LineString, Polygon\n",
    "import pyproj \n",
    "import mm_utils"
   ]
  },
  {
   "cell_type": "code",
   "execution_count": 2,
   "id": "3bc09306-bd44-4552-bfc7-8ab686aa49d8",
   "metadata": {},
   "outputs": [],
   "source": [
    "# this function outputs the circle of radius 200m centered at the current location. \n",
    "def circle_area(curr_loc):\n",
    "    \n",
    "    x = curr_loc['geometry'].iloc[0].x\n",
    "    y = curr_loc['geometry'].iloc[0].y\n",
    "\n",
    "    p1 = Point((x,y))\n",
    "    df = pd.DataFrame({'Attribute' : ['name1']})\n",
    "    circle_ragion = gpd.GeoDataFrame(df, geometry = [p1], crs = \"EPSG:32631\")\n",
    "    circle_ragion['geometry'] = circle_ragion.geometry.buffer(200)\n",
    "\n",
    "    return circle_ragion"
   ]
  },
  {
   "cell_type": "code",
   "execution_count": 13,
   "id": "f7afadf9-2181-4548-808a-5287c72f1bfe",
   "metadata": {},
   "outputs": [],
   "source": [
    "trajectory_data = pd.read_pickle('gdf_utm.pkl')\n",
    "nodes_data = pd.read_pickle('nodes_utm.pkl')\n",
    "edges_data = pd.read_pickle('edges_utm.pkl')"
   ]
  },
  {
   "cell_type": "code",
   "execution_count": 14,
   "id": "b18eb98b-05ac-47dc-8118-2ab0d8b2b7ba",
   "metadata": {},
   "outputs": [
    {
     "data": {
      "text/plain": [
       "<Projected CRS: EPSG:32631>\n",
       "Name: WGS 84 / UTM zone 31N\n",
       "Axis Info [cartesian]:\n",
       "- E[east]: Easting (metre)\n",
       "- N[north]: Northing (metre)\n",
       "Area of Use:\n",
       "- name: Between 0°E and 6°E, northern hemisphere between equator and 84°N, onshore and offshore. Algeria. Andorra. Belgium. Benin. Burkina Faso. Denmark - North Sea. France. Germany - North Sea. Ghana. Luxembourg. Mali. Netherlands. Niger. Nigeria. Norway. Spain. Togo. United Kingdom (UK) - North Sea.\n",
       "- bounds: (0.0, 0.0, 6.0, 84.0)\n",
       "Coordinate Operation:\n",
       "- name: UTM zone 31N\n",
       "- method: Transverse Mercator\n",
       "Datum: World Geodetic System 1984 ensemble\n",
       "- Ellipsoid: WGS 84\n",
       "- Prime Meridian: Greenwich"
      ]
     },
     "execution_count": 14,
     "metadata": {},
     "output_type": "execute_result"
    }
   ],
   "source": [
    "trajectory_data.crs"
   ]
  },
  {
   "cell_type": "code",
   "execution_count": 18,
   "id": "1abaa481-25e8-45d5-9602-0a1d3d243f93",
   "metadata": {},
   "outputs": [],
   "source": [
    "a = trajectory_data.iloc[[5]]"
   ]
  },
  {
   "cell_type": "code",
   "execution_count": 19,
   "id": "b7c8326b-4d8e-42a7-bc18-17e7bb2f2a1c",
   "metadata": {},
   "outputs": [
    {
     "data": {
      "text/plain": [
       "<Projected CRS: EPSG:32631>\n",
       "Name: WGS 84 / UTM zone 31N\n",
       "Axis Info [cartesian]:\n",
       "- E[east]: Easting (metre)\n",
       "- N[north]: Northing (metre)\n",
       "Area of Use:\n",
       "- name: Between 0°E and 6°E, northern hemisphere between equator and 84°N, onshore and offshore. Algeria. Andorra. Belgium. Benin. Burkina Faso. Denmark - North Sea. France. Germany - North Sea. Ghana. Luxembourg. Mali. Netherlands. Niger. Nigeria. Norway. Spain. Togo. United Kingdom (UK) - North Sea.\n",
       "- bounds: (0.0, 0.0, 6.0, 84.0)\n",
       "Coordinate Operation:\n",
       "- name: UTM zone 31N\n",
       "- method: Transverse Mercator\n",
       "Datum: World Geodetic System 1984 ensemble\n",
       "- Ellipsoid: WGS 84\n",
       "- Prime Meridian: Greenwich"
      ]
     },
     "execution_count": 19,
     "metadata": {},
     "output_type": "execute_result"
    }
   ],
   "source": [
    "a.crs"
   ]
  },
  {
   "cell_type": "code",
   "execution_count": 15,
   "id": "38fbd03b-cd73-48ee-8a33-3d5d57cf0a8d",
   "metadata": {},
   "outputs": [
    {
     "ename": "NameError",
     "evalue": "name 'contains' is not defined",
     "output_type": "error",
     "traceback": [
      "\u001b[1;31m---------------------------------------------------------------------------\u001b[0m",
      "\u001b[1;31mNameError\u001b[0m                                 Traceback (most recent call last)",
      "Cell \u001b[1;32mIn[15], line 22\u001b[0m\n\u001b[0;32m     19\u001b[0m number_junctions \u001b[38;5;241m=\u001b[39m np\u001b[38;5;241m.\u001b[39mcount_nonzero(temp2[\u001b[38;5;241m1\u001b[39m] \u001b[38;5;241m>\u001b[39m\u001b[38;5;241m=\u001b[39m \u001b[38;5;241m3\u001b[39m)\n\u001b[0;32m     21\u001b[0m total_length \u001b[38;5;241m=\u001b[39m \u001b[38;5;241m0\u001b[39m\n\u001b[1;32m---> 22\u001b[0m \u001b[38;5;28;01mfor\u001b[39;00m i \u001b[38;5;129;01min\u001b[39;00m \u001b[38;5;28mrange\u001b[39m(\u001b[38;5;28mlen\u001b[39m(contains)):\n\u001b[0;32m     23\u001b[0m     \u001b[38;5;28;01mif\u001b[39;00m contains\u001b[38;5;241m.\u001b[39miloc[i][\u001b[38;5;124m'\u001b[39m\u001b[38;5;124moneway\u001b[39m\u001b[38;5;124m'\u001b[39m] \u001b[38;5;241m==\u001b[39m \u001b[38;5;28;01mFalse\u001b[39;00m:\n\u001b[0;32m     24\u001b[0m         total_length \u001b[38;5;241m+\u001b[39m\u001b[38;5;241m=\u001b[39m contains\u001b[38;5;241m.\u001b[39miloc[i][\u001b[38;5;124m'\u001b[39m\u001b[38;5;124mlength\u001b[39m\u001b[38;5;124m'\u001b[39m]\u001b[38;5;241m/\u001b[39m\u001b[38;5;241m2\u001b[39m\n",
      "\u001b[1;31mNameError\u001b[0m: name 'contains' is not defined"
     ]
    }
   ],
   "source": [
    "iter = 20\n",
    "\n",
    "curr_loc = trajectory_data.iloc[iter].to_frame().T\n",
    "\n",
    "circle_ragion = circle_area(curr_loc)\n",
    "\n",
    "intersects = gpd.sjoin(circle_ragion, edges_data, predicate='intersects')\n",
    "# contains_nodes = gpd.sjoin(circle_ragion, nodes_utm, predicate='contains')\n",
    "\n",
    "inter_index = intersects[['index_right0', 'index_right1', 'index_right2']].values.tolist()\n",
    "intersects_edges = edges_data.loc[map(tuple, inter_index)]\n",
    "\n",
    "unique_intersects = intersects_edges.loc[intersects_edges['osmid'].drop_duplicates().index]\n",
    "temp = unique_intersects.reset_index()\n",
    "list = pd.concat([temp['u'], temp['v']])\n",
    "list = list.to_list()\n",
    "temp2 = np.unique(list, return_counts=True) \n",
    "\n",
    "number_junctions = np.count_nonzero(temp2[1] >= 3)\n",
    "\n",
    "total_length = 0\n",
    "for i in range(len(contains)):\n",
    "    if contains.iloc[i]['oneway'] == False:\n",
    "        total_length += contains.iloc[i]['length']/2\n",
    "    else:\n",
    "        total_length += contains.iloc[i]['length']\n",
    "\n",
    "# km to m\n",
    "total_length /= 1000\n",
    "\n",
    "map_area = number_junctions / total_length\n",
    " "
   ]
  },
  {
   "cell_type": "code",
   "execution_count": 31,
   "id": "a0c03cb9-bfa1-47d0-94a5-6f40d900f8a6",
   "metadata": {},
   "outputs": [
    {
     "data": {
      "text/plain": [
       "0.8308546170591073"
      ]
     },
     "execution_count": 31,
     "metadata": {},
     "output_type": "execute_result"
    }
   ],
   "source": [
    "map_area"
   ]
  },
  {
   "cell_type": "code",
   "execution_count": 12,
   "id": "69788780-3eca-4257-805e-b376d94d5f7b",
   "metadata": {},
   "outputs": [
    {
     "name": "stdout",
     "output_type": "stream",
     "text": [
      "<class 'geopandas.geodataframe.GeoDataFrame'>\n"
     ]
    },
    {
     "data": {
      "text/plain": [
       "<Axes: >"
      ]
     },
     "execution_count": 12,
     "metadata": {},
     "output_type": "execute_result"
    }
   ],
   "source": [
    "%matplotlib tk\n",
    "# This is how we  visualize edges and error bound \n",
    "#print(edges)\n",
    "print(type(edges_data))\n",
    "\n",
    "# find which edges is selected at time point\n",
    "# find index of the edge id\n",
    "# loc = np.where(edges_data[\"str_id\"] == conc(edge_link[0]))\n",
    "\n",
    "# find the last position for IMP\n",
    "# poly_1 = err_polygon(curr_pos_list[iter - 1], err_size)\n",
    "poly_2 = circle_area(curr_loc)\n",
    "\n",
    "#Save selected edge \n",
    "# answer_loc = edges_data.iloc[loc]\n",
    "\n",
    "# plotting edges and starting point together \n",
    "f, ax = plt.subplots()\n",
    "\n",
    "# location for all point\n",
    "#locs_utm.plot(ax=ax)\n",
    "point_locs = trajectory_data['geometry'].to_frame()\n",
    "point_locs.iloc[0:iter, :].plot(ax = ax)\n",
    "\n",
    "#current location versus edges\n",
    "#curr_loc.plot(ax=ax)\n",
    "\n",
    "#err coord \n",
    "# better if we just take location at the last and use error bound function \n",
    "poly_2.plot(ax=ax, facecolor=\"none\")\n",
    "nodes_data.plot(ax = ax, color = \"Green\")\n",
    "\n",
    "# this plot all the road system \n",
    "edges_data.plot(ax=ax)\n",
    "\n",
    "# this plot the selected edge at time point \n",
    "# answer_loc.plot(ax=ax, cmap = \"Reds\")\n",
    "\n",
    "#print(intersects['index_right'])"
   ]
  },
  {
   "cell_type": "code",
   "execution_count": null,
   "id": "0514c495-df35-4620-9d43-6879ae086a8e",
   "metadata": {},
   "outputs": [],
   "source": []
  },
  {
   "cell_type": "code",
   "execution_count": null,
   "id": "cbb57e78-3ea5-47fb-9d35-5d235da44575",
   "metadata": {},
   "outputs": [],
   "source": []
  }
 ],
 "metadata": {
  "kernelspec": {
   "display_name": "Python 3 (ipykernel)",
   "language": "python",
   "name": "python3"
  },
  "language_info": {
   "codemirror_mode": {
    "name": "ipython",
    "version": 3
   },
   "file_extension": ".py",
   "mimetype": "text/x-python",
   "name": "python",
   "nbconvert_exporter": "python",
   "pygments_lexer": "ipython3",
   "version": "3.11.4"
  }
 },
 "nbformat": 4,
 "nbformat_minor": 5
}
