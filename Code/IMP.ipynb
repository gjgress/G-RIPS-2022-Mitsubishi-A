{
 "cells": [
  {
   "cell_type": "code",
   "execution_count": null,
   "id": "ae3a827a-4e4e-4c99-9ce8-49785f45269c",
   "metadata": {},
   "outputs": [],
   "source": [
    "# %pip uninstall envirocar-py -y\n",
    "# %pip install overpass"
   ]
  },
  {
   "cell_type": "code",
   "execution_count": 14,
   "id": "81a4a667-b359-4fae-8b01-ca31252e710b",
   "metadata": {},
   "outputs": [
    {
     "name": "stdout",
     "output_type": "stream",
     "text": [
      "0     7.652441\n",
      "1     7.652266\n",
      "2     7.652316\n",
      "3     7.652412\n",
      "4     7.652567\n",
      "        ...   \n",
      "77    7.630158\n",
      "78    7.630158\n",
      "79    7.630237\n",
      "80    7.630168\n",
      "81    7.630126\n",
      "Length: 82, dtype: float64\n"
     ]
    }
   ],
   "source": [
    "# %load_ext autoreload\n",
    "# %autoreload 2\n",
    "\n",
    "# load dependencies'\n",
    "import concurrent.futures\n",
    "import pandas as pd\n",
    "import geopandas as gpd\n",
    "from shapely.geometry import shape\n",
    "import osmnx as ox\n",
    "import networkx as nx\n",
    "\n",
    "import requests\n",
    "import json\n",
    "from urllib.parse import urljoin\n",
    "\n",
    "from algorithms import mm_utils\n",
    "\n",
    "# read data \n",
    "gdf = pd.read_pickle('envirocar.pkl')\n",
    "\n",
    "# results of extracted info \n",
    "print(gdf['geometry'].x) "
   ]
  }
 ],
 "metadata": {
  "kernelspec": {
   "display_name": "Python (ox)",
   "language": "python",
   "name": "myenv"
  },
  "language_info": {
   "codemirror_mode": {
    "name": "ipython",
    "version": 3
   },
   "file_extension": ".py",
   "mimetype": "text/x-python",
   "name": "python",
   "nbconvert_exporter": "python",
   "pygments_lexer": "ipython3",
   "version": "3.11.4"
  }
 },
 "nbformat": 4,
 "nbformat_minor": 5
}
