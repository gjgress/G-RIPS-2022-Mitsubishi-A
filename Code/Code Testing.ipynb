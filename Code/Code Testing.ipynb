{
 "cells": [
  {
   "cell_type": "code",
   "execution_count": null,
   "id": "918068c9-aeff-40c4-ae9c-1107eacaa471",
   "metadata": {},
   "outputs": [],
   "source": [
    "import geopandas as gpd\n",
    "import pandas as pd\n",
    "import fiona\n",
    "import ujson as json\n",
    "import csv\n",
    "#import json\n",
    "# Import the Dask libraries we need\n",
    "import dask.dataframe as dd\n",
    "import dask_geopandas as dgpd\n",
    "import dask.bag as db\n",
    "import numpy as np\n",
    "import osmnx as ox\n",
    "from algorithms import mm_utils\n",
    "from shapely.geometry import Point"
   ]
  },
  {
   "cell_type": "code",
   "execution_count": null,
   "id": "d6a3f395-c8c4-45b4-af72-d8426d287b6e",
   "metadata": {},
   "outputs": [
    {
     "ename": "NameError",
     "evalue": "name 'tripdata' is not defined",
     "output_type": "error",
     "traceback": [
      "\u001b[0;31m---------------------------------------------------------------------------\u001b[0m",
      "\u001b[0;31mNameError\u001b[0m                                 Traceback (most recent call last)",
      "Input \u001b[0;32mIn [2]\u001b[0m, in \u001b[0;36m<cell line: 16>\u001b[0;34m()\u001b[0m\n\u001b[1;32m     13\u001b[0m \u001b[38;5;28;01mimport\u001b[39;00m \u001b[38;5;21;01mtime\u001b[39;00m\n\u001b[1;32m     15\u001b[0m tripdata_nodes[\u001b[38;5;124m'\u001b[39m\u001b[38;5;124mtime\u001b[39m\u001b[38;5;124m'\u001b[39m] \u001b[38;5;241m=\u001b[39m (pd\u001b[38;5;241m.\u001b[39mto_datetime(tripdata_nodes[\u001b[38;5;124m'\u001b[39m\u001b[38;5;124mtime\u001b[39m\u001b[38;5;124m'\u001b[39m]) \u001b[38;5;241m-\u001b[39m pd\u001b[38;5;241m.\u001b[39mTimestamp(\u001b[38;5;124m\"\u001b[39m\u001b[38;5;124m1970-01-01\u001b[39m\u001b[38;5;124m\"\u001b[39m)\u001b[38;5;241m.\u001b[39mtz_localize(\u001b[38;5;124m\"\u001b[39m\u001b[38;5;124mUTC\u001b[39m\u001b[38;5;124m\"\u001b[39m)) \u001b[38;5;241m/\u001b[39m\u001b[38;5;241m/\u001b[39m pd\u001b[38;5;241m.\u001b[39mTimedelta(\u001b[38;5;124m\"\u001b[39m\u001b[38;5;124m1s\u001b[39m\u001b[38;5;124m\"\u001b[39m)\n\u001b[0;32m---> 16\u001b[0m tripdata_nodes \u001b[38;5;241m=\u001b[39m \u001b[43mtripdata\u001b[49m\u001b[38;5;241m.\u001b[39mrename(columns \u001b[38;5;241m=\u001b[39m {\u001b[38;5;124m'\u001b[39m\u001b[38;5;124mtime\u001b[39m\u001b[38;5;124m'\u001b[39m:\u001b[38;5;124m'\u001b[39m\u001b[38;5;124mtimestamp\u001b[39m\u001b[38;5;124m'\u001b[39m})\n\u001b[1;32m     17\u001b[0m tripdata_nodes \u001b[38;5;241m=\u001b[39m tripdata_nodes[[\u001b[38;5;124m'\u001b[39m\u001b[38;5;124mele\u001b[39m\u001b[38;5;124m'\u001b[39m, \u001b[38;5;124m'\u001b[39m\u001b[38;5;124mtimestamp\u001b[39m\u001b[38;5;124m'\u001b[39m, \u001b[38;5;124m'\u001b[39m\u001b[38;5;124msat\u001b[39m\u001b[38;5;124m'\u001b[39m, \u001b[38;5;124m'\u001b[39m\u001b[38;5;124mgeometry\u001b[39m\u001b[38;5;124m'\u001b[39m]]\n\u001b[1;32m     19\u001b[0m tripdata_edges \u001b[38;5;241m=\u001b[39m mm_utils\u001b[38;5;241m.\u001b[39mpoint_to_traj(tripdata_nodes, columns \u001b[38;5;241m=\u001b[39m {\u001b[38;5;124m'\u001b[39m\u001b[38;5;124mele\u001b[39m\u001b[38;5;124m'\u001b[39m: \u001b[38;5;124m'\u001b[39m\u001b[38;5;124maverage\u001b[39m\u001b[38;5;124m'\u001b[39m,\n\u001b[1;32m     20\u001b[0m                                                                   \u001b[38;5;124m'\u001b[39m\u001b[38;5;124mtimestamp\u001b[39m\u001b[38;5;124m'\u001b[39m:\u001b[38;5;124m'\u001b[39m\u001b[38;5;124mfirst\u001b[39m\u001b[38;5;124m'\u001b[39m,\n\u001b[1;32m     21\u001b[0m                                                                   \u001b[38;5;124m'\u001b[39m\u001b[38;5;124msat\u001b[39m\u001b[38;5;124m'\u001b[39m:\u001b[38;5;124m'\u001b[39m\u001b[38;5;124mfirst\u001b[39m\u001b[38;5;124m'\u001b[39m})\n",
      "\u001b[0;31mNameError\u001b[0m: name 'tripdata' is not defined"
     ]
    }
   ],
   "source": [
    "\n",
    "tripdata_nodes = gpd.read_file('7-15-2022.gpx', layer = 'track_points')\n",
    "    \n",
    "with open('imu7-15-22 2_16_02.csv', mode = 'r') as f:\n",
    "    tripdata_imu = csv.reader(f)\n",
    "    tripdata_imu = pd.DataFrame(tripdata_imu)\n",
    "\n",
    "# First we clean up the tripdata\n",
    "tripdata_nodes = tripdata_nodes.dropna(axis=1, how = 'all')\n",
    "\n",
    "# Let's convert the time into UNIX timestamps\n",
    "\n",
    "from datetime import datetime as dt\n",
    "import time\n",
    "\n",
    "tripdata_nodes['time'] = (pd.to_datetime(tripdata_nodes['time']) - pd.Timestamp(\"1970-01-01\").tz_localize(\"UTC\")) // pd.Timedelta(\"1s\")\n",
    "tripdata_nodes = tripdata.rename(columns = {'time':'timestamp'})\n",
    "tripdata_nodes = tripdata_nodes[['ele', 'timestamp', 'sat', 'geometry']]\n",
    "\n",
    "tripdata_edges = mm_utils.point_to_traj(tripdata_nodes, columns = {'ele': 'average',\n",
    "                                                                  'timestamp':'first',\n",
    "                                                                  'sat':'first'})\n",
    "\n",
    "# Now lets work on the IMU data.\n",
    "\n",
    "tripdata_imu[0] = tripdata_imu[0].astype(float)\n",
    "\n",
    "accel = []\n",
    "for i in range(len(tripdata_imu)):\n",
    "    row = tripdata_imu[[2,3,4]].loc[0]\n",
    "    accel.append((float(tripdata_imu[[2,3,4]].loc[i].iloc[0]),\n",
    "                  float(tripdata_imu[[2,3,4]].loc[i].iloc[1]),\n",
    "                  float(tripdata_imu[[2,3,4]].loc[i].iloc[2])))\n",
    "\n",
    "    \n",
    "#tripdata_imu = tripdata_imu.rename(columns = {'0':'timestamp', '})\n",
    "\n",
    "# We need to convert the times to UNIX timestamps.\n",
    "    \n",
    "timediff = dt.strptime('2022-07-15T02:16:02', '%Y-%m-%dT%H:%M:%S').timestamp() - float(tripdata_imu[0][0])\n",
    "\n",
    "# Not going to overwrite tripdata_imu yet because we haven't done gyro yet\n",
    "newdf = pd.DataFrame({'timestamp': tripdata_imu[0] + timediff, 'accelerometer' : accel,})\n",
    "\n",
    "# We will separate the gyroscope data for later because it isn't synchronous with the rest of the data\n",
    "# We will simply fuse this at the end\n",
    "\n",
    "gyro = []\n",
    "gyrotime = []\n",
    "\n",
    "for i in range(len(tripdata_imu)):\n",
    "    if tripdata_imu[5].loc[i] is not None:\n",
    "        if float(tripdata_imu[5].loc[i]) == 4:\n",
    "            gyrotime.append(float(newdf['timestamp'].loc[i]))\n",
    "            gyro.append((float(tripdata_imu[[6,7,8]].loc[i].iloc[0]),\n",
    "                      float(tripdata_imu[[6,7,8]].loc[i].iloc[1]),\n",
    "                      float(tripdata_imu[[6,7,8]].loc[i].iloc[2])))\n",
    "\n",
    "tripdata_gyro = pd.DataFrame({'timestamp':gyrotime, 'gyroscope':gyro})\n",
    "\n",
    "tripdata_imu = newdf\n"
   ]
  },
  {
   "cell_type": "code",
   "execution_count": null,
   "id": "3680f76a-b5ab-4419-bf2c-c7e50d5bb515",
   "metadata": {},
   "outputs": [],
   "source": []
  },
  {
   "cell_type": "markdown",
   "id": "c8b83198-f331-45e2-8a07-135357d10de4",
   "metadata": {},
   "source": [
    "Now let's fuse!"
   ]
  },
  {
   "cell_type": "code",
   "execution_count": null,
   "id": "fd49b4b5-967e-4a18-9c93-b5138be61bd7",
   "metadata": {},
   "outputs": [],
   "source": [
    "tripdata_nodes = mm_utils.fuse(mm_utils.fuse(tripdata_nodes, tripdata_imu, 'timestamp', 'nearest neighbor'), tripdata_gyro, 'timestamp', 'nearest neighbor')"
   ]
  },
  {
   "cell_type": "code",
   "execution_count": null,
   "id": "bb0320ba-94a4-488c-976a-0b91c0e13dd8",
   "metadata": {},
   "outputs": [
    {
     "data": {
      "text/plain": [
       "<AxesSubplot:>"
      ]
     },
     "execution_count": 199,
     "metadata": {},
     "output_type": "execute_result"
    },
    {
     "data": {
      "image/png": "[encoded data removed]",
      "text/plain": [
       "<Figure size 432x288 with 1 Axes>"
      ]
     },
     "metadata": {
      "needs_background": "light"
     },
     "output_type": "display_data"
    }
   ],
   "source": [
    "tripdata_nodes.plot()"
   ]
  },
  {
   "cell_type": "code",
   "execution_count": null,
   "id": "87654e09-f085-4543-80db-7c80375c5754",
   "metadata": {},
   "outputs": [],
   "source": [
    "from datetime import datetime as dt\n",
    "import time\n",
    "\n",
    "df = []\n",
    "for item in data:\n",
    "    date_str=item['timestamp']\n",
    "    if date_str.find('.') != -1:\n",
    "        date_str = date_str[:date_str.find('.')-1]\n",
    "    elif date_str.find('Z') != -1:\n",
    "        date_str = date_str[:date_str.find('Z')]\n",
    "    \n",
    "    date_obj = dt.strptime(date_str, '%Y-%m-%dT%H:%M:%S')\n",
    "    tm = time.mktime(date_obj.timetuple())\n",
    "    df.append({'type': 'Feature',\n",
    "                 'geometry': {\n",
    "                 'type': 'Point',\n",
    "                 'coordinates': [item['longitudeE7']/10000000, item['latitudeE7']/10000000]\n",
    "                 },\n",
    "                'properties': {\n",
    "                'timestamp': tm,\n",
    "                'altitude': item['altitude'],\n",
    "                'velocity': item['velocity'],\n",
    "                'heading': item['heading'],\n",
    "                'accuracy': item['accuracy']\n",
    "                }}\n",
    "                )"
   ]
  },
  {
   "cell_type": "code",
   "execution_count": null,
   "id": "aef89fff-0724-4a1a-ae46-68a4ea62f43f",
   "metadata": {},
   "outputs": [],
   "source": [
    "geojsonf = {\"type\": \"FeatureCollection\", \"features\": df}"
   ]
  },
  {
   "cell_type": "code",
   "execution_count": null,
   "id": "6955d040-498e-40bd-89f2-cdc91c9c9f5a",
   "metadata": {},
   "outputs": [
    {
     "data": {
      "text/plain": [
       "'{\"type\":\"FeatureCollection\",\"features\":[{\"type\":\"Feature\",\"geometry\":{\"type\":\"Point\",\"coordinates\":[140.8726359,38.259086]},\"properties\":{\"timestamp\":1657675860.0,\"altitude\":81,\"velocity\":0,\"heading\":121,\"accuracy\":6}},{\"type\":\"Feature\",\"geometry\":{\"type\":\"Point\",\"coordinates\":[140.872531,38.2590354]},\"properties\":{\"timestamp\":1657675804.0,\"altitude\":81,\"velocity\":0,\"heading\":180,\"accuracy\":11}},{\"type\":\"Feature\",\"geometry\":{\"type\":\"Point\",\"coordinates\":[140.8803704,38.2568974]},\"properties\":{\"timestamp\":1657684680.0,\"altitude\":96,\"velocity\":2,\"heading\":39,\"accuracy\":46}},{\"type\":\"Feature\",\"geometry\":{\"type\":\"Point\",\"coordinates\":[140.8724334,38.2604857]},\"properties\":{\"timestamp\":1657675803.0,\"altitude\":81,\"velocity\":0,\"heading\":169,\"accuracy\":13}},{\"type\":\"Feature\",\"geometry\":{\"type\":\"Point\",\"coordinates\":[140.8723997,38.2596131]},\"properties\":{\"timestamp\":1657675715.0,\"altitude\":84,\"velocity\":3,\"heading\":2,\"accuracy\":18}},{\"type\":\"Feature\",\"geometry\":{\"type\":\"Point\",\"coordinates\":[140.8729875,38.2575963]},\"properties\":{\"timestamp\":1657675529.0,\"altitude\":80,\"velocity\":0,\"heading\":313,\"accuracy\":9}},{\"type\":\"Feature\",\"geometry\":{\"type\":\"Point\",\"coordinates\":[140.873347,38.256655]},\"properties\":{\"timestamp\":1657675382.0,\"altitude\":78,\"velocity\":1,\"heading\":347,\"accuracy\":12}},{\"type\":\"Feature\",\"geometry\":{\"type\":\"Point\",\"coordinates\":[140.8735106,38.2559842]},\"properties\":{\"timestamp\":1657675254.0,\"altitude\":77,\"velocity\":1,\"heading\":183,\"accuracy\":6}},{\"type\":\"Feature\",\"geometry\":{\"type\":\"Point\",\"coordinates\":[140.8733385,38.2561122]},\"properties\":{\"timestamp\":1657675239.0,\"altitude\":78,\"velocity\":0,\"heading\":240,\"accuracy\":9}},{\"type\":\"Feature\",\"geometry\":{\"type\":\"Point\",\"coordinates\":[140.873373,38.2561287]},\"properties\":{\"timestamp\":1657675202.0,\"altitude\":78,\"velocity\":0,\"heading\":29,\"accuracy\":6}},{\"type\":\"Feature\",\"geometry\":{\"type\":\"Point\",\"coordinates\":[140.8732571,38.2561592]},\"properties\":{\"timestamp\":1657675200.0,\"altitude\":78,\"velocity\":1,\"heading\":129,\"accuracy\":12}},{\"type\":\"Feature\",\"geometry\":{\"type\":\"Point\",\"coordinates\":[140.8719973,38.2557651]},\"properties\":{\"timestamp\":1657674265.0,\"altitude\":97,\"velocity\":0,\"heading\":271,\"accuracy\":10}},{\"type\":\"Feature\",\"geometry\":{\"type\":\"Point\",\"coordinates\":[140.8719975,38.2557652]},\"properties\":{\"timestamp\":1657674249.0,\"altitude\":97,\"velocity\":0,\"heading\":20,\"accuracy\":12}},{\"type\":\"Feature\",\"geometry\":{\"type\":\"Point\",\"coordinates\":[140.8719972,38.255765]},\"properties\":{\"timestamp\":1657674233.0,\"altitude\":97,\"velocity\":0,\"heading\":269,\"accuracy\":12}},{\"type\":\"Feature\",\"geometry\":{\"type\":\"Point\",\"coordinates\":[140.8719973,38.255765]},\"properties\":{\"timestamp\":1657674217.0,\"altitude\":94,\"velocity\":0,\"heading\":236,\"accuracy\":10}},{\"type\":\"Feature\",\"geometry\":{\"type\":\"Point\",\"coordinates\":[140.8719972,38.2557648]},\"properties\":{\"timestamp\":1657674201.0,\"altitude\":97,\"velocity\":0,\"heading\":270,\"accuracy\":11}},{\"type\":\"Feature\",\"geometry\":{\"type\":\"Point\",\"coordinates\":[140.8719974,38.2557648]},\"properties\":{\"timestamp\":1657674185.0,\"altitude\":96,\"velocity\":0,\"heading\":15,\"accuracy\":11}},{\"type\":\"Feature\",\"geometry\":{\"type\":\"Point\",\"coordinates\":[140.8719972,38.2557646]},\"properties\":{\"timestamp\":1657674170.0,\"altitude\":97,\"velocity\":0,\"heading\":270,\"accuracy\":13}},{\"type\":\"Feature\",\"geometry\":{\"type\":\"Point\",\"coordinates\":[140.8719974,38.2557645]},\"properties\":{\"timestamp\":1657674154.0,\"altitude\":97,\"velocity\":0,\"heading\":270,\"accuracy\":14}},{\"type\":\"Feature\",\"geometry\":{\"type\":\"Point\",\"coordinates\":[140.8719976,38.2557644]},\"properties\":{\"timestamp\":1657674139.0,\"altitude\":97,\"velocity\":0,\"heading\":0,\"accuracy\":15}},{\"type\":\"Feature\",\"geometry\":{\"type\":\"Point\",\"coordinates\":[140.8719978,38.2557644]},\"properties\":{\"timestamp\":1657674124.0,\"altitude\":93,\"velocity\":0,\"heading\":90,\"accuracy\":11}},{\"type\":\"Feature\",\"geometry\":{\"type\":\"Point\",\"coordinates\":[140.8719976,38.2557642]},\"properties\":{\"timestamp\":1657674108.0,\"altitude\":97,\"velocity\":0,\"heading\":57,\"accuracy\":10}},{\"type\":\"Feature\",\"geometry\":{\"type\":\"Point\",\"coordinates\":[140.8719974,38.2557641]},\"properties\":{\"timestamp\":1657674092.0,\"altitude\":96,\"velocity\":0,\"heading\":57,\"accuracy\":10}},{\"type\":\"Feature\",\"geometry\":{\"type\":\"Point\",\"coordinates\":[140.8719971,38.2557638]},\"properties\":{\"timestamp\":1657674077.0,\"altitude\":96,\"velocity\":0,\"heading\":224,\"accuracy\":10}},{\"type\":\"Feature\",\"geometry\":{\"type\":\"Point\",\"coordinates\":[140.8719968,38.2557636]},\"properties\":{\"timestamp\":1657674061.0,\"altitude\":96,\"velocity\":0,\"heading\":359,\"accuracy\":11}},{\"type\":\"Feature\",\"geometry\":{\"type\":\"Point\",\"coordinates\":[140.8719968,38.2557633]},\"properties\":{\"timestamp\":1657674046.0,\"altitude\":97,\"velocity\":0,\"heading\":38,\"accuracy\":10}},{\"type\":\"Feature\",\"geometry\":{\"type\":\"Point\",\"coordinates\":[140.8719964,38.2557628]},\"properties\":{\"timestamp\":1657674030.0,\"altitude\":96,\"velocity\":0,\"heading\":356,\"accuracy\":11}},{\"type\":\"Feature\",\"geometry\":{\"type\":\"Point\",\"coordinates\":[140.8719963,38.2557625]},\"properties\":{\"timestamp\":1657674014.0,\"altitude\":96,\"velocity\":0,\"heading\":90,\"accuracy\":11}},{\"type\":\"Feature\",\"geometry\":{\"type\":\"Point\",\"coordinates\":[140.871996,38.2557624]},\"properties\":{\"timestamp\":1657673998.0,\"altitude\":97,\"velocity\":0,\"heading\":49,\"accuracy\":11}},{\"type\":\"Feature\",\"geometry\":{\"type\":\"Point\",\"coordinates\":[140.8719953,38.255762]},\"properties\":{\"timestamp\":1657673983.0,\"altitude\":96,\"velocity\":0,\"heading\":14,\"accuracy\":10}},{\"type\":\"Feature\",\"geometry\":{\"type\":\"Point\",\"coordinates\":[140.8719954,38.2557617]},\"properties\":{\"timestamp\":1657673967.0,\"altitude\":96,\"velocity\":0,\"heading\":90,\"accuracy\":10}},{\"type\":\"Feature\",\"geometry\":{\"type\":\"Point\",\"coordinates\":[140.8719964,38.2557614]},\"properties\":{\"timestamp\":1657673951.0,\"altitude\":97,\"velocity\":0,\"heading\":276,\"accuracy\":14}},{\"type\":\"Feature\",\"geometry\":{\"type\":\"Point\",\"coordinates\":[140.8719974,38.2557611]},\"properties\":{\"timestamp\":1657673921.0,\"altitude\":97,\"velocity\":0,\"heading\":48,\"accuracy\":18}},{\"type\":\"Feature\",\"geometry\":{\"type\":\"Point\",\"coordinates\":[140.871997,38.255761]},\"properties\":{\"timestamp\":1657673906.0,\"altitude\":97,\"velocity\":0,\"heading\":90,\"accuracy\":20}},{\"type\":\"Feature\",\"geometry\":{\"type\":\"Point\",\"coordinates\":[140.8719972,38.2557614]},\"properties\":{\"timestamp\":1657673890.0,\"altitude\":97,\"velocity\":0,\"heading\":159,\"accuracy\":15}},{\"type\":\"Feature\",\"geometry\":{\"type\":\"Point\",\"coordinates\":[140.8719972,38.2557617]},\"properties\":{\"timestamp\":1657673874.0,\"altitude\":97,\"velocity\":0,\"heading\":238,\"accuracy\":23}},{\"type\":\"Feature\",\"geometry\":{\"type\":\"Point\",\"coordinates\":[140.8719986,38.2557641]},\"properties\":{\"timestamp\":1657673859.0,\"altitude\":96,\"velocity\":0,\"heading\":28,\"accuracy\":14}},{\"type\":\"Feature\",\"geometry\":{\"type\":\"Point\",\"coordinates\":[140.8719985,38.255763]},\"properties\":{\"timestamp\":1657673820.0,\"altitude\":97,\"velocity\":0,\"heading\":90,\"accuracy\":12}},{\"type\":\"Feature\",\"geometry\":{\"type\":\"Point\",\"coordinates\":[140.8719984,38.255763]},\"properties\":{\"timestamp\":1657673820.0,\"altitude\":97,\"velocity\":0,\"heading\":122,\"accuracy\":10}},{\"type\":\"Feature\",\"geometry\":{\"type\":\"Point\",\"coordinates\":[140.8719978,38.2557629]},\"properties\":{\"timestamp\":1657673764.0,\"altitude\":97,\"velocity\":0,\"heading\":295,\"accuracy\":11}},{\"type\":\"Feature\",\"geometry\":{\"type\":\"Point\",\"coordinates\":[140.8719972,38.2557625]},\"properties\":{\"timestamp\":1657673791.0,\"altitude\":97,\"velocity\":0,\"heading\":0,\"accuracy\":10}},{\"type\":\"Feature\",\"geometry\":{\"type\":\"Point\",\"coordinates\":[140.8719971,38.2557617]},\"properties\":{\"timestamp\":1657673776.0,\"altitude\":97,\"velocity\":0,\"heading\":349,\"accuracy\":11}},{\"type\":\"Feature\",\"geometry\":{\"type\":\"Point\",\"coordinates\":[140.8719963,38.2557601]},\"properties\":{\"timestamp\":1657673761.0,\"altitude\":97,\"velocity\":0,\"heading\":59,\"accuracy\":10}},{\"type\":\"Feature\",\"geometry\":{\"type\":\"Point\",\"coordinates\":[140.8719969,38.2557609]},\"properties\":{\"timestamp\":1657673745.0,\"altitude\":97,\"velocity\":0,\"heading\":336,\"accuracy\":10}},{\"type\":\"Feature\",\"geometry\":{\"type\":\"Point\",\"coordinates\":[140.8719969,38.2557798]},\"properties\":{\"timestamp\":1657673715.0,\"altitude\":97,\"velocity\":0,\"heading\":5,\"accuracy\":13}},{\"type\":\"Feature\",\"geometry\":{\"type\":\"Point\",\"coordinates\":[140.871996,38.2557589]},\"properties\":{\"timestamp\":1657673699.0,\"altitude\":97,\"velocity\":0,\"heading\":113,\"accuracy\":13}},{\"type\":\"Feature\",\"geometry\":{\"type\":\"Point\",\"coordinates\":[140.8719961,38.2557586]},\"properties\":{\"timestamp\":1657673684.0,\"altitude\":96,\"velocity\":0,\"heading\":278,\"accuracy\":12}},{\"type\":\"Feature\",\"geometry\":{\"type\":\"Point\",\"coordinates\":[140.871996,38.2557559]},\"properties\":{\"timestamp\":1657673653.0,\"altitude\":97,\"velocity\":0,\"heading\":6,\"accuracy\":11}},{\"type\":\"Feature\",\"geometry\":{\"type\":\"Point\",\"coordinates\":[140.8719968,38.2557553]},\"properties\":{\"timestamp\":1657673584.0,\"altitude\":97,\"velocity\":0,\"heading\":285,\"accuracy\":11}},{\"type\":\"Feature\",\"geometry\":{\"type\":\"Point\",\"coordinates\":[140.8719949,38.2557537]},\"properties\":{\"timestamp\":1657673607.0,\"altitude\":97,\"velocity\":0,\"heading\":252,\"accuracy\":10}},{\"type\":\"Feature\",\"geometry\":{\"type\":\"Point\",\"coordinates\":[140.871995,38.2557522]},\"properties\":{\"timestamp\":1657673591.0,\"altitude\":97,\"velocity\":0,\"heading\":345,\"accuracy\":10}},{\"type\":\"Feature\",\"geometry\":{\"type\":\"Point\",\"coordinates\":[140.8719956,38.25575]},\"properties\":{\"timestamp\":1657673576.0,\"altitude\":97,\"velocity\":0,\"heading\":218,\"accuracy\":10}},{\"type\":\"Feature\",\"geometry\":{\"type\":\"Point\",\"coordinates\":[140.8719974,38.2557479]},\"properties\":{\"timestamp\":1657673561.0,\"altitude\":97,\"velocity\":0,\"heading\":182,\"accuracy\":10}},{\"type\":\"Feature\",\"geometry\":{\"type\":\"Point\",\"coordinates\":[140.8719959,38.2557433]},\"properties\":{\"timestamp\":1657673545.0,\"altitude\":97,\"velocity\":0,\"heading\":4,\"accuracy\":11}},{\"type\":\"Feature\",\"geometry\":{\"type\":\"Point\",\"coordinates\":[140.872016,38.2557251]},\"properties\":{\"timestamp\":1657673529.0,\"altitude\":96,\"velocity\":1,\"heading\":88,\"accuracy\":20}},{\"type\":\"Feature\",\"geometry\":{\"type\":\"Point\",\"coordinates\":[140.8720607,38.2556505]},\"properties\":{\"timestamp\":1657673482.0,\"altitude\":96,\"velocity\":4,\"heading\":162,\"accuracy\":12}},{\"type\":\"Feature\",\"geometry\":{\"type\":\"Point\",\"coordinates\":[140.871569,38.2562093]},\"properties\":{\"timestamp\":1657671543.0,\"altitude\":97,\"velocity\":1,\"heading\":314,\"accuracy\":46}},{\"type\":\"Feature\",\"geometry\":{\"type\":\"Point\",\"coordinates\":[140.871569,38.2562093]},\"properties\":{\"timestamp\":1657671300.0,\"altitude\":97,\"velocity\":1,\"heading\":314,\"accuracy\":46}},{\"type\":\"Feature\",\"geometry\":{\"type\":\"Point\",\"coordinates\":[140.8734553,38.2550764]},\"properties\":{\"timestamp\":1657649711.0,\"altitude\":81,\"velocity\":0,\"heading\":333,\"accuracy\":10}},{\"type\":\"Feature\",\"geometry\":{\"type\":\"Point\",\"coordinates\":[140.8734534,38.2551264]},\"properties\":{\"timestamp\":1657649696.0,\"altitude\":81,\"velocity\":0,\"heading\":181,\"accuracy\":6}},{\"type\":\"Feature\",\"geometry\":{\"type\":\"Point\",\"coordinates\":[140.8734915,38.2551388]},\"properties\":{\"timestamp\":1657649681.0,\"altitude\":75,\"velocity\":1,\"heading\":65,\"accuracy\":5}},{\"type\":\"Feature\",\"geometry\":{\"type\":\"Point\",\"coordinates\":[140.873307,38.2550427]},\"properties\":{\"timestamp\":1657649665.0,\"altitude\":75,\"velocity\":0,\"heading\":62,\"accuracy\":7}},{\"type\":\"Feature\",\"geometry\":{\"type\":\"Point\",\"coordinates\":[140.8731229,38.2549266]},\"properties\":{\"timestamp\":1657649647.0,\"altitude\":75,\"velocity\":1,\"heading\":83,\"accuracy\":6}},{\"type\":\"Feature\",\"geometry\":{\"type\":\"Point\",\"coordinates\":[140.8728005,38.254778]},\"properties\":{\"timestamp\":1657649617.0,\"altitude\":79,\"velocity\":1,\"heading\":77,\"accuracy\":6}},{\"type\":\"Feature\",\"geometry\":{\"type\":\"Point\",\"coordinates\":[140.8723616,38.2547162]},\"properties\":{\"timestamp\":1657649599.0,\"altitude\":79,\"velocity\":1,\"heading\":184,\"accuracy\":11}},{\"type\":\"Feature\",\"geometry\":{\"type\":\"Point\",\"coordinates\":[140.872565,38.2550586]},\"properties\":{\"timestamp\":1657649581.0,\"altitude\":79,\"velocity\":0,\"heading\":154,\"accuracy\":5}},{\"type\":\"Feature\",\"geometry\":{\"type\":\"Point\",\"coordinates\":[140.8725248,38.2551917]},\"properties\":{\"timestamp\":1657649565.0,\"altitude\":79,\"velocity\":0,\"heading\":187,\"accuracy\":7}},{\"type\":\"Feature\",\"geometry\":{\"type\":\"Point\",\"coordinates\":[140.8723935,38.2550868]},\"properties\":{\"timestamp\":1657649547.0,\"altitude\":76,\"velocity\":1,\"heading\":157,\"accuracy\":10}},{\"type\":\"Feature\",\"geometry\":{\"type\":\"Point\",\"coordinates\":[140.8725749,38.2558377]},\"properties\":{\"timestamp\":1657647180.0,\"altitude\":97,\"velocity\":5,\"heading\":80,\"accuracy\":43}},{\"type\":\"Feature\",\"geometry\":{\"type\":\"Point\",\"coordinates\":[140.8725749,38.2558377]},\"properties\":{\"timestamp\":1657647003.0,\"altitude\":97,\"velocity\":5,\"heading\":80,\"accuracy\":43}},{\"type\":\"Feature\",\"geometry\":{\"type\":\"Point\",\"coordinates\":[140.8725749,38.2558377]},\"properties\":{\"timestamp\":1657646884.0,\"altitude\":97,\"velocity\":5,\"heading\":80,\"accuracy\":43}},{\"type\":\"Feature\",\"geometry\":{\"type\":\"Point\",\"coordinates\":[140.8725749,38.2558377]},\"properties\":{\"timestamp\":1657646824.0,\"altitude\":97,\"velocity\":5,\"heading\":80,\"accuracy\":43}},{\"type\":\"Feature\",\"geometry\":{\"type\":\"Point\",\"coordinates\":[140.8725749,38.2558377]},\"properties\":{\"timestamp\":1657646822.0,\"altitude\":97,\"velocity\":5,\"heading\":80,\"accuracy\":43}},{\"type\":\"Feature\",\"geometry\":{\"type\":\"Point\",\"coordinates\":[140.8719139,38.2557505]},\"properties\":{\"timestamp\":1657645624.0,\"altitude\":97,\"velocity\":0,\"heading\":179,\"accuracy\":13}},{\"type\":\"Feature\",\"geometry\":{\"type\":\"Point\",\"coordinates\":[140.8719521,38.2557578]},\"properties\":{\"timestamp\":1657643481.0,\"altitude\":97,\"velocity\":0,\"heading\":242,\"accuracy\":22}},{\"type\":\"Feature\",\"geometry\":{\"type\":\"Point\",\"coordinates\":[140.8758851,38.2552916]},\"properties\":{\"timestamp\":1657642091.0,\"altitude\":97,\"velocity\":1,\"heading\":223,\"accuracy\":10}},{\"type\":\"Feature\",\"geometry\":{\"type\":\"Point\",\"coordinates\":[140.8759594,38.2554069]},\"properties\":{\"timestamp\":1657642073.0,\"altitude\":77,\"velocity\":0,\"heading\":307,\"accuracy\":10}},{\"type\":\"Feature\",\"geometry\":{\"type\":\"Point\",\"coordinates\":[140.8760207,38.2552848]},\"properties\":{\"timestamp\":1657642058.0,\"altitude\":108,\"velocity\":1,\"heading\":285,\"accuracy\":10}},{\"type\":\"Feature\",\"geometry\":{\"type\":\"Point\",\"coordinates\":[140.8763803,38.2552351]},\"properties\":{\"timestamp\":1657642040.0,\"altitude\":98,\"velocity\":1,\"heading\":247,\"accuracy\":11}},{\"type\":\"Feature\",\"geometry\":{\"type\":\"Point\",\"coordinates\":[140.8767136,38.255361]},\"properties\":{\"timestamp\":1657642022.0,\"altitude\":104,\"velocity\":0,\"heading\":247,\"accuracy\":8}},{\"type\":\"Feature\",\"geometry\":{\"type\":\"Point\",\"coordinates\":[140.8769944,38.2554556]},\"properties\":{\"timestamp\":1657641992.0,\"altitude\":99,\"velocity\":1,\"heading\":240,\"accuracy\":9}},{\"type\":\"Feature\",\"geometry\":{\"type\":\"Point\",\"coordinates\":[140.8773051,38.2556067]},\"properties\":{\"timestamp\":1657641974.0,\"altitude\":99,\"velocity\":1,\"heading\":241,\"accuracy\":5}},{\"type\":\"Feature\",\"geometry\":{\"type\":\"Point\",\"coordinates\":[140.8776019,38.2558132]},\"properties\":{\"timestamp\":1657641956.0,\"altitude\":76,\"velocity\":1,\"heading\":246,\"accuracy\":14}},{\"type\":\"Feature\",\"geometry\":{\"type\":\"Point\",\"coordinates\":[140.8778474,38.2559481]},\"properties\":{\"timestamp\":1657641941.0,\"altitude\":76,\"velocity\":1,\"heading\":279,\"accuracy\":7}},{\"type\":\"Feature\",\"geometry\":{\"type\":\"Point\",\"coordinates\":[140.8780853,38.255848]},\"properties\":{\"timestamp\":1657641926.0,\"altitude\":76,\"velocity\":1,\"heading\":248,\"accuracy\":3}},{\"type\":\"Feature\",\"geometry\":{\"type\":\"Point\",\"coordinates\":[140.8783,38.255981]},\"properties\":{\"timestamp\":1657641908.0,\"altitude\":115,\"velocity\":1,\"heading\":273,\"accuracy\":4}},{\"type\":\"Feature\",\"geometry\":{\"type\":\"Point\",\"coordinates\":[140.8784999,38.256031]},\"properties\":{\"timestamp\":1657641893.0,\"altitude\":76,\"velocity\":1,\"heading\":261,\"accuracy\":7}},{\"type\":\"Feature\",\"geometry\":{\"type\":\"Point\",\"coordinates\":[140.878865,38.2560988]},\"properties\":{\"timestamp\":1657641875.0,\"altitude\":76,\"velocity\":1,\"heading\":259,\"accuracy\":9}},{\"type\":\"Feature\",\"geometry\":{\"type\":\"Point\",\"coordinates\":[140.8791323,38.2561104]},\"properties\":{\"timestamp\":1657641857.0,\"altitude\":76,\"velocity\":1,\"heading\":252,\"accuracy\":6}},{\"type\":\"Feature\",\"geometry\":{\"type\":\"Point\",\"coordinates\":[140.8794112,38.2561485]},\"properties\":{\"timestamp\":1657641842.0,\"altitude\":76,\"velocity\":1,\"heading\":251,\"accuracy\":4}},{\"type\":\"Feature\",\"geometry\":{\"type\":\"Point\",\"coordinates\":[140.8796896,38.2562007]},\"properties\":{\"timestamp\":1657641824.0,\"altitude\":76,\"velocity\":0,\"heading\":283,\"accuracy\":10}}]}'"
      ]
     },
     "execution_count": 34,
     "metadata": {},
     "output_type": "execute_result"
    }
   ],
   "source": [
    "json.dumps(geojsonf)"
   ]
  },
  {
   "cell_type": "code",
   "execution_count": null,
   "id": "d024aa67-c5ee-47a4-b0ee-34255f75c532",
   "metadata": {},
   "outputs": [],
   "source": [
    "ubodt_gen = UBODTGenAlgorithm"
   ]
  },
  {
   "cell_type": "code",
   "execution_count": null,
   "id": "de31f817-2503-4420-b56f-b2f625107ab8",
   "metadata": {},
   "outputs": [],
   "source": [
    "# Data Input\n",
    "\n",
    "df_track = db.read_text('map-matching-dataset/*track.geojson').map(json.loads).map(gpd.GeoDataFrame.from_features)\n",
    "df_network_edges = db.read_text('map-matching-dataset/*arcs.geojson').map(json.loads).map(gpd.GeoDataFrame.from_features)\n",
    "df_network_nodes = db.read_text('map-matching-dataset/*nodes.geojson').map(json.loads).map(gpd.GeoDataFrame.from_features)\n",
    "df_gt = db.read_text('map-matching-dataset/*route.geojson').map(json.loads).map(gpd.GeoDataFrame.from_features)"
   ]
  },
  {
   "cell_type": "code",
   "execution_count": null,
   "id": "6c6f6006-260d-4cde-a70b-0ecb16b665ac",
   "metadata": {},
   "outputs": [],
   "source": [
    "# I wrote a utility function to do that, provided in mm_utils.\n",
    "\n",
    "df_track_edges = df_track.map(mm_utils.point_to_traj, columns = {'timestamp':'first',\n",
    "                                                       'altitude':'average',\n",
    "                                                       'speed':'average',\n",
    "                                                       'vertical accuracy':'last',\n",
    "                                                       'horizontal accuracy':'last',\n",
    "                                                       'oops':'notavalidmethod'})"
   ]
  },
  {
   "cell_type": "code",
   "execution_count": null,
   "id": "4426b05f-7ae3-4079-a187-a0bb1816a072",
   "metadata": {},
   "outputs": [
    {
     "name": "stderr",
     "output_type": "stream",
     "text": [
      "/home/gjgress/.local/lib/python3.10/site-packages/geopandas/_compat.py:112: UserWarning: The Shapely GEOS version (3.10.2-CAPI-1.16.0) is incompatible with the GEOS version PyGEOS was compiled with (3.10.1-CAPI-1.16.0). Conversions between both will be slow.\n",
      "  warnings.warn(\n"
     ]
    },
    {
     "data": {
      "text/html": [
       "<div>\n",
       "<style scoped>\n",
       "    .dataframe tbody tr th:only-of-type {\n",
       "        vertical-align: middle;\n",
       "    }\n",
       "\n",
       "    .dataframe tbody tr th {\n",
       "        vertical-align: top;\n",
       "    }\n",
       "\n",
       "    .dataframe thead th {\n",
       "        text-align: right;\n",
       "    }\n",
       "</style>\n",
       "<table border=\"1\" class=\"dataframe\">\n",
       "  <thead>\n",
       "    <tr style=\"text-align: right;\">\n",
       "      <th></th>\n",
       "      <th></th>\n",
       "      <th></th>\n",
       "      <th>osmid</th>\n",
       "      <th>oneway</th>\n",
       "      <th>lanes</th>\n",
       "      <th>name</th>\n",
       "      <th>highway</th>\n",
       "      <th>maxspeed</th>\n",
       "      <th>reversed</th>\n",
       "      <th>length</th>\n",
       "      <th>geometry</th>\n",
       "      <th>junction</th>\n",
       "      <th>ref</th>\n",
       "      <th>bridge</th>\n",
       "      <th>access</th>\n",
       "    </tr>\n",
       "    <tr>\n",
       "      <th>u</th>\n",
       "      <th>v</th>\n",
       "      <th>key</th>\n",
       "      <th></th>\n",
       "      <th></th>\n",
       "      <th></th>\n",
       "      <th></th>\n",
       "      <th></th>\n",
       "      <th></th>\n",
       "      <th></th>\n",
       "      <th></th>\n",
       "      <th></th>\n",
       "      <th></th>\n",
       "      <th></th>\n",
       "      <th></th>\n",
       "      <th></th>\n",
       "    </tr>\n",
       "  </thead>\n",
       "  <tbody>\n",
       "    <tr>\n",
       "      <th rowspan=\"2\" valign=\"top\">251071412</th>\n",
       "      <th>251071413</th>\n",
       "      <th>0</th>\n",
       "      <td>23211165</td>\n",
       "      <td>True</td>\n",
       "      <td>2</td>\n",
       "      <td>Дорожная улица</td>\n",
       "      <td>secondary</td>\n",
       "      <td>RU:urban</td>\n",
       "      <td>False</td>\n",
       "      <td>67.331</td>\n",
       "      <td>LINESTRING (54.25636 56.08177, 54.25649 56.081...</td>\n",
       "      <td>NaN</td>\n",
       "      <td>NaN</td>\n",
       "      <td>NaN</td>\n",
       "      <td>NaN</td>\n",
       "    </tr>\n",
       "    <tr>\n",
       "      <th>1334394278</th>\n",
       "      <th>0</th>\n",
       "      <td>98717177</td>\n",
       "      <td>False</td>\n",
       "      <td>NaN</td>\n",
       "      <td>Дорожная улица</td>\n",
       "      <td>secondary</td>\n",
       "      <td>40</td>\n",
       "      <td>False</td>\n",
       "      <td>172.199</td>\n",
       "      <td>LINESTRING (54.25636 56.08177, 54.25619 56.081...</td>\n",
       "      <td>NaN</td>\n",
       "      <td>NaN</td>\n",
       "      <td>NaN</td>\n",
       "      <td>NaN</td>\n",
       "    </tr>\n",
       "    <tr>\n",
       "      <th rowspan=\"2\" valign=\"top\">251071413</th>\n",
       "      <th>251071449</th>\n",
       "      <th>0</th>\n",
       "      <td>551008309</td>\n",
       "      <td>True</td>\n",
       "      <td>2</td>\n",
       "      <td>NaN</td>\n",
       "      <td>primary</td>\n",
       "      <td>RU:urban</td>\n",
       "      <td>False</td>\n",
       "      <td>101.261</td>\n",
       "      <td>LINESTRING (54.25736 56.08162, 54.25771 56.081...</td>\n",
       "      <td>roundabout</td>\n",
       "      <td>NaN</td>\n",
       "      <td>NaN</td>\n",
       "      <td>NaN</td>\n",
       "    </tr>\n",
       "    <tr>\n",
       "      <th>251071451</th>\n",
       "      <th>0</th>\n",
       "      <td>613962031</td>\n",
       "      <td>True</td>\n",
       "      <td>2</td>\n",
       "      <td>Дорожная улица</td>\n",
       "      <td>primary</td>\n",
       "      <td>RU:urban</td>\n",
       "      <td>False</td>\n",
       "      <td>113.457</td>\n",
       "      <td>LINESTRING (54.25736 56.08162, 54.25784 56.081...</td>\n",
       "      <td>NaN</td>\n",
       "      <td>NaN</td>\n",
       "      <td>NaN</td>\n",
       "      <td>NaN</td>\n",
       "    </tr>\n",
       "    <tr>\n",
       "      <th>251071449</th>\n",
       "      <th>1142048623</th>\n",
       "      <th>0</th>\n",
       "      <td>98696749</td>\n",
       "      <td>True</td>\n",
       "      <td>2</td>\n",
       "      <td>NaN</td>\n",
       "      <td>primary</td>\n",
       "      <td>RU:urban</td>\n",
       "      <td>False</td>\n",
       "      <td>125.390</td>\n",
       "      <td>LINESTRING (54.25831 56.08198, 54.25825 56.082...</td>\n",
       "      <td>roundabout</td>\n",
       "      <td>NaN</td>\n",
       "      <td>NaN</td>\n",
       "      <td>NaN</td>\n",
       "    </tr>\n",
       "    <tr>\n",
       "      <th>...</th>\n",
       "      <th>...</th>\n",
       "      <th>...</th>\n",
       "      <td>...</td>\n",
       "      <td>...</td>\n",
       "      <td>...</td>\n",
       "      <td>...</td>\n",
       "      <td>...</td>\n",
       "      <td>...</td>\n",
       "      <td>...</td>\n",
       "      <td>...</td>\n",
       "      <td>...</td>\n",
       "      <td>...</td>\n",
       "      <td>...</td>\n",
       "      <td>...</td>\n",
       "      <td>...</td>\n",
       "    </tr>\n",
       "    <tr>\n",
       "      <th rowspan=\"2\" valign=\"top\">9256176170</th>\n",
       "      <th>2202918588</th>\n",
       "      <th>0</th>\n",
       "      <td>210180076</td>\n",
       "      <td>False</td>\n",
       "      <td>NaN</td>\n",
       "      <td>NaN</td>\n",
       "      <td>tertiary</td>\n",
       "      <td>NaN</td>\n",
       "      <td>True</td>\n",
       "      <td>172.646</td>\n",
       "      <td>LINESTRING (54.91693 56.18193, 54.91723 56.182...</td>\n",
       "      <td>NaN</td>\n",
       "      <td>NaN</td>\n",
       "      <td>NaN</td>\n",
       "      <td>NaN</td>\n",
       "    </tr>\n",
       "    <tr>\n",
       "      <th>2205393003</th>\n",
       "      <th>0</th>\n",
       "      <td>[210456978, 795883044]</td>\n",
       "      <td>False</td>\n",
       "      <td>NaN</td>\n",
       "      <td>Молодёжная улица</td>\n",
       "      <td>residential</td>\n",
       "      <td>NaN</td>\n",
       "      <td>False</td>\n",
       "      <td>954.445</td>\n",
       "      <td>LINESTRING (54.91693 56.18193, 54.91679 56.181...</td>\n",
       "      <td>NaN</td>\n",
       "      <td>NaN</td>\n",
       "      <td>NaN</td>\n",
       "      <td>NaN</td>\n",
       "    </tr>\n",
       "    <tr>\n",
       "      <th rowspan=\"3\" valign=\"top\">9259596899</th>\n",
       "      <th>3171938934</th>\n",
       "      <th>0</th>\n",
       "      <td>113493078</td>\n",
       "      <td>False</td>\n",
       "      <td>NaN</td>\n",
       "      <td>NaN</td>\n",
       "      <td>unclassified</td>\n",
       "      <td>NaN</td>\n",
       "      <td>True</td>\n",
       "      <td>29.798</td>\n",
       "      <td>LINESTRING (54.54212 56.24403, 54.54241 56.24382)</td>\n",
       "      <td>NaN</td>\n",
       "      <td>NaN</td>\n",
       "      <td>NaN</td>\n",
       "      <td>NaN</td>\n",
       "    </tr>\n",
       "    <tr>\n",
       "      <th>5634274214</th>\n",
       "      <th>0</th>\n",
       "      <td>113493078</td>\n",
       "      <td>False</td>\n",
       "      <td>NaN</td>\n",
       "      <td>NaN</td>\n",
       "      <td>unclassified</td>\n",
       "      <td>NaN</td>\n",
       "      <td>False</td>\n",
       "      <td>2157.653</td>\n",
       "      <td>LINESTRING (54.54212 56.24403, 54.54175 56.244...</td>\n",
       "      <td>NaN</td>\n",
       "      <td>NaN</td>\n",
       "      <td>NaN</td>\n",
       "      <td>NaN</td>\n",
       "    </tr>\n",
       "    <tr>\n",
       "      <th>1369859283</th>\n",
       "      <th>0</th>\n",
       "      <td>122645445</td>\n",
       "      <td>False</td>\n",
       "      <td>NaN</td>\n",
       "      <td>NaN</td>\n",
       "      <td>residential</td>\n",
       "      <td>NaN</td>\n",
       "      <td>True</td>\n",
       "      <td>1601.150</td>\n",
       "      <td>LINESTRING (54.54212 56.24403, 54.54221 56.244...</td>\n",
       "      <td>NaN</td>\n",
       "      <td>NaN</td>\n",
       "      <td>NaN</td>\n",
       "      <td>NaN</td>\n",
       "    </tr>\n",
       "  </tbody>\n",
       "</table>\n",
       "<p>4672 rows × 13 columns</p>\n",
       "</div>"
      ],
      "text/plain": [
       "                                            osmid  oneway lanes  \\\n",
       "u          v          key                                         \n",
       "251071412  251071413  0                  23211165    True     2   \n",
       "           1334394278 0                  98717177   False   NaN   \n",
       "251071413  251071449  0                 551008309    True     2   \n",
       "           251071451  0                 613962031    True     2   \n",
       "251071449  1142048623 0                  98696749    True     2   \n",
       "...                                           ...     ...   ...   \n",
       "9256176170 2202918588 0                 210180076   False   NaN   \n",
       "           2205393003 0    [210456978, 795883044]   False   NaN   \n",
       "9259596899 3171938934 0                 113493078   False   NaN   \n",
       "           5634274214 0                 113493078   False   NaN   \n",
       "           1369859283 0                 122645445   False   NaN   \n",
       "\n",
       "                                       name       highway  maxspeed reversed  \\\n",
       "u          v          key                                                      \n",
       "251071412  251071413  0      Дорожная улица     secondary  RU:urban    False   \n",
       "           1334394278 0      Дорожная улица     secondary        40    False   \n",
       "251071413  251071449  0                 NaN       primary  RU:urban    False   \n",
       "           251071451  0      Дорожная улица       primary  RU:urban    False   \n",
       "251071449  1142048623 0                 NaN       primary  RU:urban    False   \n",
       "...                                     ...           ...       ...      ...   \n",
       "9256176170 2202918588 0                 NaN      tertiary       NaN     True   \n",
       "           2205393003 0    Молодёжная улица   residential       NaN    False   \n",
       "9259596899 3171938934 0                 NaN  unclassified       NaN     True   \n",
       "           5634274214 0                 NaN  unclassified       NaN    False   \n",
       "           1369859283 0                 NaN   residential       NaN     True   \n",
       "\n",
       "                             length  \\\n",
       "u          v          key             \n",
       "251071412  251071413  0      67.331   \n",
       "           1334394278 0     172.199   \n",
       "251071413  251071449  0     101.261   \n",
       "           251071451  0     113.457   \n",
       "251071449  1142048623 0     125.390   \n",
       "...                             ...   \n",
       "9256176170 2202918588 0     172.646   \n",
       "           2205393003 0     954.445   \n",
       "9259596899 3171938934 0      29.798   \n",
       "           5634274214 0    2157.653   \n",
       "           1369859283 0    1601.150   \n",
       "\n",
       "                                                                    geometry  \\\n",
       "u          v          key                                                      \n",
       "251071412  251071413  0    LINESTRING (54.25636 56.08177, 54.25649 56.081...   \n",
       "           1334394278 0    LINESTRING (54.25636 56.08177, 54.25619 56.081...   \n",
       "251071413  251071449  0    LINESTRING (54.25736 56.08162, 54.25771 56.081...   \n",
       "           251071451  0    LINESTRING (54.25736 56.08162, 54.25784 56.081...   \n",
       "251071449  1142048623 0    LINESTRING (54.25831 56.08198, 54.25825 56.082...   \n",
       "...                                                                      ...   \n",
       "9256176170 2202918588 0    LINESTRING (54.91693 56.18193, 54.91723 56.182...   \n",
       "           2205393003 0    LINESTRING (54.91693 56.18193, 54.91679 56.181...   \n",
       "9259596899 3171938934 0    LINESTRING (54.54212 56.24403, 54.54241 56.24382)   \n",
       "           5634274214 0    LINESTRING (54.54212 56.24403, 54.54175 56.244...   \n",
       "           1369859283 0    LINESTRING (54.54212 56.24403, 54.54221 56.244...   \n",
       "\n",
       "                             junction  ref bridge access  \n",
       "u          v          key                                 \n",
       "251071412  251071413  0           NaN  NaN    NaN    NaN  \n",
       "           1334394278 0           NaN  NaN    NaN    NaN  \n",
       "251071413  251071449  0    roundabout  NaN    NaN    NaN  \n",
       "           251071451  0           NaN  NaN    NaN    NaN  \n",
       "251071449  1142048623 0    roundabout  NaN    NaN    NaN  \n",
       "...                               ...  ...    ...    ...  \n",
       "9256176170 2202918588 0           NaN  NaN    NaN    NaN  \n",
       "           2205393003 0           NaN  NaN    NaN    NaN  \n",
       "9259596899 3171938934 0           NaN  NaN    NaN    NaN  \n",
       "           5634274214 0           NaN  NaN    NaN    NaN  \n",
       "           1369859283 0           NaN  NaN    NaN    NaN  \n",
       "\n",
       "[4672 rows x 13 columns]"
      ]
     },
     "execution_count": 29,
     "metadata": {},
     "output_type": "execute_result"
    },
    {
     "name": "stderr",
     "output_type": "stream",
     "text": [
      "/home/gjgress/.local/lib/python3.10/site-packages/geopandas/_compat.py:112: UserWarning: The Shapely GEOS version (3.10.2-CAPI-1.16.0) is incompatible with the GEOS version PyGEOS was compiled with (3.10.1-CAPI-1.16.0). Conversions between both will be slow.\n",
      "  warnings.warn(\n"
     ]
    },
    {
     "data": {
      "text/html": [
       "<div>\n",
       "<style scoped>\n",
       "    .dataframe tbody tr th:only-of-type {\n",
       "        vertical-align: middle;\n",
       "    }\n",
       "\n",
       "    .dataframe tbody tr th {\n",
       "        vertical-align: top;\n",
       "    }\n",
       "\n",
       "    .dataframe thead th {\n",
       "        text-align: right;\n",
       "    }\n",
       "</style>\n",
       "<table border=\"1\" class=\"dataframe\">\n",
       "  <thead>\n",
       "    <tr style=\"text-align: right;\">\n",
       "      <th></th>\n",
       "      <th>geometry</th>\n",
       "    </tr>\n",
       "  </thead>\n",
       "  <tbody>\n",
       "    <tr>\n",
       "      <th>0</th>\n",
       "      <td>LINESTRING (54.33588 56.11728, 54.33778 56.11567)</td>\n",
       "    </tr>\n",
       "    <tr>\n",
       "      <th>1</th>\n",
       "      <td>LINESTRING (54.33588 56.11728, 54.33451 56.11675)</td>\n",
       "    </tr>\n",
       "    <tr>\n",
       "      <th>2</th>\n",
       "      <td>LINESTRING (54.33588 56.11728, 54.33636 56.11747)</td>\n",
       "    </tr>\n",
       "    <tr>\n",
       "      <th>3</th>\n",
       "      <td>LINESTRING (54.25644 56.08185, 54.25735 56.08163)</td>\n",
       "    </tr>\n",
       "    <tr>\n",
       "      <th>4</th>\n",
       "      <td>LINESTRING (54.25644 56.08185, 54.25619 56.08163)</td>\n",
       "    </tr>\n",
       "    <tr>\n",
       "      <th>...</th>\n",
       "      <td>...</td>\n",
       "    </tr>\n",
       "    <tr>\n",
       "      <th>18191</th>\n",
       "      <td>LINESTRING (54.25050 56.09329, 54.25106 56.09310)</td>\n",
       "    </tr>\n",
       "    <tr>\n",
       "      <th>18192</th>\n",
       "      <td>LINESTRING (54.25050 56.09329, 54.24860 56.09393)</td>\n",
       "    </tr>\n",
       "    <tr>\n",
       "      <th>18193</th>\n",
       "      <td>LINESTRING (54.25050 56.09329, 54.25055 56.09333)</td>\n",
       "    </tr>\n",
       "    <tr>\n",
       "      <th>18194</th>\n",
       "      <td>LINESTRING (54.27674 56.09882, 54.27721 56.09894)</td>\n",
       "    </tr>\n",
       "    <tr>\n",
       "      <th>18195</th>\n",
       "      <td>LINESTRING (54.27674 56.09882, 54.27514 56.09841)</td>\n",
       "    </tr>\n",
       "  </tbody>\n",
       "</table>\n",
       "<p>18196 rows × 1 columns</p>\n",
       "</div>"
      ],
      "text/plain": [
       "                                                geometry\n",
       "0      LINESTRING (54.33588 56.11728, 54.33778 56.11567)\n",
       "1      LINESTRING (54.33588 56.11728, 54.33451 56.11675)\n",
       "2      LINESTRING (54.33588 56.11728, 54.33636 56.11747)\n",
       "3      LINESTRING (54.25644 56.08185, 54.25735 56.08163)\n",
       "4      LINESTRING (54.25644 56.08185, 54.25619 56.08163)\n",
       "...                                                  ...\n",
       "18191  LINESTRING (54.25050 56.09329, 54.25106 56.09310)\n",
       "18192  LINESTRING (54.25050 56.09329, 54.24860 56.09393)\n",
       "18193  LINESTRING (54.25050 56.09329, 54.25055 56.09333)\n",
       "18194  LINESTRING (54.27674 56.09882, 54.27721 56.09894)\n",
       "18195  LINESTRING (54.27674 56.09882, 54.27514 56.09841)\n",
       "\n",
       "[18196 rows x 1 columns]"
      ]
     },
     "execution_count": 29,
     "metadata": {},
     "output_type": "execute_result"
    }
   ],
   "source": [
    "\n",
    "\n",
    "test1 = bdd_to_network(df_network_nodes.take(1)[0])\n",
    "test1[1]\n",
    "df_network_edges.take(1)[0]"
   ]
  },
  {
   "cell_type": "code",
   "execution_count": null,
   "id": "a374b69a-5b20-4f2c-9bbc-f6e1bfcb7f3f",
   "metadata": {},
   "outputs": [
    {
     "name": "stderr",
     "output_type": "stream",
     "text": [
      "/home/gjgress/.local/lib/python3.10/site-packages/geopandas/_compat.py:112: UserWarning: The Shapely GEOS version (3.10.2-CAPI-1.16.0) is incompatible with the GEOS version PyGEOS was compiled with (3.10.1-CAPI-1.16.0). Conversions between both will be slow.\n",
      "  warnings.warn(\n",
      "/home/gjgress/.local/lib/python3.10/site-packages/geopandas/array.py:340: UserWarning: Geometry is in a geographic CRS. Results from 'sjoin_nearest' are likely incorrect. Use 'GeoSeries.to_crs()' to re-project geometries to a projected CRS before this operation.\n",
      "\n",
      "  warnings.warn(\n"
     ]
    }
   ],
   "source": [
    "test2 = test1[1].sjoin_nearest(df_network_edges.take(1)[0].set_crs(4326), how = 'inner')"
   ]
  },
  {
   "cell_type": "code",
   "execution_count": null,
   "id": "3aed595d-86f6-479a-ac79-71df18c9d084",
   "metadata": {},
   "outputs": [
    {
     "data": {
      "text/plain": [
       "<AxesSubplot:>"
      ]
     },
     "execution_count": 37,
     "metadata": {},
     "output_type": "execute_result"
    },
    {
     "data": {
      "image/png": "[encoded data removed]",
      "text/plain": [
       "<Figure size 432x288 with 1 Axes>"
      ]
     },
     "metadata": {
      "needs_background": "light"
     },
     "output_type": "display_data"
    }
   ],
   "source": [
    "test2.plot()"
   ]
  },
  {
   "cell_type": "code",
   "execution_count": null,
   "id": "80bd4de2-365c-4e94-97ce-7fb1c6c6c0da",
   "metadata": {},
   "outputs": [
    {
     "name": "stderr",
     "output_type": "stream",
     "text": [
      "/home/gjgress/.local/lib/python3.10/site-packages/geopandas/geodataframe.py:2334: UserWarning: `keep_geom_type=True` in overlay resulted in 122377 dropped geometries of different geometry types than df1 has. Set `keep_geom_type=False` to retain all geometries\n",
      "  return geopandas.overlay(\n"
     ]
    },
    {
     "data": {
      "text/plain": [
       "<AxesSubplot:>"
      ]
     },
     "execution_count": 36,
     "metadata": {},
     "output_type": "execute_result"
    },
    {
     "data": {
      "image/png": "[encoded data removed]",
      "text/plain": [
       "<Figure size 432x288 with 1 Axes>"
      ]
     },
     "metadata": {
      "needs_background": "light"
     },
     "output_type": "display_data"
    }
   ],
   "source": [
    "test2.overlay(test1[1], how='intersection').plot()"
   ]
  },
  {
   "cell_type": "code",
   "execution_count": null,
   "id": "ef1dc8a0-7bd6-4f89-b38f-cf127b47f1e8",
   "metadata": {},
   "outputs": [
    {
     "name": "stderr",
     "output_type": "stream",
     "text": [
      "/home/gjgress/.local/lib/python3.10/site-packages/geopandas/_compat.py:112: UserWarning: The Shapely GEOS version (3.10.2-CAPI-1.16.0) is incompatible with the GEOS version PyGEOS was compiled with (3.10.1-CAPI-1.16.0). Conversions between both will be slow.\n",
      "  warnings.warn(\n"
     ]
    },
    {
     "data": {
      "text/plain": [
       "<AxesSubplot:>"
      ]
     },
     "execution_count": 26,
     "metadata": {},
     "output_type": "execute_result"
    },
    {
     "data": {
      "image/png": "[encoded data removed]",
      "text/plain": [
       "<Figure size 432x288 with 1 Axes>"
      ]
     },
     "metadata": {
      "needs_background": "light"
     },
     "output_type": "display_data"
    }
   ],
   "source": [
    "df_network_edges.take(1)[0].plot()"
   ]
  },
  {
   "cell_type": "code",
   "execution_count": null,
   "id": "eef03954-767b-422c-8ac3-6bacf8f0b1af",
   "metadata": {},
   "outputs": [
    {
     "name": "stderr",
     "output_type": "stream",
     "text": [
      "/home/gjgress/.local/lib/python3.10/site-packages/geopandas/_compat.py:112: UserWarning: The Shapely GEOS version (3.10.2-CAPI-1.16.0) is incompatible with the GEOS version PyGEOS was compiled with (3.10.1-CAPI-1.16.0). Conversions between both will be slow.\n",
      "  warnings.warn(\n",
      "/home/gjgress/.local/lib/python3.10/site-packages/geopandas/_compat.py:112: UserWarning: The Shapely GEOS version (3.10.2-CAPI-1.16.0) is incompatible with the GEOS version PyGEOS was compiled with (3.10.1-CAPI-1.16.0). Conversions between both will be slow.\n",
      "  warnings.warn(\n"
     ]
    }
   ],
   "source": [
    "shortdf = dfbag.take(1)[0][['timestamp', 'altitude', 'vertical accuracy', 'horizontal accuracy','geometry']]\n",
    "speed = dfbag.take(1)[0][['timestamp','speed']]"
   ]
  },
  {
   "cell_type": "code",
   "execution_count": null,
   "id": "e133326c-445f-46dd-a645-326cd01765f0",
   "metadata": {},
   "outputs": [],
   "source": [
    "rng = np.random.default_rng()\n",
    "fakespeed1 = pd.DataFrame([])\n",
    "for i in speed.index[:-1]:\n",
    "    fakerow = pd.DataFrame([[speed.iloc[i][0] + rng.random()*1000,(speed.iloc[i][1] + speed.iloc[i+1][1])/2 + np.random.normal(0, (np.abs(speed.iloc[i][1] - speed.iloc[i+1][1]))/4)]], columns = ['timestamp','speed'], index = [i])\n",
    "    fakespeed1 = pd.concat([fakespeed1, fakerow])\n",
    "#fakespeed1 = fakespeed.sort_index().reset_index(drop=True)\n",
    "\n",
    "fakespeed2 = speed\n",
    "for i in speed.index[:-1]:\n",
    "    fakerow = pd.DataFrame([[speed.iloc[i][0] + rng.random()*1000,(speed.iloc[i][1] + speed.iloc[i+1][1])/2 + np.random.normal(0, (np.abs(speed.iloc[i][1] - speed.iloc[i+1][1]))/4)]], columns = ['timestamp','speed'], index = [i+0.5])\n",
    "    fakespeed2 = pd.concat([fakespeed2, fakerow])\n",
    "fakespeed2 = fakespeed2.sort_index().reset_index(drop=True)"
   ]
  },
  {
   "cell_type": "code",
   "execution_count": null,
   "id": "2bd05390-1634-4587-979c-703f00f24532",
   "metadata": {},
   "outputs": [
    {
     "data": {
      "text/plain": [
       "'speed'"
      ]
     },
     "execution_count": 20,
     "metadata": {},
     "output_type": "execute_result"
    }
   ],
   "source": [
    "fakespeed1.columns[1]"
   ]
  },
  {
   "cell_type": "code",
   "execution_count": null,
   "id": "74a3a13c-8570-41bf-a410-47ea4ede70f2",
   "metadata": {},
   "outputs": [
    {
     "name": "stdout",
     "output_type": "stream",
     "text": [
      "0      5.670000\n",
      "1      4.795244\n",
      "2      4.432739\n",
      "3      4.319257\n",
      "4      4.100000\n",
      "5      3.929557\n",
      "6      3.860000\n",
      "7      3.881983\n",
      "8      4.530589\n",
      "9      5.307742\n",
      "10     5.870000\n",
      "11     5.677451\n",
      "12     6.585098\n",
      "13     7.690000\n",
      "14     8.888340\n",
      "15     9.806581\n",
      "16    12.395370\n",
      "17    12.246513\n",
      "18    12.260000\n",
      "19    11.386794\n",
      "20     8.910000\n",
      "21     4.875845\n",
      "22     2.490000\n",
      "23     2.052125\n",
      "24     1.292621\n",
      "25     0.922850\n",
      "26     0.890000\n",
      "27     1.177310\n",
      "28     1.387889\n",
      "29     1.075231\n",
      "30     0.840000\n",
      "31     1.655779\n",
      "32     2.650000\n",
      "33     2.284484\n",
      "34     2.171593\n",
      "35     2.832277\n",
      "36     3.400000\n",
      "37     3.011903\n",
      "38     3.449538\n",
      "39     4.663751\n",
      "40     5.370000\n",
      "Name: speed, dtype: float64\n"
     ]
    }
   ],
   "source": [
    "from algorithms import mm_utils\n",
    "import importlib\n",
    "importlib.reload(mm_utils)\n",
    "\n",
    "print(mm_utils.fuse_simple(shortdf, fakespeed2,'average')['speed'])"
   ]
  },
  {
   "cell_type": "code",
   "execution_count": null,
   "id": "12eaed6d-5f12-41c8-83b7-c0ef671ce024",
   "metadata": {},
   "outputs": [
    {
     "name": "stdout",
     "output_type": "stream",
     "text": [
      "<class 'geopandas.geodataframe.GeoDataFrame'>\n",
      "0\n"
     ]
    }
   ],
   "source": [
    "main_data = gpd.GeoDataFrame([])\n",
    "print(type(main_data))\n",
    "if (type(main_data) != list) and ((type(main_data) != pd.DataFrame) and (type(main_data) != gpd.GeoDataFrame)):\n",
    "    print(1)\n",
    "else:\n",
    "    print(0)"
   ]
  },
  {
   "cell_type": "code",
   "execution_count": null,
   "id": "b8234ba1-f507-4647-90a6-5b992cd4186e",
   "metadata": {},
   "outputs": [],
   "source": [
    "# We load all the JSON files\n",
    "\n",
    "dfbag = db.read_text('BDD100K/train/*.json')"
   ]
  },
  {
   "cell_type": "code",
   "execution_count": null,
   "id": "a3614055-05ca-4eb2-b531-3310e3a8c686",
   "metadata": {},
   "outputs": [],
   "source": [
    "df = dfbag.map_partitions(json.loads)"
   ]
  },
  {
   "cell_type": "code",
   "execution_count": null,
   "id": "4007e8c6-0cf9-4818-bbc5-4a0211253d5a",
   "metadata": {},
   "outputs": [
    {
     "data": {
      "text/plain": [
       "70100"
      ]
     },
     "execution_count": 11,
     "metadata": {},
     "output_type": "execute_result"
    }
   ],
   "source": [
    "db1.npartitions"
   ]
  },
  {
   "cell_type": "code",
   "execution_count": null,
   "id": "59939bb0-0494-45f1-9882-13a0720b5b73",
   "metadata": {},
   "outputs": [
    {
     "name": "stdout",
     "output_type": "stream",
     "text": [
      "[Parallel(n_jobs=6)]: Using backend LokyBackend with 6 concurrent workers.\n"
     ]
    },
    {
     "ename": "AttributeError",
     "evalue": "'Bag' object has no attribute 'partitions'",
     "output_type": "error",
     "traceback": [
      "\u001b[0;31m---------------------------------------------------------------------------\u001b[0m",
      "\u001b[0;31mEmpty\u001b[0m                                     Traceback (most recent call last)",
      "File \u001b[0;32m~/.local/lib/python3.10/site-packages/joblib/parallel.py:822\u001b[0m, in \u001b[0;36mParallel.dispatch_one_batch\u001b[0;34m(self, iterator)\u001b[0m\n\u001b[1;32m    821\u001b[0m \u001b[38;5;28;01mtry\u001b[39;00m:\n\u001b[0;32m--> 822\u001b[0m     tasks \u001b[38;5;241m=\u001b[39m \u001b[38;5;28;43mself\u001b[39;49m\u001b[38;5;241;43m.\u001b[39;49m\u001b[43m_ready_batches\u001b[49m\u001b[38;5;241;43m.\u001b[39;49m\u001b[43mget\u001b[49m\u001b[43m(\u001b[49m\u001b[43mblock\u001b[49m\u001b[38;5;241;43m=\u001b[39;49m\u001b[38;5;28;43;01mFalse\u001b[39;49;00m\u001b[43m)\u001b[49m\n\u001b[1;32m    823\u001b[0m \u001b[38;5;28;01mexcept\u001b[39;00m queue\u001b[38;5;241m.\u001b[39mEmpty:\n\u001b[1;32m    824\u001b[0m     \u001b[38;5;66;03m# slice the iterator n_jobs * batchsize items at a time. If the\u001b[39;00m\n\u001b[1;32m    825\u001b[0m     \u001b[38;5;66;03m# slice returns less than that, then the current batchsize puts\u001b[39;00m\n\u001b[0;32m   (...)\u001b[0m\n\u001b[1;32m    828\u001b[0m     \u001b[38;5;66;03m# accordingly to distribute evenly the last items between all\u001b[39;00m\n\u001b[1;32m    829\u001b[0m     \u001b[38;5;66;03m# workers.\u001b[39;00m\n",
      "File \u001b[0;32m/usr/lib/python3.10/queue.py:168\u001b[0m, in \u001b[0;36mQueue.get\u001b[0;34m(self, block, timeout)\u001b[0m\n\u001b[1;32m    167\u001b[0m     \u001b[38;5;28;01mif\u001b[39;00m \u001b[38;5;129;01mnot\u001b[39;00m \u001b[38;5;28mself\u001b[39m\u001b[38;5;241m.\u001b[39m_qsize():\n\u001b[0;32m--> 168\u001b[0m         \u001b[38;5;28;01mraise\u001b[39;00m Empty\n\u001b[1;32m    169\u001b[0m \u001b[38;5;28;01melif\u001b[39;00m timeout \u001b[38;5;129;01mis\u001b[39;00m \u001b[38;5;28;01mNone\u001b[39;00m:\n",
      "\u001b[0;31mEmpty\u001b[0m: ",
      "\nDuring handling of the above exception, another exception occurred:\n",
      "\u001b[0;31mAttributeError\u001b[0m                            Traceback (most recent call last)",
      "File \u001b[0;32m<timed exec>:14\u001b[0m, in \u001b[0;36m<module>\u001b[0;34m\u001b[0m\n",
      "File \u001b[0;32m~/.local/lib/python3.10/site-packages/joblib/parallel.py:1043\u001b[0m, in \u001b[0;36mParallel.__call__\u001b[0;34m(self, iterable)\u001b[0m\n\u001b[1;32m   1034\u001b[0m \u001b[38;5;28;01mtry\u001b[39;00m:\n\u001b[1;32m   1035\u001b[0m     \u001b[38;5;66;03m# Only set self._iterating to True if at least a batch\u001b[39;00m\n\u001b[1;32m   1036\u001b[0m     \u001b[38;5;66;03m# was dispatched. In particular this covers the edge\u001b[39;00m\n\u001b[0;32m   (...)\u001b[0m\n\u001b[1;32m   1040\u001b[0m     \u001b[38;5;66;03m# was very quick and its callback already dispatched all the\u001b[39;00m\n\u001b[1;32m   1041\u001b[0m     \u001b[38;5;66;03m# remaining jobs.\u001b[39;00m\n\u001b[1;32m   1042\u001b[0m     \u001b[38;5;28mself\u001b[39m\u001b[38;5;241m.\u001b[39m_iterating \u001b[38;5;241m=\u001b[39m \u001b[38;5;28;01mFalse\u001b[39;00m\n\u001b[0;32m-> 1043\u001b[0m     \u001b[38;5;28;01mif\u001b[39;00m \u001b[38;5;28;43mself\u001b[39;49m\u001b[38;5;241;43m.\u001b[39;49m\u001b[43mdispatch_one_batch\u001b[49m\u001b[43m(\u001b[49m\u001b[43miterator\u001b[49m\u001b[43m)\u001b[49m:\n\u001b[1;32m   1044\u001b[0m         \u001b[38;5;28mself\u001b[39m\u001b[38;5;241m.\u001b[39m_iterating \u001b[38;5;241m=\u001b[39m \u001b[38;5;28mself\u001b[39m\u001b[38;5;241m.\u001b[39m_original_iterator \u001b[38;5;129;01mis\u001b[39;00m \u001b[38;5;129;01mnot\u001b[39;00m \u001b[38;5;28;01mNone\u001b[39;00m\n\u001b[1;32m   1046\u001b[0m     \u001b[38;5;28;01mwhile\u001b[39;00m \u001b[38;5;28mself\u001b[39m\u001b[38;5;241m.\u001b[39mdispatch_one_batch(iterator):\n",
      "File \u001b[0;32m~/.local/lib/python3.10/site-packages/joblib/parallel.py:833\u001b[0m, in \u001b[0;36mParallel.dispatch_one_batch\u001b[0;34m(self, iterator)\u001b[0m\n\u001b[1;32m    830\u001b[0m n_jobs \u001b[38;5;241m=\u001b[39m \u001b[38;5;28mself\u001b[39m\u001b[38;5;241m.\u001b[39m_cached_effective_n_jobs\n\u001b[1;32m    831\u001b[0m big_batch_size \u001b[38;5;241m=\u001b[39m batch_size \u001b[38;5;241m*\u001b[39m n_jobs\n\u001b[0;32m--> 833\u001b[0m islice \u001b[38;5;241m=\u001b[39m \u001b[38;5;28;43mlist\u001b[39;49m\u001b[43m(\u001b[49m\u001b[43mitertools\u001b[49m\u001b[38;5;241;43m.\u001b[39;49m\u001b[43mislice\u001b[49m\u001b[43m(\u001b[49m\u001b[43miterator\u001b[49m\u001b[43m,\u001b[49m\u001b[43m \u001b[49m\u001b[43mbig_batch_size\u001b[49m\u001b[43m)\u001b[49m\u001b[43m)\u001b[49m\n\u001b[1;32m    834\u001b[0m \u001b[38;5;28;01mif\u001b[39;00m \u001b[38;5;28mlen\u001b[39m(islice) \u001b[38;5;241m==\u001b[39m \u001b[38;5;241m0\u001b[39m:\n\u001b[1;32m    835\u001b[0m     \u001b[38;5;28;01mreturn\u001b[39;00m \u001b[38;5;28;01mFalse\u001b[39;00m\n",
      "File \u001b[0;32m<timed exec>:14\u001b[0m, in \u001b[0;36m<genexpr>\u001b[0;34m(.0)\u001b[0m\n",
      "\u001b[0;31mAttributeError\u001b[0m: 'Bag' object has no attribute 'partitions'"
     ]
    }
   ],
   "source": [
    "%%time\n",
    "\n",
    "from joblib import Parallel, delayed\n",
    "import sys\n",
    "\n",
    "def bdd_reformat(jsonf):        \n",
    "    listf = []\n",
    "    if jsonf.get('gps') != None:\n",
    "        for item in jsonf['gps']:\n",
    "            listf.append({\"type\": \"Feature\",\n",
    "          \"geometry\": {\n",
    "            \"type\": \"Point\",\n",
    "            \"coordinates\": [item[\"longitude\"], item[\"latitude\"]]\n",
    "          },\n",
    "          \"properties\": {\n",
    "            \"timestamp\": item[\"timestamp\"],\n",
    "            \"altitude\": item[\"altitude\"],\n",
    "            \"speed\": item[\"speed\"],\n",
    "            \"vertical accuracy\": item[\"vertical accuracy\"],\n",
    "            \"horizontal accuracy\": item[\"horizontal accuracy\"]\n",
    "          }})\n",
    "        geojsonf = {\"type\": \"FeatureCollection\", \"features\": listf}\n",
    "        dfjson = json.dumps(geojsonf)\n",
    "        return dfjson\n",
    "    elif jsonf.get('locations') != None:\n",
    "        dfjson = json.dumps(jsonf)\n",
    "        return dfjson\n",
    "\n",
    "\n",
    "# If you try to parallelize with Dask here, you'll run into some issues\n",
    "# Because there are thousands of partitions, Dask will attempt to schedule them all simultaneously\n",
    "# But Dask isn't built to schedule thousands of partitions (I think), so it will crash your kernel\n",
    "# Instead, we will use a more rudimentary parellelization process, and come back to Dask when the time is right\n",
    "\n",
    "\n",
    "#Parallel(n_jobs=6,verbose=100)(delayed(bdd_reformat)(db1.partitions[i].compute()) for i in range(db1.npartitions))\n"
   ]
  },
  {
   "cell_type": "code",
   "execution_count": null,
   "id": "5a1d431d-c0d6-411a-aa4e-3005fa8c26c9",
   "metadata": {},
   "outputs": [
    {
     "name": "stdout",
     "output_type": "stream",
     "text": [
      "CPU times: user 1e+03 ns, sys: 1e+03 ns, total: 2 µs\n",
      "Wall time: 5.01 µs\n"
     ]
    }
   ],
   "source": [
    "%time\n",
    "\n",
    "df_temp = df.map_partitions(bdd_reformat,meta = df)\n",
    "df_temp.compute()"
   ]
  },
  {
   "cell_type": "code",
   "execution_count": null,
   "id": "0385fc2f-fbcf-4c53-8d67-7dbe8005ed9f",
   "metadata": {},
   "outputs": [],
   "source": [
    "geofp = []\n",
    "\n",
    "for row in fp[\"gps\"]:\n",
    "    temp = {\"type\": \"Feature\",\n",
    "  \"geometry\": {\n",
    "    \"type\": \"Point\",\n",
    "    \"coordinates\": [row[\"longitude\"], row[\"latitude\"]]\n",
    "  },\n",
    "  \"properties\": {\n",
    "    \"timestamp\": row[\"timestamp\"],\n",
    "    \"altitude\": row[\"altitude\"],\n",
    "    \"speed\": row[\"speed\"],\n",
    "    \"vertical accuracy\": row[\"vertical accuracy\"],\n",
    "    \"horizontal accuracy\": row[\"horizontal accuracy\"]\n",
    "  }}\n",
    "    geofp.append(temp)\n",
    "\n",
    "geofp = {\"type\": \"FeatureCollection\", \"features\": geofp}\n",
    "        \n",
    "geojsonfp = json.dumps(geofp)\n",
    "with open('data.json', 'w') as f:\n",
    "  f.write(geojsonfp)\n",
    "\n",
    "# Enable GeoJSON driver\n",
    "fiona.drvsupport.supported_drivers[\"GeoJSON\"] = \"r\"\n",
    "\n",
    "tripdata1 = gpd.read_file(\"data.json\", enabled_drivers=\"GeoJSON\")"
   ]
  }
 ],
 "metadata": {
  "kernelspec": {
   "display_name": "",
   "name": ""
  },
  "language_info": {
   "name": ""
  }
 },
 "nbformat": 4,
 "nbformat_minor": 5
}
