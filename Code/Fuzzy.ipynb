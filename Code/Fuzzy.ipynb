{
 "cells": [
  {
   "cell_type": "code",
   "execution_count": 4,
   "id": "15f568f7",
   "metadata": {},
   "outputs": [],
   "source": [
    "import concurrent.futures\n",
    "import pandas as pd\n",
    "import geopandas as gpd\n",
    "from shapely.geometry import shape\n",
    "import networkx as nx\n",
    "import numpy as np\n",
    "import requests\n",
    "import json\n",
    "import matplotlib.pyplot as plt\n",
    "from urllib.parse import urljoin\n",
    "from shapely.geometry import Point, LineString, Polygon\n",
    "import pyproj \n",
    "import importlib\n",
    "# import algorithms.mm_utils\n",
    "# from FIS3 import FIS3\n",
    "# from function_util import *\n",
    "from datetime import datetime\n",
    "\n",
    "import preprocessing.downloader as dl\n",
    "import preprocessing.constants\n",
    "\n",
    "importlib.reload(dl)\n",
    "\n",
    "ids = dl.fetch_ids_on_envirocar(num_trajectories=3)\n",
    "for id in ids[0:1]:\n",
    "    gdf = dl.download_from_envirocar(id, use_cache=False)\n",
    "    gdf, nodes, edges = dl.to_fuzzy_AHP_input(gdf)"
   ]
  },
  {
   "cell_type": "code",
   "execution_count": 5,
   "id": "9177e827",
   "metadata": {},
   "outputs": [],
   "source": [
    "gdf.to_pickle('gdf_utm.pkl')\n",
    "edges.to_pickle('edges_utm.pkl')\n",
    "nodes.to_pickle('nodes_utm.pkl')"
   ]
  }
 ],
 "metadata": {
  "kernelspec": {
   "display_name": "Python (ox)",
   "language": "python",
   "name": "myenv"
  },
  "language_info": {
   "codemirror_mode": {
    "name": "ipython",
    "version": 3
   },
   "file_extension": ".py",
   "mimetype": "text/x-python",
   "name": "python",
   "nbconvert_exporter": "python",
   "pygments_lexer": "ipython3",
   "version": "3.11.4"
  }
 },
 "nbformat": 4,
 "nbformat_minor": 5
}
